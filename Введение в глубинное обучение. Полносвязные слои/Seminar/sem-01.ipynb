{
 "nbformat": 4,
 "nbformat_minor": 0,
 "metadata": {
  "colab": {
   "name": "sem-01.ipynb",
   "provenance": [],
   "collapsed_sections": [],
   "authorship_tag": "ABX9TyNIGpVhNlhGX4E6vIBSv3g1"
  },
  "kernelspec": {
   "name": "python3",
   "display_name": "Python 3"
  },
  "language_info": {
   "name": "python"
  },
  "widgets": {
   "application/vnd.jupyter.widget-state+json": {
    "9f74183f2faa4348a659d0360f6ff318": {
     "model_module": "@jupyter-widgets/controls",
     "model_name": "HBoxModel",
     "model_module_version": "1.5.0",
     "state": {
      "_dom_classes": [],
      "_model_module": "@jupyter-widgets/controls",
      "_model_module_version": "1.5.0",
      "_model_name": "HBoxModel",
      "_view_count": null,
      "_view_module": "@jupyter-widgets/controls",
      "_view_module_version": "1.5.0",
      "_view_name": "HBoxView",
      "box_style": "",
      "children": [
       "IPY_MODEL_5a57dddebd874cfe8414a0cd1d600b38",
       "IPY_MODEL_c16626e4a788456c94f6065822ec59d5",
       "IPY_MODEL_3058f23a17c649f9bbf90e4ff4b6a653"
      ],
      "layout": "IPY_MODEL_bae7168e87fb427ea73a20b2b8ef3c82"
     }
    },
    "5a57dddebd874cfe8414a0cd1d600b38": {
     "model_module": "@jupyter-widgets/controls",
     "model_name": "HTMLModel",
     "model_module_version": "1.5.0",
     "state": {
      "_dom_classes": [],
      "_model_module": "@jupyter-widgets/controls",
      "_model_module_version": "1.5.0",
      "_model_name": "HTMLModel",
      "_view_count": null,
      "_view_module": "@jupyter-widgets/controls",
      "_view_module_version": "1.5.0",
      "_view_name": "HTMLView",
      "description": "",
      "description_tooltip": null,
      "layout": "IPY_MODEL_de7356bb8fa347f6bb0035b54b0afa9f",
      "placeholder": "​",
      "style": "IPY_MODEL_05def7e2b3684c3f819f08c01f0a1628",
      "value": ""
     }
    },
    "c16626e4a788456c94f6065822ec59d5": {
     "model_module": "@jupyter-widgets/controls",
     "model_name": "FloatProgressModel",
     "model_module_version": "1.5.0",
     "state": {
      "_dom_classes": [],
      "_model_module": "@jupyter-widgets/controls",
      "_model_module_version": "1.5.0",
      "_model_name": "FloatProgressModel",
      "_view_count": null,
      "_view_module": "@jupyter-widgets/controls",
      "_view_module_version": "1.5.0",
      "_view_name": "ProgressView",
      "bar_style": "success",
      "description": "",
      "description_tooltip": null,
      "layout": "IPY_MODEL_5d3dd5b80db246bb8b65c07bcea8dc71",
      "max": 9912422,
      "min": 0,
      "orientation": "horizontal",
      "style": "IPY_MODEL_dfabc79967d44f95a0ffabca382180f9",
      "value": 9912422
     }
    },
    "3058f23a17c649f9bbf90e4ff4b6a653": {
     "model_module": "@jupyter-widgets/controls",
     "model_name": "HTMLModel",
     "model_module_version": "1.5.0",
     "state": {
      "_dom_classes": [],
      "_model_module": "@jupyter-widgets/controls",
      "_model_module_version": "1.5.0",
      "_model_name": "HTMLModel",
      "_view_count": null,
      "_view_module": "@jupyter-widgets/controls",
      "_view_module_version": "1.5.0",
      "_view_name": "HTMLView",
      "description": "",
      "description_tooltip": null,
      "layout": "IPY_MODEL_f46d19859148469e8bb64ac62aefb309",
      "placeholder": "​",
      "style": "IPY_MODEL_a1b0264fe0434da3908b2b4cc307440c",
      "value": " 9913344/? [00:00&lt;00:00, 33052887.42it/s]"
     }
    },
    "bae7168e87fb427ea73a20b2b8ef3c82": {
     "model_module": "@jupyter-widgets/base",
     "model_name": "LayoutModel",
     "model_module_version": "1.2.0",
     "state": {
      "_model_module": "@jupyter-widgets/base",
      "_model_module_version": "1.2.0",
      "_model_name": "LayoutModel",
      "_view_count": null,
      "_view_module": "@jupyter-widgets/base",
      "_view_module_version": "1.2.0",
      "_view_name": "LayoutView",
      "align_content": null,
      "align_items": null,
      "align_self": null,
      "border": null,
      "bottom": null,
      "display": null,
      "flex": null,
      "flex_flow": null,
      "grid_area": null,
      "grid_auto_columns": null,
      "grid_auto_flow": null,
      "grid_auto_rows": null,
      "grid_column": null,
      "grid_gap": null,
      "grid_row": null,
      "grid_template_areas": null,
      "grid_template_columns": null,
      "grid_template_rows": null,
      "height": null,
      "justify_content": null,
      "justify_items": null,
      "left": null,
      "margin": null,
      "max_height": null,
      "max_width": null,
      "min_height": null,
      "min_width": null,
      "object_fit": null,
      "object_position": null,
      "order": null,
      "overflow": null,
      "overflow_x": null,
      "overflow_y": null,
      "padding": null,
      "right": null,
      "top": null,
      "visibility": null,
      "width": null
     }
    },
    "de7356bb8fa347f6bb0035b54b0afa9f": {
     "model_module": "@jupyter-widgets/base",
     "model_name": "LayoutModel",
     "model_module_version": "1.2.0",
     "state": {
      "_model_module": "@jupyter-widgets/base",
      "_model_module_version": "1.2.0",
      "_model_name": "LayoutModel",
      "_view_count": null,
      "_view_module": "@jupyter-widgets/base",
      "_view_module_version": "1.2.0",
      "_view_name": "LayoutView",
      "align_content": null,
      "align_items": null,
      "align_self": null,
      "border": null,
      "bottom": null,
      "display": null,
      "flex": null,
      "flex_flow": null,
      "grid_area": null,
      "grid_auto_columns": null,
      "grid_auto_flow": null,
      "grid_auto_rows": null,
      "grid_column": null,
      "grid_gap": null,
      "grid_row": null,
      "grid_template_areas": null,
      "grid_template_columns": null,
      "grid_template_rows": null,
      "height": null,
      "justify_content": null,
      "justify_items": null,
      "left": null,
      "margin": null,
      "max_height": null,
      "max_width": null,
      "min_height": null,
      "min_width": null,
      "object_fit": null,
      "object_position": null,
      "order": null,
      "overflow": null,
      "overflow_x": null,
      "overflow_y": null,
      "padding": null,
      "right": null,
      "top": null,
      "visibility": null,
      "width": null
     }
    },
    "05def7e2b3684c3f819f08c01f0a1628": {
     "model_module": "@jupyter-widgets/controls",
     "model_name": "DescriptionStyleModel",
     "model_module_version": "1.5.0",
     "state": {
      "_model_module": "@jupyter-widgets/controls",
      "_model_module_version": "1.5.0",
      "_model_name": "DescriptionStyleModel",
      "_view_count": null,
      "_view_module": "@jupyter-widgets/base",
      "_view_module_version": "1.2.0",
      "_view_name": "StyleView",
      "description_width": ""
     }
    },
    "5d3dd5b80db246bb8b65c07bcea8dc71": {
     "model_module": "@jupyter-widgets/base",
     "model_name": "LayoutModel",
     "model_module_version": "1.2.0",
     "state": {
      "_model_module": "@jupyter-widgets/base",
      "_model_module_version": "1.2.0",
      "_model_name": "LayoutModel",
      "_view_count": null,
      "_view_module": "@jupyter-widgets/base",
      "_view_module_version": "1.2.0",
      "_view_name": "LayoutView",
      "align_content": null,
      "align_items": null,
      "align_self": null,
      "border": null,
      "bottom": null,
      "display": null,
      "flex": null,
      "flex_flow": null,
      "grid_area": null,
      "grid_auto_columns": null,
      "grid_auto_flow": null,
      "grid_auto_rows": null,
      "grid_column": null,
      "grid_gap": null,
      "grid_row": null,
      "grid_template_areas": null,
      "grid_template_columns": null,
      "grid_template_rows": null,
      "height": null,
      "justify_content": null,
      "justify_items": null,
      "left": null,
      "margin": null,
      "max_height": null,
      "max_width": null,
      "min_height": null,
      "min_width": null,
      "object_fit": null,
      "object_position": null,
      "order": null,
      "overflow": null,
      "overflow_x": null,
      "overflow_y": null,
      "padding": null,
      "right": null,
      "top": null,
      "visibility": null,
      "width": null
     }
    },
    "dfabc79967d44f95a0ffabca382180f9": {
     "model_module": "@jupyter-widgets/controls",
     "model_name": "ProgressStyleModel",
     "model_module_version": "1.5.0",
     "state": {
      "_model_module": "@jupyter-widgets/controls",
      "_model_module_version": "1.5.0",
      "_model_name": "ProgressStyleModel",
      "_view_count": null,
      "_view_module": "@jupyter-widgets/base",
      "_view_module_version": "1.2.0",
      "_view_name": "StyleView",
      "bar_color": null,
      "description_width": ""
     }
    },
    "f46d19859148469e8bb64ac62aefb309": {
     "model_module": "@jupyter-widgets/base",
     "model_name": "LayoutModel",
     "model_module_version": "1.2.0",
     "state": {
      "_model_module": "@jupyter-widgets/base",
      "_model_module_version": "1.2.0",
      "_model_name": "LayoutModel",
      "_view_count": null,
      "_view_module": "@jupyter-widgets/base",
      "_view_module_version": "1.2.0",
      "_view_name": "LayoutView",
      "align_content": null,
      "align_items": null,
      "align_self": null,
      "border": null,
      "bottom": null,
      "display": null,
      "flex": null,
      "flex_flow": null,
      "grid_area": null,
      "grid_auto_columns": null,
      "grid_auto_flow": null,
      "grid_auto_rows": null,
      "grid_column": null,
      "grid_gap": null,
      "grid_row": null,
      "grid_template_areas": null,
      "grid_template_columns": null,
      "grid_template_rows": null,
      "height": null,
      "justify_content": null,
      "justify_items": null,
      "left": null,
      "margin": null,
      "max_height": null,
      "max_width": null,
      "min_height": null,
      "min_width": null,
      "object_fit": null,
      "object_position": null,
      "order": null,
      "overflow": null,
      "overflow_x": null,
      "overflow_y": null,
      "padding": null,
      "right": null,
      "top": null,
      "visibility": null,
      "width": null
     }
    },
    "a1b0264fe0434da3908b2b4cc307440c": {
     "model_module": "@jupyter-widgets/controls",
     "model_name": "DescriptionStyleModel",
     "model_module_version": "1.5.0",
     "state": {
      "_model_module": "@jupyter-widgets/controls",
      "_model_module_version": "1.5.0",
      "_model_name": "DescriptionStyleModel",
      "_view_count": null,
      "_view_module": "@jupyter-widgets/base",
      "_view_module_version": "1.2.0",
      "_view_name": "StyleView",
      "description_width": ""
     }
    },
    "564ab79761614c0483dc6ae3a7ee7bee": {
     "model_module": "@jupyter-widgets/controls",
     "model_name": "HBoxModel",
     "model_module_version": "1.5.0",
     "state": {
      "_dom_classes": [],
      "_model_module": "@jupyter-widgets/controls",
      "_model_module_version": "1.5.0",
      "_model_name": "HBoxModel",
      "_view_count": null,
      "_view_module": "@jupyter-widgets/controls",
      "_view_module_version": "1.5.0",
      "_view_name": "HBoxView",
      "box_style": "",
      "children": [
       "IPY_MODEL_2055ec13639d4818907b02d947932f6c",
       "IPY_MODEL_2967bd26916b4a078755600aa8e5df9a",
       "IPY_MODEL_06609a199a9c44348415183a3a3a8027"
      ],
      "layout": "IPY_MODEL_c3ef65efe49e4c62860949db0df766f2"
     }
    },
    "2055ec13639d4818907b02d947932f6c": {
     "model_module": "@jupyter-widgets/controls",
     "model_name": "HTMLModel",
     "model_module_version": "1.5.0",
     "state": {
      "_dom_classes": [],
      "_model_module": "@jupyter-widgets/controls",
      "_model_module_version": "1.5.0",
      "_model_name": "HTMLModel",
      "_view_count": null,
      "_view_module": "@jupyter-widgets/controls",
      "_view_module_version": "1.5.0",
      "_view_name": "HTMLView",
      "description": "",
      "description_tooltip": null,
      "layout": "IPY_MODEL_3344435cefd84e1b81133f9e79e64feb",
      "placeholder": "​",
      "style": "IPY_MODEL_a2dab6cf78cb40abaa8095f70efd11a4",
      "value": ""
     }
    },
    "2967bd26916b4a078755600aa8e5df9a": {
     "model_module": "@jupyter-widgets/controls",
     "model_name": "FloatProgressModel",
     "model_module_version": "1.5.0",
     "state": {
      "_dom_classes": [],
      "_model_module": "@jupyter-widgets/controls",
      "_model_module_version": "1.5.0",
      "_model_name": "FloatProgressModel",
      "_view_count": null,
      "_view_module": "@jupyter-widgets/controls",
      "_view_module_version": "1.5.0",
      "_view_name": "ProgressView",
      "bar_style": "success",
      "description": "",
      "description_tooltip": null,
      "layout": "IPY_MODEL_227fa346e12c47968e86c47e20fef82d",
      "max": 28881,
      "min": 0,
      "orientation": "horizontal",
      "style": "IPY_MODEL_78fc02e8b76d488da8e5a35b7fb1d91c",
      "value": 28881
     }
    },
    "06609a199a9c44348415183a3a3a8027": {
     "model_module": "@jupyter-widgets/controls",
     "model_name": "HTMLModel",
     "model_module_version": "1.5.0",
     "state": {
      "_dom_classes": [],
      "_model_module": "@jupyter-widgets/controls",
      "_model_module_version": "1.5.0",
      "_model_name": "HTMLModel",
      "_view_count": null,
      "_view_module": "@jupyter-widgets/controls",
      "_view_module_version": "1.5.0",
      "_view_name": "HTMLView",
      "description": "",
      "description_tooltip": null,
      "layout": "IPY_MODEL_3cc2c5bb50a746bfb22db54370e7f04f",
      "placeholder": "​",
      "style": "IPY_MODEL_f9b1f40ff4f74b9287ef58381c010c89",
      "value": " 29696/? [00:00&lt;00:00, 7233.62it/s]"
     }
    },
    "c3ef65efe49e4c62860949db0df766f2": {
     "model_module": "@jupyter-widgets/base",
     "model_name": "LayoutModel",
     "model_module_version": "1.2.0",
     "state": {
      "_model_module": "@jupyter-widgets/base",
      "_model_module_version": "1.2.0",
      "_model_name": "LayoutModel",
      "_view_count": null,
      "_view_module": "@jupyter-widgets/base",
      "_view_module_version": "1.2.0",
      "_view_name": "LayoutView",
      "align_content": null,
      "align_items": null,
      "align_self": null,
      "border": null,
      "bottom": null,
      "display": null,
      "flex": null,
      "flex_flow": null,
      "grid_area": null,
      "grid_auto_columns": null,
      "grid_auto_flow": null,
      "grid_auto_rows": null,
      "grid_column": null,
      "grid_gap": null,
      "grid_row": null,
      "grid_template_areas": null,
      "grid_template_columns": null,
      "grid_template_rows": null,
      "height": null,
      "justify_content": null,
      "justify_items": null,
      "left": null,
      "margin": null,
      "max_height": null,
      "max_width": null,
      "min_height": null,
      "min_width": null,
      "object_fit": null,
      "object_position": null,
      "order": null,
      "overflow": null,
      "overflow_x": null,
      "overflow_y": null,
      "padding": null,
      "right": null,
      "top": null,
      "visibility": null,
      "width": null
     }
    },
    "3344435cefd84e1b81133f9e79e64feb": {
     "model_module": "@jupyter-widgets/base",
     "model_name": "LayoutModel",
     "model_module_version": "1.2.0",
     "state": {
      "_model_module": "@jupyter-widgets/base",
      "_model_module_version": "1.2.0",
      "_model_name": "LayoutModel",
      "_view_count": null,
      "_view_module": "@jupyter-widgets/base",
      "_view_module_version": "1.2.0",
      "_view_name": "LayoutView",
      "align_content": null,
      "align_items": null,
      "align_self": null,
      "border": null,
      "bottom": null,
      "display": null,
      "flex": null,
      "flex_flow": null,
      "grid_area": null,
      "grid_auto_columns": null,
      "grid_auto_flow": null,
      "grid_auto_rows": null,
      "grid_column": null,
      "grid_gap": null,
      "grid_row": null,
      "grid_template_areas": null,
      "grid_template_columns": null,
      "grid_template_rows": null,
      "height": null,
      "justify_content": null,
      "justify_items": null,
      "left": null,
      "margin": null,
      "max_height": null,
      "max_width": null,
      "min_height": null,
      "min_width": null,
      "object_fit": null,
      "object_position": null,
      "order": null,
      "overflow": null,
      "overflow_x": null,
      "overflow_y": null,
      "padding": null,
      "right": null,
      "top": null,
      "visibility": null,
      "width": null
     }
    },
    "a2dab6cf78cb40abaa8095f70efd11a4": {
     "model_module": "@jupyter-widgets/controls",
     "model_name": "DescriptionStyleModel",
     "model_module_version": "1.5.0",
     "state": {
      "_model_module": "@jupyter-widgets/controls",
      "_model_module_version": "1.5.0",
      "_model_name": "DescriptionStyleModel",
      "_view_count": null,
      "_view_module": "@jupyter-widgets/base",
      "_view_module_version": "1.2.0",
      "_view_name": "StyleView",
      "description_width": ""
     }
    },
    "227fa346e12c47968e86c47e20fef82d": {
     "model_module": "@jupyter-widgets/base",
     "model_name": "LayoutModel",
     "model_module_version": "1.2.0",
     "state": {
      "_model_module": "@jupyter-widgets/base",
      "_model_module_version": "1.2.0",
      "_model_name": "LayoutModel",
      "_view_count": null,
      "_view_module": "@jupyter-widgets/base",
      "_view_module_version": "1.2.0",
      "_view_name": "LayoutView",
      "align_content": null,
      "align_items": null,
      "align_self": null,
      "border": null,
      "bottom": null,
      "display": null,
      "flex": null,
      "flex_flow": null,
      "grid_area": null,
      "grid_auto_columns": null,
      "grid_auto_flow": null,
      "grid_auto_rows": null,
      "grid_column": null,
      "grid_gap": null,
      "grid_row": null,
      "grid_template_areas": null,
      "grid_template_columns": null,
      "grid_template_rows": null,
      "height": null,
      "justify_content": null,
      "justify_items": null,
      "left": null,
      "margin": null,
      "max_height": null,
      "max_width": null,
      "min_height": null,
      "min_width": null,
      "object_fit": null,
      "object_position": null,
      "order": null,
      "overflow": null,
      "overflow_x": null,
      "overflow_y": null,
      "padding": null,
      "right": null,
      "top": null,
      "visibility": null,
      "width": null
     }
    },
    "78fc02e8b76d488da8e5a35b7fb1d91c": {
     "model_module": "@jupyter-widgets/controls",
     "model_name": "ProgressStyleModel",
     "model_module_version": "1.5.0",
     "state": {
      "_model_module": "@jupyter-widgets/controls",
      "_model_module_version": "1.5.0",
      "_model_name": "ProgressStyleModel",
      "_view_count": null,
      "_view_module": "@jupyter-widgets/base",
      "_view_module_version": "1.2.0",
      "_view_name": "StyleView",
      "bar_color": null,
      "description_width": ""
     }
    },
    "3cc2c5bb50a746bfb22db54370e7f04f": {
     "model_module": "@jupyter-widgets/base",
     "model_name": "LayoutModel",
     "model_module_version": "1.2.0",
     "state": {
      "_model_module": "@jupyter-widgets/base",
      "_model_module_version": "1.2.0",
      "_model_name": "LayoutModel",
      "_view_count": null,
      "_view_module": "@jupyter-widgets/base",
      "_view_module_version": "1.2.0",
      "_view_name": "LayoutView",
      "align_content": null,
      "align_items": null,
      "align_self": null,
      "border": null,
      "bottom": null,
      "display": null,
      "flex": null,
      "flex_flow": null,
      "grid_area": null,
      "grid_auto_columns": null,
      "grid_auto_flow": null,
      "grid_auto_rows": null,
      "grid_column": null,
      "grid_gap": null,
      "grid_row": null,
      "grid_template_areas": null,
      "grid_template_columns": null,
      "grid_template_rows": null,
      "height": null,
      "justify_content": null,
      "justify_items": null,
      "left": null,
      "margin": null,
      "max_height": null,
      "max_width": null,
      "min_height": null,
      "min_width": null,
      "object_fit": null,
      "object_position": null,
      "order": null,
      "overflow": null,
      "overflow_x": null,
      "overflow_y": null,
      "padding": null,
      "right": null,
      "top": null,
      "visibility": null,
      "width": null
     }
    },
    "f9b1f40ff4f74b9287ef58381c010c89": {
     "model_module": "@jupyter-widgets/controls",
     "model_name": "DescriptionStyleModel",
     "model_module_version": "1.5.0",
     "state": {
      "_model_module": "@jupyter-widgets/controls",
      "_model_module_version": "1.5.0",
      "_model_name": "DescriptionStyleModel",
      "_view_count": null,
      "_view_module": "@jupyter-widgets/base",
      "_view_module_version": "1.2.0",
      "_view_name": "StyleView",
      "description_width": ""
     }
    },
    "3defc80619d5440eb9f2cd24498575c2": {
     "model_module": "@jupyter-widgets/controls",
     "model_name": "HBoxModel",
     "model_module_version": "1.5.0",
     "state": {
      "_dom_classes": [],
      "_model_module": "@jupyter-widgets/controls",
      "_model_module_version": "1.5.0",
      "_model_name": "HBoxModel",
      "_view_count": null,
      "_view_module": "@jupyter-widgets/controls",
      "_view_module_version": "1.5.0",
      "_view_name": "HBoxView",
      "box_style": "",
      "children": [
       "IPY_MODEL_1e57973deed54958b4f9c1deead4fb12",
       "IPY_MODEL_7c12fb1985e94de5b9db7855124af766",
       "IPY_MODEL_0473e7f65e2c4f089f6e6c81a36157e9"
      ],
      "layout": "IPY_MODEL_a69aff2a0ec048a69164e27d0688f434"
     }
    },
    "1e57973deed54958b4f9c1deead4fb12": {
     "model_module": "@jupyter-widgets/controls",
     "model_name": "HTMLModel",
     "model_module_version": "1.5.0",
     "state": {
      "_dom_classes": [],
      "_model_module": "@jupyter-widgets/controls",
      "_model_module_version": "1.5.0",
      "_model_name": "HTMLModel",
      "_view_count": null,
      "_view_module": "@jupyter-widgets/controls",
      "_view_module_version": "1.5.0",
      "_view_name": "HTMLView",
      "description": "",
      "description_tooltip": null,
      "layout": "IPY_MODEL_dd78161b57564b9a9904186a21e5ad6e",
      "placeholder": "​",
      "style": "IPY_MODEL_4cb8c348ef8b40249f701489b2decfad",
      "value": ""
     }
    },
    "7c12fb1985e94de5b9db7855124af766": {
     "model_module": "@jupyter-widgets/controls",
     "model_name": "FloatProgressModel",
     "model_module_version": "1.5.0",
     "state": {
      "_dom_classes": [],
      "_model_module": "@jupyter-widgets/controls",
      "_model_module_version": "1.5.0",
      "_model_name": "FloatProgressModel",
      "_view_count": null,
      "_view_module": "@jupyter-widgets/controls",
      "_view_module_version": "1.5.0",
      "_view_name": "ProgressView",
      "bar_style": "success",
      "description": "",
      "description_tooltip": null,
      "layout": "IPY_MODEL_e69163d77b6b4f698bffc73a673b0913",
      "max": 1648877,
      "min": 0,
      "orientation": "horizontal",
      "style": "IPY_MODEL_d8a94e66e58e41a1b894aaf9ca274365",
      "value": 1648877
     }
    },
    "0473e7f65e2c4f089f6e6c81a36157e9": {
     "model_module": "@jupyter-widgets/controls",
     "model_name": "HTMLModel",
     "model_module_version": "1.5.0",
     "state": {
      "_dom_classes": [],
      "_model_module": "@jupyter-widgets/controls",
      "_model_module_version": "1.5.0",
      "_model_name": "HTMLModel",
      "_view_count": null,
      "_view_module": "@jupyter-widgets/controls",
      "_view_module_version": "1.5.0",
      "_view_name": "HTMLView",
      "description": "",
      "description_tooltip": null,
      "layout": "IPY_MODEL_e6edb636d111440397003e9be31a0be7",
      "placeholder": "​",
      "style": "IPY_MODEL_c7a3565742b741ab8817b35e104a67cf",
      "value": " 1649664/? [00:00&lt;00:00, 6555.96it/s]"
     }
    },
    "a69aff2a0ec048a69164e27d0688f434": {
     "model_module": "@jupyter-widgets/base",
     "model_name": "LayoutModel",
     "model_module_version": "1.2.0",
     "state": {
      "_model_module": "@jupyter-widgets/base",
      "_model_module_version": "1.2.0",
      "_model_name": "LayoutModel",
      "_view_count": null,
      "_view_module": "@jupyter-widgets/base",
      "_view_module_version": "1.2.0",
      "_view_name": "LayoutView",
      "align_content": null,
      "align_items": null,
      "align_self": null,
      "border": null,
      "bottom": null,
      "display": null,
      "flex": null,
      "flex_flow": null,
      "grid_area": null,
      "grid_auto_columns": null,
      "grid_auto_flow": null,
      "grid_auto_rows": null,
      "grid_column": null,
      "grid_gap": null,
      "grid_row": null,
      "grid_template_areas": null,
      "grid_template_columns": null,
      "grid_template_rows": null,
      "height": null,
      "justify_content": null,
      "justify_items": null,
      "left": null,
      "margin": null,
      "max_height": null,
      "max_width": null,
      "min_height": null,
      "min_width": null,
      "object_fit": null,
      "object_position": null,
      "order": null,
      "overflow": null,
      "overflow_x": null,
      "overflow_y": null,
      "padding": null,
      "right": null,
      "top": null,
      "visibility": null,
      "width": null
     }
    },
    "dd78161b57564b9a9904186a21e5ad6e": {
     "model_module": "@jupyter-widgets/base",
     "model_name": "LayoutModel",
     "model_module_version": "1.2.0",
     "state": {
      "_model_module": "@jupyter-widgets/base",
      "_model_module_version": "1.2.0",
      "_model_name": "LayoutModel",
      "_view_count": null,
      "_view_module": "@jupyter-widgets/base",
      "_view_module_version": "1.2.0",
      "_view_name": "LayoutView",
      "align_content": null,
      "align_items": null,
      "align_self": null,
      "border": null,
      "bottom": null,
      "display": null,
      "flex": null,
      "flex_flow": null,
      "grid_area": null,
      "grid_auto_columns": null,
      "grid_auto_flow": null,
      "grid_auto_rows": null,
      "grid_column": null,
      "grid_gap": null,
      "grid_row": null,
      "grid_template_areas": null,
      "grid_template_columns": null,
      "grid_template_rows": null,
      "height": null,
      "justify_content": null,
      "justify_items": null,
      "left": null,
      "margin": null,
      "max_height": null,
      "max_width": null,
      "min_height": null,
      "min_width": null,
      "object_fit": null,
      "object_position": null,
      "order": null,
      "overflow": null,
      "overflow_x": null,
      "overflow_y": null,
      "padding": null,
      "right": null,
      "top": null,
      "visibility": null,
      "width": null
     }
    },
    "4cb8c348ef8b40249f701489b2decfad": {
     "model_module": "@jupyter-widgets/controls",
     "model_name": "DescriptionStyleModel",
     "model_module_version": "1.5.0",
     "state": {
      "_model_module": "@jupyter-widgets/controls",
      "_model_module_version": "1.5.0",
      "_model_name": "DescriptionStyleModel",
      "_view_count": null,
      "_view_module": "@jupyter-widgets/base",
      "_view_module_version": "1.2.0",
      "_view_name": "StyleView",
      "description_width": ""
     }
    },
    "e69163d77b6b4f698bffc73a673b0913": {
     "model_module": "@jupyter-widgets/base",
     "model_name": "LayoutModel",
     "model_module_version": "1.2.0",
     "state": {
      "_model_module": "@jupyter-widgets/base",
      "_model_module_version": "1.2.0",
      "_model_name": "LayoutModel",
      "_view_count": null,
      "_view_module": "@jupyter-widgets/base",
      "_view_module_version": "1.2.0",
      "_view_name": "LayoutView",
      "align_content": null,
      "align_items": null,
      "align_self": null,
      "border": null,
      "bottom": null,
      "display": null,
      "flex": null,
      "flex_flow": null,
      "grid_area": null,
      "grid_auto_columns": null,
      "grid_auto_flow": null,
      "grid_auto_rows": null,
      "grid_column": null,
      "grid_gap": null,
      "grid_row": null,
      "grid_template_areas": null,
      "grid_template_columns": null,
      "grid_template_rows": null,
      "height": null,
      "justify_content": null,
      "justify_items": null,
      "left": null,
      "margin": null,
      "max_height": null,
      "max_width": null,
      "min_height": null,
      "min_width": null,
      "object_fit": null,
      "object_position": null,
      "order": null,
      "overflow": null,
      "overflow_x": null,
      "overflow_y": null,
      "padding": null,
      "right": null,
      "top": null,
      "visibility": null,
      "width": null
     }
    },
    "d8a94e66e58e41a1b894aaf9ca274365": {
     "model_module": "@jupyter-widgets/controls",
     "model_name": "ProgressStyleModel",
     "model_module_version": "1.5.0",
     "state": {
      "_model_module": "@jupyter-widgets/controls",
      "_model_module_version": "1.5.0",
      "_model_name": "ProgressStyleModel",
      "_view_count": null,
      "_view_module": "@jupyter-widgets/base",
      "_view_module_version": "1.2.0",
      "_view_name": "StyleView",
      "bar_color": null,
      "description_width": ""
     }
    },
    "e6edb636d111440397003e9be31a0be7": {
     "model_module": "@jupyter-widgets/base",
     "model_name": "LayoutModel",
     "model_module_version": "1.2.0",
     "state": {
      "_model_module": "@jupyter-widgets/base",
      "_model_module_version": "1.2.0",
      "_model_name": "LayoutModel",
      "_view_count": null,
      "_view_module": "@jupyter-widgets/base",
      "_view_module_version": "1.2.0",
      "_view_name": "LayoutView",
      "align_content": null,
      "align_items": null,
      "align_self": null,
      "border": null,
      "bottom": null,
      "display": null,
      "flex": null,
      "flex_flow": null,
      "grid_area": null,
      "grid_auto_columns": null,
      "grid_auto_flow": null,
      "grid_auto_rows": null,
      "grid_column": null,
      "grid_gap": null,
      "grid_row": null,
      "grid_template_areas": null,
      "grid_template_columns": null,
      "grid_template_rows": null,
      "height": null,
      "justify_content": null,
      "justify_items": null,
      "left": null,
      "margin": null,
      "max_height": null,
      "max_width": null,
      "min_height": null,
      "min_width": null,
      "object_fit": null,
      "object_position": null,
      "order": null,
      "overflow": null,
      "overflow_x": null,
      "overflow_y": null,
      "padding": null,
      "right": null,
      "top": null,
      "visibility": null,
      "width": null
     }
    },
    "c7a3565742b741ab8817b35e104a67cf": {
     "model_module": "@jupyter-widgets/controls",
     "model_name": "DescriptionStyleModel",
     "model_module_version": "1.5.0",
     "state": {
      "_model_module": "@jupyter-widgets/controls",
      "_model_module_version": "1.5.0",
      "_model_name": "DescriptionStyleModel",
      "_view_count": null,
      "_view_module": "@jupyter-widgets/base",
      "_view_module_version": "1.2.0",
      "_view_name": "StyleView",
      "description_width": ""
     }
    },
    "a0ed167fba3040e5af9de0edb7f023d2": {
     "model_module": "@jupyter-widgets/controls",
     "model_name": "HBoxModel",
     "model_module_version": "1.5.0",
     "state": {
      "_dom_classes": [],
      "_model_module": "@jupyter-widgets/controls",
      "_model_module_version": "1.5.0",
      "_model_name": "HBoxModel",
      "_view_count": null,
      "_view_module": "@jupyter-widgets/controls",
      "_view_module_version": "1.5.0",
      "_view_name": "HBoxView",
      "box_style": "",
      "children": [
       "IPY_MODEL_7142905ef5864bfe9e5e9465b5c770dd",
       "IPY_MODEL_79b16c8590cc4754abc7d6cf2e9b3f16",
       "IPY_MODEL_bc2ee586dd004114bcd02e672ff818df"
      ],
      "layout": "IPY_MODEL_64ea5b483c1c4ce4ad3810277ff676ed"
     }
    },
    "7142905ef5864bfe9e5e9465b5c770dd": {
     "model_module": "@jupyter-widgets/controls",
     "model_name": "HTMLModel",
     "model_module_version": "1.5.0",
     "state": {
      "_dom_classes": [],
      "_model_module": "@jupyter-widgets/controls",
      "_model_module_version": "1.5.0",
      "_model_name": "HTMLModel",
      "_view_count": null,
      "_view_module": "@jupyter-widgets/controls",
      "_view_module_version": "1.5.0",
      "_view_name": "HTMLView",
      "description": "",
      "description_tooltip": null,
      "layout": "IPY_MODEL_a6d0f6f0f00f41859e473064759aa3fc",
      "placeholder": "​",
      "style": "IPY_MODEL_806b519706de4b26a151b5681f143f7e",
      "value": ""
     }
    },
    "79b16c8590cc4754abc7d6cf2e9b3f16": {
     "model_module": "@jupyter-widgets/controls",
     "model_name": "FloatProgressModel",
     "model_module_version": "1.5.0",
     "state": {
      "_dom_classes": [],
      "_model_module": "@jupyter-widgets/controls",
      "_model_module_version": "1.5.0",
      "_model_name": "FloatProgressModel",
      "_view_count": null,
      "_view_module": "@jupyter-widgets/controls",
      "_view_module_version": "1.5.0",
      "_view_name": "ProgressView",
      "bar_style": "success",
      "description": "",
      "description_tooltip": null,
      "layout": "IPY_MODEL_56e5711dec014b648de614652fec5017",
      "max": 4542,
      "min": 0,
      "orientation": "horizontal",
      "style": "IPY_MODEL_d06596ca59e8401dafd1a1cf48d46635",
      "value": 4542
     }
    },
    "bc2ee586dd004114bcd02e672ff818df": {
     "model_module": "@jupyter-widgets/controls",
     "model_name": "HTMLModel",
     "model_module_version": "1.5.0",
     "state": {
      "_dom_classes": [],
      "_model_module": "@jupyter-widgets/controls",
      "_model_module_version": "1.5.0",
      "_model_name": "HTMLModel",
      "_view_count": null,
      "_view_module": "@jupyter-widgets/controls",
      "_view_module_version": "1.5.0",
      "_view_name": "HTMLView",
      "description": "",
      "description_tooltip": null,
      "layout": "IPY_MODEL_45e8718a2cad464eb7f6a388e08b946a",
      "placeholder": "​",
      "style": "IPY_MODEL_f17cad363e5c448ea2ff911110525c54",
      "value": " 5120/? [00:00&lt;00:00, 52782.92it/s]"
     }
    },
    "64ea5b483c1c4ce4ad3810277ff676ed": {
     "model_module": "@jupyter-widgets/base",
     "model_name": "LayoutModel",
     "model_module_version": "1.2.0",
     "state": {
      "_model_module": "@jupyter-widgets/base",
      "_model_module_version": "1.2.0",
      "_model_name": "LayoutModel",
      "_view_count": null,
      "_view_module": "@jupyter-widgets/base",
      "_view_module_version": "1.2.0",
      "_view_name": "LayoutView",
      "align_content": null,
      "align_items": null,
      "align_self": null,
      "border": null,
      "bottom": null,
      "display": null,
      "flex": null,
      "flex_flow": null,
      "grid_area": null,
      "grid_auto_columns": null,
      "grid_auto_flow": null,
      "grid_auto_rows": null,
      "grid_column": null,
      "grid_gap": null,
      "grid_row": null,
      "grid_template_areas": null,
      "grid_template_columns": null,
      "grid_template_rows": null,
      "height": null,
      "justify_content": null,
      "justify_items": null,
      "left": null,
      "margin": null,
      "max_height": null,
      "max_width": null,
      "min_height": null,
      "min_width": null,
      "object_fit": null,
      "object_position": null,
      "order": null,
      "overflow": null,
      "overflow_x": null,
      "overflow_y": null,
      "padding": null,
      "right": null,
      "top": null,
      "visibility": null,
      "width": null
     }
    },
    "a6d0f6f0f00f41859e473064759aa3fc": {
     "model_module": "@jupyter-widgets/base",
     "model_name": "LayoutModel",
     "model_module_version": "1.2.0",
     "state": {
      "_model_module": "@jupyter-widgets/base",
      "_model_module_version": "1.2.0",
      "_model_name": "LayoutModel",
      "_view_count": null,
      "_view_module": "@jupyter-widgets/base",
      "_view_module_version": "1.2.0",
      "_view_name": "LayoutView",
      "align_content": null,
      "align_items": null,
      "align_self": null,
      "border": null,
      "bottom": null,
      "display": null,
      "flex": null,
      "flex_flow": null,
      "grid_area": null,
      "grid_auto_columns": null,
      "grid_auto_flow": null,
      "grid_auto_rows": null,
      "grid_column": null,
      "grid_gap": null,
      "grid_row": null,
      "grid_template_areas": null,
      "grid_template_columns": null,
      "grid_template_rows": null,
      "height": null,
      "justify_content": null,
      "justify_items": null,
      "left": null,
      "margin": null,
      "max_height": null,
      "max_width": null,
      "min_height": null,
      "min_width": null,
      "object_fit": null,
      "object_position": null,
      "order": null,
      "overflow": null,
      "overflow_x": null,
      "overflow_y": null,
      "padding": null,
      "right": null,
      "top": null,
      "visibility": null,
      "width": null
     }
    },
    "806b519706de4b26a151b5681f143f7e": {
     "model_module": "@jupyter-widgets/controls",
     "model_name": "DescriptionStyleModel",
     "model_module_version": "1.5.0",
     "state": {
      "_model_module": "@jupyter-widgets/controls",
      "_model_module_version": "1.5.0",
      "_model_name": "DescriptionStyleModel",
      "_view_count": null,
      "_view_module": "@jupyter-widgets/base",
      "_view_module_version": "1.2.0",
      "_view_name": "StyleView",
      "description_width": ""
     }
    },
    "56e5711dec014b648de614652fec5017": {
     "model_module": "@jupyter-widgets/base",
     "model_name": "LayoutModel",
     "model_module_version": "1.2.0",
     "state": {
      "_model_module": "@jupyter-widgets/base",
      "_model_module_version": "1.2.0",
      "_model_name": "LayoutModel",
      "_view_count": null,
      "_view_module": "@jupyter-widgets/base",
      "_view_module_version": "1.2.0",
      "_view_name": "LayoutView",
      "align_content": null,
      "align_items": null,
      "align_self": null,
      "border": null,
      "bottom": null,
      "display": null,
      "flex": null,
      "flex_flow": null,
      "grid_area": null,
      "grid_auto_columns": null,
      "grid_auto_flow": null,
      "grid_auto_rows": null,
      "grid_column": null,
      "grid_gap": null,
      "grid_row": null,
      "grid_template_areas": null,
      "grid_template_columns": null,
      "grid_template_rows": null,
      "height": null,
      "justify_content": null,
      "justify_items": null,
      "left": null,
      "margin": null,
      "max_height": null,
      "max_width": null,
      "min_height": null,
      "min_width": null,
      "object_fit": null,
      "object_position": null,
      "order": null,
      "overflow": null,
      "overflow_x": null,
      "overflow_y": null,
      "padding": null,
      "right": null,
      "top": null,
      "visibility": null,
      "width": null
     }
    },
    "d06596ca59e8401dafd1a1cf48d46635": {
     "model_module": "@jupyter-widgets/controls",
     "model_name": "ProgressStyleModel",
     "model_module_version": "1.5.0",
     "state": {
      "_model_module": "@jupyter-widgets/controls",
      "_model_module_version": "1.5.0",
      "_model_name": "ProgressStyleModel",
      "_view_count": null,
      "_view_module": "@jupyter-widgets/base",
      "_view_module_version": "1.2.0",
      "_view_name": "StyleView",
      "bar_color": null,
      "description_width": ""
     }
    },
    "45e8718a2cad464eb7f6a388e08b946a": {
     "model_module": "@jupyter-widgets/base",
     "model_name": "LayoutModel",
     "model_module_version": "1.2.0",
     "state": {
      "_model_module": "@jupyter-widgets/base",
      "_model_module_version": "1.2.0",
      "_model_name": "LayoutModel",
      "_view_count": null,
      "_view_module": "@jupyter-widgets/base",
      "_view_module_version": "1.2.0",
      "_view_name": "LayoutView",
      "align_content": null,
      "align_items": null,
      "align_self": null,
      "border": null,
      "bottom": null,
      "display": null,
      "flex": null,
      "flex_flow": null,
      "grid_area": null,
      "grid_auto_columns": null,
      "grid_auto_flow": null,
      "grid_auto_rows": null,
      "grid_column": null,
      "grid_gap": null,
      "grid_row": null,
      "grid_template_areas": null,
      "grid_template_columns": null,
      "grid_template_rows": null,
      "height": null,
      "justify_content": null,
      "justify_items": null,
      "left": null,
      "margin": null,
      "max_height": null,
      "max_width": null,
      "min_height": null,
      "min_width": null,
      "object_fit": null,
      "object_position": null,
      "order": null,
      "overflow": null,
      "overflow_x": null,
      "overflow_y": null,
      "padding": null,
      "right": null,
      "top": null,
      "visibility": null,
      "width": null
     }
    },
    "f17cad363e5c448ea2ff911110525c54": {
     "model_module": "@jupyter-widgets/controls",
     "model_name": "DescriptionStyleModel",
     "model_module_version": "1.5.0",
     "state": {
      "_model_module": "@jupyter-widgets/controls",
      "_model_module_version": "1.5.0",
      "_model_name": "DescriptionStyleModel",
      "_view_count": null,
      "_view_module": "@jupyter-widgets/base",
      "_view_module_version": "1.2.0",
      "_view_name": "StyleView",
      "description_width": ""
     }
    }
   }
  }
 },
 "cells": [
  {
   "cell_type": "markdown",
   "source": [
    "# Вступление\n",
    "\n",
    "Всем привет! На сегодняшнем семинаре мы познакомимся с библиотекой pytorch. Он очень похож на numpy, с одним лишь отличием (на самом деле их больше, но сейчас мы поговорим про самое главное) -- pytorch может считать градиенты за вас. Таким образом вам не надо будет руками писать обратный проход в нейросетях.\n",
    "\n",
    "Семинар построен следующим образом:\n",
    "\n",
    "1. Вспоминаем numpy и сравниваем операции в pytorch\n",
    "\n",
    "2. Создаем тензоры в pytorch\n",
    "\n",
    "3. Работаем с градиентами руками\n",
    "\n",
    "4. Моя первая нейросеть\n",
    "\n",
    "# 1. Вспоминаем numpy и сравниваем операции в pytorch\n",
    "Мы можем создавать матрицы, перемножать их, складывать, транспонировать и в целом совершать любые матричные операции"
   ],
   "metadata": {
    "id": "7OQezU8nLciC",
    "pycharm": {
     "name": "#%% md\n"
    }
   }
  },
  {
   "cell_type": "code",
   "source": [
    "import numpy as np\n",
    "import matplotlib.pyplot as plt\n",
    "import torch\n",
    "import torchvision\n",
    "import torch.nn as nn\n",
    "import torch.nn.functional as F\n",
    "\n",
    "from sklearn.datasets import load_boston\n",
    "from tqdm import tqdm"
   ],
   "metadata": {
    "id": "MRKNdrEtLspN",
    "pycharm": {
     "name": "#%%\n"
    }
   },
   "execution_count": null,
   "outputs": []
  },
  {
   "cell_type": "code",
   "source": [
    "a = np.random.rand(5, 3) # создали случайную матрицу\n",
    "a"
   ],
   "metadata": {
    "colab": {
     "base_uri": "https://localhost:8080/"
    },
    "id": "dSnzrB2eMSlL",
    "executionInfo": {
     "status": "ok",
     "timestamp": 1649330827659,
     "user_tz": -180,
     "elapsed": 26,
     "user": {
      "displayName": "Андрей Рожин",
      "userId": "10247013387273590151"
     }
    },
    "outputId": "c0c1decf-2a46-4ac7-c698-73c99baeed8a",
    "pycharm": {
     "name": "#%%\n"
    }
   },
   "execution_count": null,
   "outputs": [
    {
     "output_type": "execute_result",
     "data": {
      "text/plain": [
       "array([[0.51501423, 0.69886802, 0.55865515],\n",
       "       [0.3653841 , 0.01326946, 0.95391969],\n",
       "       [0.50000094, 0.74092178, 0.88659277],\n",
       "       [0.19659511, 0.84142616, 0.03739522],\n",
       "       [0.61658941, 0.34118253, 0.14114134]])"
      ]
     },
     "metadata": {},
     "execution_count": 2
    }
   ]
  },
  {
   "cell_type": "code",
   "source": [
    "print(\"Проверили размеры матрицы : %s\\n\" % (a.shape, ))"
   ],
   "metadata": {
    "colab": {
     "base_uri": "https://localhost:8080/"
    },
    "id": "ErtKpvBmNPwP",
    "executionInfo": {
     "status": "ok",
     "timestamp": 1649330827660,
     "user_tz": -180,
     "elapsed": 20,
     "user": {
      "displayName": "Андрей Рожин",
      "userId": "10247013387273590151"
     }
    },
    "outputId": "f6a8fd65-b793-4e3a-fec6-8a5d21eb44e4",
    "pycharm": {
     "name": "#%%\n"
    }
   },
   "execution_count": null,
   "outputs": [
    {
     "output_type": "stream",
     "name": "stdout",
     "text": [
      "Проверили размеры матрицы : (5, 3)\n",
      "\n"
     ]
    }
   ]
  },
  {
   "cell_type": "code",
   "source": [
    "print(\"Добавили 5 к всем элементам матрицы : \\n%s\\n\" % (a + 5))"
   ],
   "metadata": {
    "colab": {
     "base_uri": "https://localhost:8080/"
    },
    "id": "3Y_i3tr1NdsX",
    "executionInfo": {
     "status": "ok",
     "timestamp": 1649330827661,
     "user_tz": -180,
     "elapsed": 17,
     "user": {
      "displayName": "Андрей Рожин",
      "userId": "10247013387273590151"
     }
    },
    "outputId": "83d52fdf-fa6a-46cd-927c-e562a645caa1",
    "pycharm": {
     "name": "#%%\n"
    }
   },
   "execution_count": null,
   "outputs": [
    {
     "output_type": "stream",
     "name": "stdout",
     "text": [
      "Добавили 5 к всем элементам матрицы : \n",
      "[[5.51501423 5.69886802 5.55865515]\n",
      " [5.3653841  5.01326946 5.95391969]\n",
      " [5.50000094 5.74092178 5.88659277]\n",
      " [5.19659511 5.84142616 5.03739522]\n",
      " [5.61658941 5.34118253 5.14114134]]\n",
      "\n"
     ]
    }
   ]
  },
  {
   "cell_type": "code",
   "source": [
    "print(\"X * X^T : \\n%s\\n\" % np.dot(a, a.T))"
   ],
   "metadata": {
    "colab": {
     "base_uri": "https://localhost:8080/"
    },
    "id": "k9Ynjm61NtFv",
    "executionInfo": {
     "status": "ok",
     "timestamp": 1649330827661,
     "user_tz": -180,
     "elapsed": 14,
     "user": {
      "displayName": "Андрей Рожин",
      "userId": "10247013387273590151"
     }
    },
    "outputId": "d5834aec-ed8c-407d-f26c-f8cba306e8e1",
    "pycharm": {
     "name": "#%%\n"
    }
   },
   "execution_count": null,
   "outputs": [
    {
     "output_type": "stream",
     "name": "stdout",
     "text": [
      "X * X^T : \n",
      "[[1.06575175 0.73036377 1.27061375 0.71018615 0.63484321]\n",
      " [0.73036377 1.0436444  1.03826233 0.11867004 0.36445678]\n",
      " [1.27061375 1.03826233 1.58501275 0.75488304 0.68621974]\n",
      " [0.71018615 0.11867004 0.75488304 0.74804603 0.41357638]\n",
      " [0.63484321 0.36445678 0.68621974 0.41357638 0.51650889]]\n",
      "\n"
     ]
    }
   ]
  },
  {
   "cell_type": "code",
   "source": [
    "print(\"Среднее по колонкам : \\n%s\\n\" % np.mean(a, axis = 1))"
   ],
   "metadata": {
    "colab": {
     "base_uri": "https://localhost:8080/"
    },
    "id": "GEmv-_h5N3Jh",
    "executionInfo": {
     "status": "ok",
     "timestamp": 1649330827662,
     "user_tz": -180,
     "elapsed": 12,
     "user": {
      "displayName": "Андрей Рожин",
      "userId": "10247013387273590151"
     }
    },
    "outputId": "19c73199-016c-4c2e-bb1c-e4758413b63c",
    "pycharm": {
     "name": "#%%\n"
    }
   },
   "execution_count": null,
   "outputs": [
    {
     "output_type": "stream",
     "name": "stdout",
     "text": [
      "Среднее по колонкам : \n",
      "[0.5908458  0.44419109 0.70917183 0.35847216 0.36630443]\n",
      "\n"
     ]
    }
   ]
  },
  {
   "cell_type": "code",
   "source": [
    "print(\"Изменили размеры : \\n%s\\n\" % a.reshape(3, 5), \"\\nРазмеры стали : \\n%s\\n\" % (a.reshape(3, 5).shape, ))"
   ],
   "metadata": {
    "colab": {
     "base_uri": "https://localhost:8080/"
    },
    "id": "YxnreT3UOCm-",
    "executionInfo": {
     "status": "ok",
     "timestamp": 1649330828131,
     "user_tz": -180,
     "elapsed": 477,
     "user": {
      "displayName": "Андрей Рожин",
      "userId": "10247013387273590151"
     }
    },
    "outputId": "855e41b2-c7dd-4483-adb8-aba9b44d2841",
    "pycharm": {
     "name": "#%%\n"
    }
   },
   "execution_count": null,
   "outputs": [
    {
     "output_type": "stream",
     "name": "stdout",
     "text": [
      "Изменили размеры : \n",
      "[[0.51501423 0.69886802 0.55865515 0.3653841  0.01326946]\n",
      " [0.95391969 0.50000094 0.74092178 0.88659277 0.19659511]\n",
      " [0.84142616 0.03739522 0.61658941 0.34118253 0.14114134]]\n",
      " \n",
      "Размеры стали : \n",
      "(3, 5)\n",
      "\n"
     ]
    }
   ]
  },
  {
   "cell_type": "markdown",
   "source": [
    "# Разминка\n",
    "\n",
    "При помощи NumPy посчитать сумму квадратов натуральных чисел от 1 до 10000"
   ],
   "metadata": {
    "id": "JTFzbY6yOpRj",
    "pycharm": {
     "name": "#%% md\n"
    }
   }
  },
  {
   "cell_type": "code",
   "source": [
    "np.sum(np.arange(1, 10001) ** 2)"
   ],
   "metadata": {
    "colab": {
     "base_uri": "https://localhost:8080/"
    },
    "id": "M_ETJBM6OSyu",
    "executionInfo": {
     "status": "ok",
     "timestamp": 1649330828132,
     "user_tz": -180,
     "elapsed": 38,
     "user": {
      "displayName": "Андрей Рожин",
      "userId": "10247013387273590151"
     }
    },
    "outputId": "c5538081-fb07-43b5-c2cb-5325628efb78",
    "pycharm": {
     "name": "#%%\n"
    }
   },
   "execution_count": null,
   "outputs": [
    {
     "output_type": "execute_result",
     "data": {
      "text/plain": [
       "333383335000"
      ]
     },
     "metadata": {},
     "execution_count": 8
    }
   ]
  },
  {
   "cell_type": "markdown",
   "source": [
    "Аналогичные операции в **PyTorch** выглядят следующим образом, синтаксис отличается, но совсем немного."
   ],
   "metadata": {
    "id": "Y612XRH-PDCS",
    "pycharm": {
     "name": "#%% md\n"
    }
   }
  },
  {
   "cell_type": "code",
   "source": [
    "x = torch.rand(5, 3)\n",
    "x"
   ],
   "metadata": {
    "colab": {
     "base_uri": "https://localhost:8080/"
    },
    "id": "voP0czyoO8E0",
    "executionInfo": {
     "status": "ok",
     "timestamp": 1649330828133,
     "user_tz": -180,
     "elapsed": 32,
     "user": {
      "displayName": "Андрей Рожин",
      "userId": "10247013387273590151"
     }
    },
    "outputId": "c2639ca5-cd20-4c19-cca6-78c624844d59",
    "pycharm": {
     "name": "#%%\n"
    }
   },
   "execution_count": null,
   "outputs": [
    {
     "output_type": "execute_result",
     "data": {
      "text/plain": [
       "tensor([[0.8029, 0.9295, 0.5648],\n",
       "        [0.2401, 0.3846, 0.5954],\n",
       "        [0.4076, 0.0725, 0.5171],\n",
       "        [0.1806, 0.9065, 0.6651],\n",
       "        [0.4294, 0.1746, 0.8620]])"
      ]
     },
     "metadata": {},
     "execution_count": 9
    }
   ]
  },
  {
   "cell_type": "code",
   "source": [
    "print(\"Проверили размеры : \\n%s\\n\" % (x.shape, ))"
   ],
   "metadata": {
    "colab": {
     "base_uri": "https://localhost:8080/"
    },
    "id": "QOeOKpgrPRO-",
    "executionInfo": {
     "status": "ok",
     "timestamp": 1649330828134,
     "user_tz": -180,
     "elapsed": 27,
     "user": {
      "displayName": "Андрей Рожин",
      "userId": "10247013387273590151"
     }
    },
    "outputId": "de5016d5-f811-44d0-d634-bd8634de3909",
    "pycharm": {
     "name": "#%%\n"
    }
   },
   "execution_count": null,
   "outputs": [
    {
     "output_type": "stream",
     "name": "stdout",
     "text": [
      "Проверили размеры : \n",
      "torch.Size([5, 3])\n",
      "\n"
     ]
    }
   ]
  },
  {
   "cell_type": "code",
   "source": [
    "print(\"Добавили 5 : \\n%s\\n\" % (x + 5))"
   ],
   "metadata": {
    "colab": {
     "base_uri": "https://localhost:8080/"
    },
    "id": "SmZtLz3mPhA2",
    "executionInfo": {
     "status": "ok",
     "timestamp": 1649330828135,
     "user_tz": -180,
     "elapsed": 25,
     "user": {
      "displayName": "Андрей Рожин",
      "userId": "10247013387273590151"
     }
    },
    "outputId": "289eab2b-f95e-469f-c45a-ee58c727a787",
    "pycharm": {
     "name": "#%%\n"
    }
   },
   "execution_count": null,
   "outputs": [
    {
     "output_type": "stream",
     "name": "stdout",
     "text": [
      "Добавили 5 : \n",
      "tensor([[5.8029, 5.9295, 5.5648],\n",
      "        [5.2401, 5.3846, 5.5954],\n",
      "        [5.4076, 5.0725, 5.5171],\n",
      "        [5.1806, 5.9065, 5.6651],\n",
      "        [5.4294, 5.1746, 5.8620]])\n",
      "\n"
     ]
    }
   ]
  },
  {
   "cell_type": "code",
   "source": [
    "# для перемножения тензоров высокой размерности читайте документацию по различным вариантам:\n",
    "# torch.mm, torch.matmul, torch.bmm, @\n",
    "\n",
    "print(\"X * X^T  (1): \\n%s\\n\" % torch.matmul(x, x.transpose(1, 0)))\n",
    "print(\"X * X^T  (1): \\n%s\\n\" % x.mm(x.t()))"
   ],
   "metadata": {
    "colab": {
     "base_uri": "https://localhost:8080/"
    },
    "id": "feQLIU0EPxYT",
    "executionInfo": {
     "status": "ok",
     "timestamp": 1649330828136,
     "user_tz": -180,
     "elapsed": 23,
     "user": {
      "displayName": "Андрей Рожин",
      "userId": "10247013387273590151"
     }
    },
    "outputId": "822c1744-17f8-4015-dc37-a70746fcdcb3",
    "pycharm": {
     "name": "#%%\n"
    }
   },
   "execution_count": null,
   "outputs": [
    {
     "output_type": "stream",
     "name": "stdout",
     "text": [
      "X * X^T  (1): \n",
      "tensor([[1.8274, 0.8865, 0.6867, 1.3632, 0.9938],\n",
      "        [0.8865, 0.5601, 0.4336, 0.7880, 0.6834],\n",
      "        [0.6867, 0.4336, 0.4388, 0.4833, 0.6334],\n",
      "        [1.3632, 0.7880, 0.4833, 1.2967, 0.8091],\n",
      "        [0.9938, 0.6834, 0.6334, 0.8091, 0.9579]])\n",
      "\n",
      "X * X^T  (1): \n",
      "tensor([[1.8274, 0.8865, 0.6867, 1.3632, 0.9938],\n",
      "        [0.8865, 0.5601, 0.4336, 0.7880, 0.6834],\n",
      "        [0.6867, 0.4336, 0.4388, 0.4833, 0.6334],\n",
      "        [1.3632, 0.7880, 0.4833, 1.2967, 0.8091],\n",
      "        [0.9938, 0.6834, 0.6334, 0.8091, 0.9579]])\n",
      "\n"
     ]
    }
   ]
  },
  {
   "cell_type": "code",
   "source": [
    "# dim = 0 ____________ Столбцы\n",
    "# dim = 1 ____________ Колонки\n",
    "\n",
    "print(\"Среднее по колонкам: \\n%s\\n\" % x.mean(dim = -1))"
   ],
   "metadata": {
    "colab": {
     "base_uri": "https://localhost:8080/"
    },
    "id": "OgdEe7G3QJMb",
    "executionInfo": {
     "status": "ok",
     "timestamp": 1649330828137,
     "user_tz": -180,
     "elapsed": 20,
     "user": {
      "displayName": "Андрей Рожин",
      "userId": "10247013387273590151"
     }
    },
    "outputId": "d7ae1ce1-8dbf-4d7c-8b23-2de922f0f689",
    "pycharm": {
     "name": "#%%\n"
    }
   },
   "execution_count": null,
   "outputs": [
    {
     "output_type": "stream",
     "name": "stdout",
     "text": [
      "Среднее по колонкам: \n",
      "tensor([0.7657, 0.4067, 0.3324, 0.5841, 0.4887])\n",
      "\n"
     ]
    }
   ]
  },
  {
   "cell_type": "code",
   "source": [
    "print(\"Изменили размеры : \\n%s\\n\" % (x.view([3, 5]).shape, ))\n",
    "print(\"Изменили размеры по другому : \\n%s\\n\" % (x.view_as(x.t()).shape, ))\n",
    "\n",
    "# будьте внимательны и не используйте view для транспонирования осей\n",
    "print(f\"Но не транспонировали!\\n{x.view_as(x.t()) == x.t()}\")"
   ],
   "metadata": {
    "colab": {
     "base_uri": "https://localhost:8080/"
    },
    "id": "ndMjo39nQdo-",
    "executionInfo": {
     "status": "ok",
     "timestamp": 1649330828469,
     "user_tz": -180,
     "elapsed": 349,
     "user": {
      "displayName": "Андрей Рожин",
      "userId": "10247013387273590151"
     }
    },
    "outputId": "f38ecc57-52d9-48f4-c426-57001e820712",
    "pycharm": {
     "name": "#%%\n"
    }
   },
   "execution_count": null,
   "outputs": [
    {
     "output_type": "stream",
     "name": "stdout",
     "text": [
      "Изменили размеры : \n",
      "torch.Size([3, 5])\n",
      "\n",
      "Изменили размеры по другому : \n",
      "torch.Size([3, 5])\n",
      "\n",
      "Но не транспонировали!\n",
      "tensor([[ True, False, False, False, False],\n",
      "        [False, False,  True, False, False],\n",
      "        [False, False, False, False,  True]])\n"
     ]
    }
   ]
  },
  {
   "cell_type": "markdown",
   "source": [
    "Небольшой пример того, как меняются операции:\n",
    "\n",
    "* `x.reshape([1,2,8]) -> x.view(1,2,8)`\n",
    "\n",
    "* `x.sum(axis=-1) -> x.sum(dim=-1)`\n",
    "\n",
    "* `x.astype(\"int64\") -> x.type(torch.LongTensor)`\n",
    "\n",
    "Для помощи вам есть [таблица](https://github.com/torch/torch7/wiki/Torch-for-Numpy-users), которая поможет вам найти аналог операции в numpy"
   ],
   "metadata": {
    "id": "eBb5oggKSEup",
    "pycharm": {
     "name": "#%% md\n"
    }
   }
  },
  {
   "cell_type": "markdown",
   "source": [
    "# Разминка на **PyTorch**\n",
    "\n",
    "При помощи **PyTorch** посчитайте сумму квадратов натуральных чисел от 1 до 10000"
   ],
   "metadata": {
    "id": "YXEmhEf6SUGi",
    "pycharm": {
     "name": "#%% md\n"
    }
   }
  },
  {
   "cell_type": "code",
   "source": [
    "torch.sum(torch.arange(1, 10001) ** 2)"
   ],
   "metadata": {
    "colab": {
     "base_uri": "https://localhost:8080/"
    },
    "id": "-AjnZDPmRU2o",
    "executionInfo": {
     "status": "ok",
     "timestamp": 1649330828470,
     "user_tz": -180,
     "elapsed": 53,
     "user": {
      "displayName": "Андрей Рожин",
      "userId": "10247013387273590151"
     }
    },
    "outputId": "e3a63390-74ac-4f9b-94e2-7c90472e44a4",
    "pycharm": {
     "name": "#%%\n"
    }
   },
   "execution_count": null,
   "outputs": [
    {
     "output_type": "execute_result",
     "data": {
      "text/plain": [
       "tensor(333383335000)"
      ]
     },
     "metadata": {},
     "execution_count": 15
    }
   ]
  },
  {
   "cell_type": "markdown",
   "source": [
    "# 2. Создаем тензоры в **PyTorch** и снова изучаем базовые операции."
   ],
   "metadata": {
    "id": "L1Umc0gjSqWK",
    "pycharm": {
     "name": "#%% md\n"
    }
   }
  },
  {
   "cell_type": "code",
   "source": [
    "x = torch.empty(5, 3) # создаем пустой тензор\n",
    "x"
   ],
   "metadata": {
    "colab": {
     "base_uri": "https://localhost:8080/"
    },
    "id": "15zAJ3dNSgRK",
    "executionInfo": {
     "status": "ok",
     "timestamp": 1649330828470,
     "user_tz": -180,
     "elapsed": 49,
     "user": {
      "displayName": "Андрей Рожин",
      "userId": "10247013387273590151"
     }
    },
    "outputId": "fbca65fe-d44b-4474-bda4-cbc99af20ce2",
    "pycharm": {
     "name": "#%%\n"
    }
   },
   "execution_count": null,
   "outputs": [
    {
     "output_type": "execute_result",
     "data": {
      "text/plain": [
       "tensor([[3.1990e-29, 3.0869e-41, 3.3631e-44],\n",
       "        [0.0000e+00,        nan, 0.0000e+00],\n",
       "        [1.1578e+27, 1.1362e+30, 7.1547e+22],\n",
       "        [4.5828e+30, 1.2121e+04, 7.1846e+22],\n",
       "        [9.2198e-39, 7.0374e+22, 3.4548e-09]])"
      ]
     },
     "metadata": {},
     "execution_count": 16
    }
   ]
  },
  {
   "cell_type": "code",
   "source": [
    "x = torch.rand(5, 3) # случайный тензор\n",
    "x"
   ],
   "metadata": {
    "colab": {
     "base_uri": "https://localhost:8080/"
    },
    "id": "vxG6oX6JTC8r",
    "executionInfo": {
     "status": "ok",
     "timestamp": 1649330828471,
     "user_tz": -180,
     "elapsed": 47,
     "user": {
      "displayName": "Андрей Рожин",
      "userId": "10247013387273590151"
     }
    },
    "outputId": "cfc4177c-d6ee-4cbe-c721-69fb7e21de9b",
    "pycharm": {
     "name": "#%%\n"
    }
   },
   "execution_count": null,
   "outputs": [
    {
     "output_type": "execute_result",
     "data": {
      "text/plain": [
       "tensor([[0.4969, 0.4883, 0.7104],\n",
       "        [0.7775, 0.2587, 0.8226],\n",
       "        [0.9778, 0.4629, 0.5675],\n",
       "        [0.3200, 0.6493, 0.3333],\n",
       "        [0.2592, 0.1415, 0.4262]])"
      ]
     },
     "metadata": {},
     "execution_count": 17
    }
   ]
  },
  {
   "cell_type": "code",
   "source": [
    "x = torch.zeros(5, 3, dtype = torch.long) # тензор с нуля и указанием типа переменных\n",
    "x"
   ],
   "metadata": {
    "colab": {
     "base_uri": "https://localhost:8080/"
    },
    "id": "wLIAOdFITMWZ",
    "executionInfo": {
     "status": "ok",
     "timestamp": 1649330828472,
     "user_tz": -180,
     "elapsed": 45,
     "user": {
      "displayName": "Андрей Рожин",
      "userId": "10247013387273590151"
     }
    },
    "outputId": "a13ecb22-1aa7-4b10-854d-90360cb3bb66",
    "pycharm": {
     "name": "#%%\n"
    }
   },
   "execution_count": null,
   "outputs": [
    {
     "output_type": "execute_result",
     "data": {
      "text/plain": [
       "tensor([[0, 0, 0],\n",
       "        [0, 0, 0],\n",
       "        [0, 0, 0],\n",
       "        [0, 0, 0],\n",
       "        [0, 0, 0]])"
      ]
     },
     "metadata": {},
     "execution_count": 18
    }
   ]
  },
  {
   "cell_type": "code",
   "source": [
    "x = torch.tensor([1, 2, 3, 4, 5]) # тензор из питоновского листа или массива NumPy\n",
    "x"
   ],
   "metadata": {
    "colab": {
     "base_uri": "https://localhost:8080/"
    },
    "id": "5l0p_VP1TWA8",
    "executionInfo": {
     "status": "ok",
     "timestamp": 1649330828473,
     "user_tz": -180,
     "elapsed": 43,
     "user": {
      "displayName": "Андрей Рожин",
      "userId": "10247013387273590151"
     }
    },
    "outputId": "1804150c-7a3c-4e3f-8d4d-5d41a2b4f679",
    "pycharm": {
     "name": "#%%\n"
    }
   },
   "execution_count": null,
   "outputs": [
    {
     "output_type": "execute_result",
     "data": {
      "text/plain": [
       "tensor([1, 2, 3, 4, 5])"
      ]
     },
     "metadata": {},
     "execution_count": 19
    }
   ]
  },
  {
   "cell_type": "code",
   "source": [
    "x = x.new_ones(5, 3, dtype = torch.double) # используем уже созданный тензор для создания тензора из единичек\n",
    "print(x, x.size(), sep = '\\t')"
   ],
   "metadata": {
    "colab": {
     "base_uri": "https://localhost:8080/"
    },
    "id": "OmqCH_3STeV-",
    "executionInfo": {
     "status": "ok",
     "timestamp": 1649330828473,
     "user_tz": -180,
     "elapsed": 40,
     "user": {
      "displayName": "Андрей Рожин",
      "userId": "10247013387273590151"
     }
    },
    "outputId": "066dbc1e-fc4b-4bbc-a905-455f64669b55",
    "pycharm": {
     "name": "#%%\n"
    }
   },
   "execution_count": null,
   "outputs": [
    {
     "output_type": "stream",
     "name": "stdout",
     "text": [
      "tensor([[1., 1., 1.],\n",
      "        [1., 1., 1.],\n",
      "        [1., 1., 1.],\n",
      "        [1., 1., 1.],\n",
      "        [1., 1., 1.]], dtype=torch.float64)\ttorch.Size([5, 3])\n"
     ]
    }
   ]
  },
  {
   "cell_type": "code",
   "source": [
    "x = torch.rand_like(x, dtype = torch.float) # создаем тензор (случайный) с размерами как x\n",
    "print(x, x.size(), sep = '\\t')"
   ],
   "metadata": {
    "colab": {
     "base_uri": "https://localhost:8080/"
    },
    "id": "x8E7tvAgUMoC",
    "executionInfo": {
     "status": "ok",
     "timestamp": 1649330828474,
     "user_tz": -180,
     "elapsed": 38,
     "user": {
      "displayName": "Андрей Рожин",
      "userId": "10247013387273590151"
     }
    },
    "outputId": "05c04590-d41a-463a-acc0-6551d55db365",
    "pycharm": {
     "name": "#%%\n"
    }
   },
   "execution_count": null,
   "outputs": [
    {
     "output_type": "stream",
     "name": "stdout",
     "text": [
      "tensor([[0.2617, 0.1594, 0.4914],\n",
      "        [0.3271, 0.9000, 0.9192],\n",
      "        [0.8696, 0.6146, 0.2952],\n",
      "        [0.7633, 0.5828, 0.2863],\n",
      "        [0.1106, 0.9118, 0.8654]])\ttorch.Size([5, 3])\n"
     ]
    }
   ]
  },
  {
   "cell_type": "code",
   "source": [
    "y = torch.rand(5, 3) # операция сложения \n",
    "print(x + y)"
   ],
   "metadata": {
    "colab": {
     "base_uri": "https://localhost:8080/"
    },
    "id": "dtssdqX2T3Nu",
    "executionInfo": {
     "status": "ok",
     "timestamp": 1649330828475,
     "user_tz": -180,
     "elapsed": 37,
     "user": {
      "displayName": "Андрей Рожин",
      "userId": "10247013387273590151"
     }
    },
    "outputId": "83cae455-71ab-45ca-95c9-ccc4b11e1b6e",
    "pycharm": {
     "name": "#%%\n"
    }
   },
   "execution_count": null,
   "outputs": [
    {
     "output_type": "stream",
     "name": "stdout",
     "text": [
      "tensor([[0.9109, 1.0040, 0.8227],\n",
      "        [0.5324, 1.4309, 1.1148],\n",
      "        [1.1509, 0.8672, 0.9323],\n",
      "        [1.6740, 0.9931, 0.5171],\n",
      "        [0.9499, 1.3751, 1.2412]])\n"
     ]
    }
   ]
  },
  {
   "cell_type": "code",
   "source": [
    "z = torch.add(x, y) # еще один вариант сложения\n",
    "z"
   ],
   "metadata": {
    "colab": {
     "base_uri": "https://localhost:8080/"
    },
    "id": "VGOjO438UZYf",
    "executionInfo": {
     "status": "ok",
     "timestamp": 1649330828475,
     "user_tz": -180,
     "elapsed": 33,
     "user": {
      "displayName": "Андрей Рожин",
      "userId": "10247013387273590151"
     }
    },
    "outputId": "ec2750b4-c154-4832-baeb-1a5d4a26b8c5",
    "pycharm": {
     "name": "#%%\n"
    }
   },
   "execution_count": null,
   "outputs": [
    {
     "output_type": "execute_result",
     "data": {
      "text/plain": [
       "tensor([[0.9109, 1.0040, 0.8227],\n",
       "        [0.5324, 1.4309, 1.1148],\n",
       "        [1.1509, 0.8672, 0.9323],\n",
       "        [1.6740, 0.9931, 0.5171],\n",
       "        [0.9499, 1.3751, 1.2412]])"
      ]
     },
     "metadata": {},
     "execution_count": 23
    }
   ]
  },
  {
   "cell_type": "code",
   "source": [
    "torch.add(x, y, out = z) # последний вариант сложения\n",
    "z"
   ],
   "metadata": {
    "colab": {
     "base_uri": "https://localhost:8080/"
    },
    "id": "XhQ_cwJQUjKI",
    "executionInfo": {
     "status": "ok",
     "timestamp": 1649330828476,
     "user_tz": -180,
     "elapsed": 32,
     "user": {
      "displayName": "Андрей Рожин",
      "userId": "10247013387273590151"
     }
    },
    "outputId": "326f1a53-2cde-4d0c-f5ee-35c1e2bb07ff",
    "pycharm": {
     "name": "#%%\n"
    }
   },
   "execution_count": null,
   "outputs": [
    {
     "output_type": "execute_result",
     "data": {
      "text/plain": [
       "tensor([[0.9109, 1.0040, 0.8227],\n",
       "        [0.5324, 1.4309, 1.1148],\n",
       "        [1.1509, 0.8672, 0.9323],\n",
       "        [1.6740, 0.9931, 0.5171],\n",
       "        [0.9499, 1.3751, 1.2412]])"
      ]
     },
     "metadata": {},
     "execution_count": 24
    }
   ]
  },
  {
   "cell_type": "code",
   "source": [
    "print(x * y)   # поэлементное сложение"
   ],
   "metadata": {
    "colab": {
     "base_uri": "https://localhost:8080/"
    },
    "id": "WW2W1tclUsov",
    "executionInfo": {
     "status": "ok",
     "timestamp": 1649330828477,
     "user_tz": -180,
     "elapsed": 30,
     "user": {
      "displayName": "Андрей Рожин",
      "userId": "10247013387273590151"
     }
    },
    "outputId": "e20bed55-b7ee-4189-f251-3403095fb0ee",
    "pycharm": {
     "name": "#%%\n"
    }
   },
   "execution_count": null,
   "outputs": [
    {
     "output_type": "stream",
     "name": "stdout",
     "text": [
      "tensor([[0.1699, 0.1346, 0.1628],\n",
      "        [0.0672, 0.4778, 0.1798],\n",
      "        [0.2447, 0.1553, 0.1881],\n",
      "        [0.6951, 0.2391, 0.0661],\n",
      "        [0.0928, 0.4224, 0.3252]])\n"
     ]
    }
   ]
  },
  {
   "cell_type": "code",
   "source": [
    "print(x @ y.t()) # матричное умножение"
   ],
   "metadata": {
    "colab": {
     "base_uri": "https://localhost:8080/"
    },
    "id": "8WQZm-FFU2zj",
    "executionInfo": {
     "status": "ok",
     "timestamp": 1649330828477,
     "user_tz": -180,
     "elapsed": 27,
     "user": {
      "displayName": "Андрей Рожин",
      "userId": "10247013387273590151"
     }
    },
    "outputId": "ff42ff6e-7a39-4a2b-89d3-32d9bfdadcfd",
    "pycharm": {
     "name": "#%%\n"
    }
   },
   "execution_count": null,
   "outputs": [
    {
     "output_type": "stream",
     "name": "stdout",
     "text": [
      "tensor([[0.4673, 0.2345, 0.4270, 0.4171, 0.4781],\n",
      "        [1.2770, 0.7248, 0.9050, 0.8793, 1.0369],\n",
      "        [1.1815, 0.5626, 0.5880, 1.1122, 1.1254],\n",
      "        [1.0826, 0.5222, 0.5444, 1.0003, 1.0182],\n",
      "        [1.1287, 0.6761, 0.8128, 0.6746, 0.8405]])\n"
     ]
    }
   ]
  },
  {
   "cell_type": "code",
   "source": [
    "print(x.mm(y.t())) # еще один вариант матричного умножения"
   ],
   "metadata": {
    "colab": {
     "base_uri": "https://localhost:8080/"
    },
    "id": "2Y6x2ooVU8JW",
    "executionInfo": {
     "status": "ok",
     "timestamp": 1649330828478,
     "user_tz": -180,
     "elapsed": 25,
     "user": {
      "displayName": "Андрей Рожин",
      "userId": "10247013387273590151"
     }
    },
    "outputId": "b41d6c7c-f73b-4e8b-8fb3-d23c51c6e0f5",
    "pycharm": {
     "name": "#%%\n"
    }
   },
   "execution_count": null,
   "outputs": [
    {
     "output_type": "stream",
     "name": "stdout",
     "text": [
      "tensor([[0.4673, 0.2345, 0.4270, 0.4171, 0.4781],\n",
      "        [1.2770, 0.7248, 0.9050, 0.8793, 1.0369],\n",
      "        [1.1815, 0.5626, 0.5880, 1.1122, 1.1254],\n",
      "        [1.0826, 0.5222, 0.5444, 1.0003, 1.0182],\n",
      "        [1.1287, 0.6761, 0.8128, 0.6746, 0.8405]])\n"
     ]
    }
   ]
  },
  {
   "cell_type": "code",
   "source": [
    "print(x.unsqueeze(0).shape) # добавили элемент в начало, аналог бродкастинга"
   ],
   "metadata": {
    "colab": {
     "base_uri": "https://localhost:8080/"
    },
    "id": "91w2UgnXVIqC",
    "executionInfo": {
     "status": "ok",
     "timestamp": 1649330828479,
     "user_tz": -180,
     "elapsed": 23,
     "user": {
      "displayName": "Андрей Рожин",
      "userId": "10247013387273590151"
     }
    },
    "outputId": "eda188fc-8ca3-4f50-ee89-b0a59a83d346",
    "pycharm": {
     "name": "#%%\n"
    }
   },
   "execution_count": null,
   "outputs": [
    {
     "output_type": "stream",
     "name": "stdout",
     "text": [
      "torch.Size([1, 5, 3])\n"
     ]
    }
   ]
  },
  {
   "cell_type": "code",
   "source": [
    "print(x.unsqueeze(0).squeeze(0).shape) # убрали измерение в начале, аналог бродкастинга"
   ],
   "metadata": {
    "colab": {
     "base_uri": "https://localhost:8080/"
    },
    "id": "PDb5O7r9VYMi",
    "executionInfo": {
     "status": "ok",
     "timestamp": 1649330828827,
     "user_tz": -180,
     "elapsed": 368,
     "user": {
      "displayName": "Андрей Рожин",
      "userId": "10247013387273590151"
     }
    },
    "outputId": "bdc7d2a0-d67e-4f62-9257-84ba0dfd390c",
    "pycharm": {
     "name": "#%%\n"
    }
   },
   "execution_count": null,
   "outputs": [
    {
     "output_type": "stream",
     "name": "stdout",
     "text": [
      "torch.Size([5, 3])\n"
     ]
    }
   ]
  },
  {
   "cell_type": "markdown",
   "source": [
    "### Мы также можем делать обычные срезу и переводить матрицы назад в **NumPy** "
   ],
   "metadata": {
    "id": "o2bF81rDVnQ6",
    "pycharm": {
     "name": "#%% md\n"
    }
   }
  },
  {
   "cell_type": "code",
   "source": [
    "a = np.ones((3, 5))\n",
    "x = torch.ones((3, 5))\n",
    "print(np.allclose(x.numpy(), a))\n",
    "print(np.allclose(x.numpy()[:, 1], a[:, 1]))"
   ],
   "metadata": {
    "colab": {
     "base_uri": "https://localhost:8080/"
    },
    "id": "ZH6jx7bXVjME",
    "executionInfo": {
     "status": "ok",
     "timestamp": 1649330828828,
     "user_tz": -180,
     "elapsed": 12,
     "user": {
      "displayName": "Андрей Рожин",
      "userId": "10247013387273590151"
     }
    },
    "outputId": "7e6d7347-dfdd-4b7b-9d3b-2c0ed1be1edf",
    "pycharm": {
     "name": "#%%\n"
    }
   },
   "execution_count": null,
   "outputs": [
    {
     "output_type": "stream",
     "name": "stdout",
     "text": [
      "True\n",
      "True\n"
     ]
    }
   ]
  },
  {
   "cell_type": "markdown",
   "source": [
    "# 3. Работаем с градиентами руками"
   ],
   "metadata": {
    "id": "8wfps67XWIt3",
    "pycharm": {
     "name": "#%% md\n"
    }
   }
  },
  {
   "cell_type": "markdown",
   "source": [
    "В pytorch есть возможность при создании тензора указывать нужно ли считать по нему градиент или нет, с помощью параметра `requires_grad`. Когда `requires_grad=True` мы сообщаем фреймворку, о том, **что мы хотим следить за всеми тензорами, которые получаются из созданного**. Иными словами, у любого тензора, у которого указан данный параметр, будет доступ к цепочке операций и преобразований совершенными с ними. Если эти функции дифференцируемые, то у тензора появляется параметр `.grad`, в котором хранится значение градиента."
   ],
   "metadata": {
    "id": "4C-wstT4ZSPv",
    "pycharm": {
     "name": "#%% md\n"
    }
   }
  },
  {
   "cell_type": "code",
   "source": [
    "# построим зависимость одного из 13 признаков датасета (последнего) от таргета\n",
    "boston = load_boston();\n",
    "plt.scatter(boston.data[:, -1], boston.target);"
   ],
   "metadata": {
    "colab": {
     "base_uri": "https://localhost:8080/",
     "height": 890
    },
    "id": "jLDhbfQsWHK7",
    "executionInfo": {
     "status": "ok",
     "timestamp": 1649330829150,
     "user_tz": -180,
     "elapsed": 330,
     "user": {
      "displayName": "Андрей Рожин",
      "userId": "10247013387273590151"
     }
    },
    "outputId": "e69229c9-d192-48cf-ba12-d9ac11913fa5",
    "pycharm": {
     "name": "#%%\n"
    }
   },
   "execution_count": null,
   "outputs": [
    {
     "output_type": "stream",
     "name": "stderr",
     "text": [
      "/usr/local/lib/python3.7/dist-packages/sklearn/utils/deprecation.py:87: FutureWarning: Function load_boston is deprecated; `load_boston` is deprecated in 1.0 and will be removed in 1.2.\n",
      "\n",
      "    The Boston housing prices dataset has an ethical problem. You can refer to\n",
      "    the documentation of this function for further details.\n",
      "\n",
      "    The scikit-learn maintainers therefore strongly discourage the use of this\n",
      "    dataset unless the purpose of the code is to study and educate about\n",
      "    ethical issues in data science and machine learning.\n",
      "\n",
      "    In this special case, you can fetch the dataset from the original\n",
      "    source::\n",
      "\n",
      "        import pandas as pd\n",
      "        import numpy as np\n",
      "\n",
      "\n",
      "        data_url = \"http://lib.stat.cmu.edu/datasets/boston\"\n",
      "        raw_df = pd.read_csv(data_url, sep=\"\\s+\", skiprows=22, header=None)\n",
      "        data = np.hstack([raw_df.values[::2, :], raw_df.values[1::2, :2]])\n",
      "        target = raw_df.values[1::2, 2]\n",
      "\n",
      "    Alternative datasets include the California housing dataset (i.e.\n",
      "    :func:`~sklearn.datasets.fetch_california_housing`) and the Ames housing\n",
      "    dataset. You can load the datasets as follows::\n",
      "\n",
      "        from sklearn.datasets import fetch_california_housing\n",
      "        housing = fetch_california_housing()\n",
      "\n",
      "    for the California housing dataset and::\n",
      "\n",
      "        from sklearn.datasets import fetch_openml\n",
      "        housing = fetch_openml(name=\"house_prices\", as_frame=True)\n",
      "\n",
      "    for the Ames housing dataset.\n",
      "    \n",
      "  warnings.warn(msg, category=FutureWarning)\n"
     ]
    },
    {
     "output_type": "display_data",
     "data": {
      "text/plain": [
       "<Figure size 432x288 with 1 Axes>"
      ],
      "image/png": "[encoded data removed]"
     },
     "metadata": {
      "needs_background": "light"
     }
    }
   ]
  },
  {
   "cell_type": "markdown",
   "source": [
    "Если к результирующему тензору применить метод `.backward()`, то фреймворк посчитает по цепочке градиенту для всех тензоров, у которых `requires_grad=True`.\n",
    "\n",
    "Напишем алгоритм для одной итерации по градиентному спуску."
   ],
   "metadata": {
    "id": "POv_brOHZ0-l",
    "pycharm": {
     "name": "#%% md\n"
    }
   }
  },
  {
   "cell_type": "code",
   "source": [
    "w = torch.rand(1, requires_grad = True) # размерность один, т.к. признак будет 1\n",
    "b = torch.rand(1, requires_grad = True)\n",
    "\n",
    "\n",
    "x = torch.tensor(boston.data[:, -1] / boston.data[:, -1].max(), dtype = torch.double) # записываем данные в тензор, минмакс скейлим и устанавливаем тип дабл\n",
    "y = torch.tensor(boston.target, dtype = torch.double)\n",
    "\n",
    "# т.к. обучение еще не началось, проверим, чтобы градиент был пуст\n",
    "assert w.grad is None\n",
    "assert b.grad is None "
   ],
   "metadata": {
    "id": "9BeWoW2RZqsb",
    "pycharm": {
     "name": "#%%\n"
    }
   },
   "execution_count": null,
   "outputs": []
  },
  {
   "cell_type": "code",
   "source": [
    "y_pred = x * w + b # собственно предсказанный таргет\n",
    "loss = torch.mean(((y_pred - y) ** 2)) # считаем лосс\n",
    "loss.backward() # считаем градиент по нему"
   ],
   "metadata": {
    "id": "BRCcIwj2aMro",
    "pycharm": {
     "name": "#%%\n"
    }
   },
   "execution_count": null,
   "outputs": []
  },
  {
   "cell_type": "code",
   "source": [
    "assert w.grad is not None # после одной итерации градиент посчитан и есть смысл проверить, что значения появились\n",
    "assert b.grad is not None \n",
    "\n",
    "print(\"Grad 'W' : \\n%s\\n\" % w.grad)\n",
    "print(\"Grad 'B' : \\n%s\\n\" % b.grad)"
   ],
   "metadata": {
    "colab": {
     "base_uri": "https://localhost:8080/"
    },
    "id": "thiM7UEJbXHx",
    "executionInfo": {
     "status": "ok",
     "timestamp": 1649330829152,
     "user_tz": -180,
     "elapsed": 16,
     "user": {
      "displayName": "Андрей Рожин",
      "userId": "10247013387273590151"
     }
    },
    "outputId": "176c0444-1976-4046-ee57-12352a48a6fe",
    "pycharm": {
     "name": "#%%\n"
    }
   },
   "execution_count": null,
   "outputs": [
    {
     "output_type": "stream",
     "name": "stdout",
     "text": [
      "Grad 'W' : \n",
      "tensor([-12.1809])\n",
      "\n",
      "Grad 'B' : \n",
      "tensor([-44.2065])\n",
      "\n"
     ]
    }
   ]
  },
  {
   "cell_type": "markdown",
   "source": [
    "__Ремарка__. Для доступа к значениям в тензоре используйте атрибут `.data`:"
   ],
   "metadata": {
    "id": "i6LsGmXBcXfg",
    "pycharm": {
     "name": "#%% md\n"
    }
   }
  },
  {
   "cell_type": "code",
   "source": [
    "w.data # собственно вес при признаке"
   ],
   "metadata": {
    "colab": {
     "base_uri": "https://localhost:8080/"
    },
    "id": "c6Yd6CSAbqPv",
    "executionInfo": {
     "status": "ok",
     "timestamp": 1649330829153,
     "user_tz": -180,
     "elapsed": 13,
     "user": {
      "displayName": "Андрей Рожин",
      "userId": "10247013387273590151"
     }
    },
    "outputId": "5250a216-ff0a-4c1c-a0d6-87bb54f00414",
    "pycharm": {
     "name": "#%%\n"
    }
   },
   "execution_count": null,
   "outputs": [
    {
     "output_type": "execute_result",
     "data": {
      "text/plain": [
       "tensor([0.0500])"
      ]
     },
     "metadata": {},
     "execution_count": 35
    }
   ]
  },
  {
   "cell_type": "code",
   "source": [
    "from IPython.display import clear_output\n",
    "\n",
    "LEARNING_RATE = 0.5\n",
    "\n",
    "w = torch.rand(3, requires_grad = True) \n",
    "b = torch.rand(1, requires_grad = True)\n",
    "\n",
    "x = torch.tensor(boston.data[:, -1] / boston.data[:, -1].max(), dtype = torch.double) \n",
    "y = torch.tensor(boston.target, dtype = torch.double)\n",
    "\n",
    "\n",
    "for i in range(100):\n",
    "  y_pred = (x ** 3) * w[0] + (x ** 2) * w[1] + x * w[2] + b\n",
    "  loss = torch.mean((y_pred - y) ** 2)\n",
    "  loss.backward()\n",
    "\n",
    "  w.data -= LEARNING_RATE * w.grad\n",
    "  b.data -= LEARNING_RATE * b.grad\n",
    "\n",
    "  # обнуляем градиенты чтобы на следующем шаги посчитать их заново\n",
    "  w.grad.data.zero_()\n",
    "  b.grad.data.zero_()\n",
    "\n",
    "  # рисуем график\n",
    "  if ( i + 1 ) % 5 == 0:\n",
    "    clear_output(True)\n",
    "    # исходный график\n",
    "    plt.figure(figsize=(10,8))\n",
    "    plt.scatter(x.data.numpy(), y.data.numpy(), label = 'data')\n",
    "\n",
    "    # решение лин регрессии\n",
    "    plt.scatter(x.data.numpy(), y_pred.data.numpy(),\n",
    "                color = 'red', linewidths=5, label = 'predict')\n",
    "\n",
    "    # оформление осей\n",
    "    plt.xlabel(\"LSTAT\", fontsize=14)\n",
    "    plt.ylabel(\"MEDV (target)\", fontsize=14)\n",
    "    plt.title(\"Boston modelling\", fontsize=18)\n",
    "    plt.legend(fontsize=14)\n",
    "    plt.show()\n",
    "\n",
    "    print(\"loss = \", loss.data.numpy())\n",
    "    \n",
    "    # тормозим если ошибка маленькая\n",
    "    if loss.data.numpy() < 0.1:\n",
    "        print(\"Done!\")\n",
    "        break"
   ],
   "metadata": {
    "colab": {
     "base_uri": "https://localhost:8080/",
     "height": 538
    },
    "id": "rEHJInsQcZdP",
    "executionInfo": {
     "status": "ok",
     "timestamp": 1649330876644,
     "user_tz": -180,
     "elapsed": 11710,
     "user": {
      "displayName": "Андрей Рожин",
      "userId": "10247013387273590151"
     }
    },
    "outputId": "2bf5fd51-8ffb-431f-8990-a4764a87a7bf",
    "pycharm": {
     "name": "#%%\n"
    }
   },
   "execution_count": null,
   "outputs": [
    {
     "output_type": "display_data",
     "data": {
      "text/plain": [
       "<Figure size 720x576 with 1 Axes>"
      ],
      "image/png": "[encoded data removed]"
     },
     "metadata": {
      "needs_background": "light"
     }
    },
    {
     "output_type": "stream",
     "name": "stdout",
     "text": [
      "loss =  41.16241695461815\n"
     ]
    }
   ]
  },
  {
   "cell_type": "markdown",
   "source": [
    "# 4. Моя первая нейронная сеть\n",
    "\n",
    "Для того, чтобы разобраться как обучать нейросите в pytorch, нужно освоить три вещи: \n",
    "\n",
    "1. Как формировать батчи и пихать их в сетку\n",
    "2. Как сделать сетку\n",
    "3. Как написать цикл обучения и отслеживать метрики"
   ],
   "metadata": {
    "id": "dQwbz5Nmg2Ga",
    "pycharm": {
     "name": "#%% md\n"
    }
   }
  },
  {
   "cell_type": "markdown",
   "source": [
    "#### Как формировать батчи и подавать их на вход нейросети\n",
    "\n",
    "**PyTorch** разработал установленные требования взаимодейстивя с данными, которые делают его довольно понятным, независимо от того, работаем с изображениями, текстом или аудио.\n",
    "\n",
    "*Двумя основными условиями для работы с данными являются* **наборы данных** *и* **загрузчики данных**.\n",
    "\n",
    "**Набор данных** - это класс Python (наследуется от `torch.utils.data.Dataset`), позволяющий получать данные, которые мы отправляем в нейронную сеть. (пример из документации приводится)\n",
    "\n",
    "**Загрузчик данных** - это то, что передает данные из набора данных в сеть. (Может включать в себя такую информацию, как: *Сколько рабочих процессов передают данные в сеть? Сколько изображений мы передаем одновременно? (Батчи).*\n",
    "\n",
    "\n",
    "\n",
    "Вот пример из документации (набор данных):\n",
    "\n",
    "```\n",
    "class FaceLandmarksDataset(torch.utils.data.Dataset):\n",
    "    \"\"\"Face Landmarks dataset.\"\"\"\n",
    "\n",
    "    def __init__(self, csv_file, root_dir, transform=None):\n",
    "        \"\"\"\n",
    "        Args:\n",
    "            csv_file (string): Path to the csv file with annotations.\n",
    "            root_dir (string): Directory with all the images.\n",
    "            transform (callable, optional): Optional transform to be applied\n",
    "                on a sample.\n",
    "        \"\"\"\n",
    "        self.landmarks_frame = pd.read_csv(csv_file)\n",
    "        self.root_dir = root_dir\n",
    "        self.transform = transform\n",
    "\n",
    "    def __len__(self):\n",
    "        return len(self.landmarks_frame)\n",
    "\n",
    "    def __getitem__(self, idx):\n",
    "        if torch.is_tensor(idx):\n",
    "            idx = idx.tolist()\n",
    "\n",
    "        img_name = os.path.join(self.root_dir,\n",
    "                                self.landmarks_frame.iloc[idx, 0])\n",
    "        image = io.imread(img_name)\n",
    "        landmarks = self.landmarks_frame.iloc[idx, 1:]\n",
    "        landmarks = np.array([landmarks])\n",
    "        landmarks = landmarks.astype('float').reshape(-1, 2)\n",
    "        sample = {'image': image, 'landmarks': landmarks}\n",
    "\n",
    "        if self.transform:\n",
    "            sample = self.transform(sample)\n",
    "\n",
    "        return sample\n",
    "```\n",
    "\n",
    "Как вы видите, у такого класса **должно быть** два метода: \n",
    "\n",
    "* `__len__` -- возвращает информацию о том, сколько объектов у нас в датасете\n",
    "* `__getitem__` -- возвращает семпл и таргет к нему\n",
    "\n",
    "\n",
    "Теперь давайте напишем такой сами, в качестве датасета сгенерируем рандомные данные."
   ],
   "metadata": {
    "id": "LUgOy_7EyJp6",
    "pycharm": {
     "name": "#%% md\n"
    }
   }
  },
  {
   "cell_type": "code",
   "source": [
    "class RandomDataset(torch.utils.data.Dataset):\n",
    "  def __init__(self, x: np.ndarray, y: np.ndarray) -> None:\n",
    "    self.x = x\n",
    "    self.y = y\n",
    "\n",
    "  def __len__(self) -> int:\n",
    "    return len(self.x)\n",
    "\n",
    "  def __getitem__(self, idx):\n",
    "    return {\"sample\": torch.tensor(self.x[idx, :], dtype = torch.float), \"target\": self.y[idx]}"
   ],
   "metadata": {
    "id": "JmFE30UAczFz",
    "pycharm": {
     "name": "#%%\n"
    }
   },
   "execution_count": null,
   "outputs": []
  },
  {
   "cell_type": "code",
   "source": [
    "x = np.random.rand(1000, 5)\n",
    "y = np.random.rand(1000)"
   ],
   "metadata": {
    "id": "xVteIj541Aln",
    "pycharm": {
     "name": "#%%\n"
    }
   },
   "execution_count": null,
   "outputs": []
  },
  {
   "cell_type": "code",
   "source": [
    "dataset = RandomDataset(x, y)\n",
    "print(f\"Посмотрим на то, что получилось:\\n\\n__getitem__\\n{dataset.__getitem__(15)}\\n\\n__len__\\n{dataset.__len__()}\")"
   ],
   "metadata": {
    "colab": {
     "base_uri": "https://localhost:8080/"
    },
    "id": "hPOhC-lc1E-R",
    "executionInfo": {
     "status": "ok",
     "timestamp": 1649332978359,
     "user_tz": -180,
     "elapsed": 7,
     "user": {
      "displayName": "Андрей Рожин",
      "userId": "10247013387273590151"
     }
    },
    "outputId": "8e8d25a1-ba6c-4dd1-9a9a-413b0ce48807",
    "pycharm": {
     "name": "#%%\n"
    }
   },
   "execution_count": null,
   "outputs": [
    {
     "output_type": "stream",
     "name": "stdout",
     "text": [
      "Посмотрим на то, что получилось:\n",
      "\n",
      "__getitem__\n",
      "{'sample': tensor([0.9259, 0.6896, 0.3436, 0.0371, 0.3211]), 'target': 0.7228835908950085}\n",
      "\n",
      "__len__\n",
      "1000\n"
     ]
    }
   ]
  },
  {
   "cell_type": "markdown",
   "source": [
    "Теперь займемся __загрузчиками данных__.\n",
    "\n",
    "Принимают на вход набор данных (`RandomDataset`, унаследованный от __torch.utils.data.Dataset__), размер батча и много чего еще."
   ],
   "metadata": {
    "id": "rVdDz4iT19M7",
    "pycharm": {
     "name": "#%% md\n"
    }
   }
  },
  {
   "cell_type": "code",
   "source": [
    "BATSH_SIZE = 4\n",
    "data_loader = torch.utils.data.DataLoader(dataset, batch_size=BATSH_SIZE)"
   ],
   "metadata": {
    "id": "KRSp7MjO1Rmg",
    "pycharm": {
     "name": "#%%\n"
    }
   },
   "execution_count": null,
   "outputs": []
  },
  {
   "cell_type": "markdown",
   "source": [
    "Один элемент батча выглядит так"
   ],
   "metadata": {
    "id": "xzx6cAUy3EV5",
    "pycharm": {
     "name": "#%% md\n"
    }
   }
  },
  {
   "cell_type": "code",
   "source": [
    "batch = next(iter(data_loader))\n",
    "\n",
    "print(f\"Sample:\\n{batch['sample']}\")\n",
    "print(f\"Target:\\n{batch['target']}\")"
   ],
   "metadata": {
    "colab": {
     "base_uri": "https://localhost:8080/"
    },
    "id": "PBHd_9yF2r-K",
    "executionInfo": {
     "status": "ok",
     "timestamp": 1649332983084,
     "user_tz": -180,
     "elapsed": 15,
     "user": {
      "displayName": "Андрей Рожин",
      "userId": "10247013387273590151"
     }
    },
    "outputId": "f6e4d30d-0610-4f5c-85a3-6ccca749b08b",
    "pycharm": {
     "name": "#%%\n"
    }
   },
   "execution_count": null,
   "outputs": [
    {
     "output_type": "stream",
     "name": "stdout",
     "text": [
      "Sample:\n",
      "tensor([[0.5913, 0.7246, 0.3585, 0.4710, 0.8923],\n",
      "        [0.4520, 0.2570, 0.4430, 0.7926, 0.7673],\n",
      "        [0.6727, 0.9436, 0.6574, 0.9664, 0.4179],\n",
      "        [0.2398, 0.4666, 0.1643, 0.3885, 0.2965]])\n",
      "Target:\n",
      "tensor([0.3076, 0.8511, 0.3944, 0.0494], dtype=torch.float64)\n"
     ]
    }
   ]
  },
  {
   "cell_type": "markdown",
   "source": [
    "# 4. Как сделать нейросеть?\n",
    "\n",
    "Одним из способов реализации нейросети через API является создание класса, унаследованного от __nn.Module.__ Пример как это может выглядеть:\n",
    "\n",
    "```\n",
    "class Model(nn.Module):\n",
    "    def __init__(self):\n",
    "        super(Model, self).__init__()\n",
    "        self.conv1 = nn.Conv2d(1, 20, 5)\n",
    "        self.conv2 = nn.Conv2d(20, 20, 5)\n",
    "\n",
    "    def forward(self, x):\n",
    "       x = F.relu(self.conv1(x))\n",
    "       return F.relu(self.conv2(x))\n",
    "```\n",
    "\n",
    "Как мы видим на данном примере, у данного класса **должен быть** метод `forward`, который определяет прямой проход нейросети. Также из класса выше видно, что модуль `nn` содержит в себе реализацию большинства слоев, а модуль `nn.functional` -- функций активаций.\n",
    "\n",
    "Для начала напишем сетку в другом виде\n"
   ],
   "metadata": {
    "id": "r3UP9ZH23Kqp",
    "pycharm": {
     "name": "#%% md\n"
    }
   }
  },
  {
   "cell_type": "code",
   "source": [
    "model = nn.Sequential() # иницилизируем пустую модель, в которую будем добавлять слои\n",
    "model.add_module(\"l1\", nn.Linear(5, 10))  # добавили слой с 5-ю нейронами на вход и 10-мя на выход\n",
    "model.add_module(\"l2\", nn.ReLU())         # нелинейное преобразование - функция активации\n",
    "model.add_module(\"l3\", nn.Linear(10, 1))  # добавили слой с 10-мя нейронами на вход и 1-ю на выход\n",
    "\n",
    "# альтернативный способ\n",
    "another_model = nn.Sequential(\n",
    "    nn.Linear(5, 10),\n",
    "    nn.ReLU(),\n",
    "    nn.Linear(10, 1)\n",
    ")"
   ],
   "metadata": {
    "id": "HtSu5wQr2wZR",
    "pycharm": {
     "name": "#%%\n"
    }
   },
   "execution_count": null,
   "outputs": []
  },
  {
   "cell_type": "code",
   "source": [
    "# посмoтрим на предсказание модели\n",
    "model(batch['sample'])\n",
    "# это предсказания при одном проходе"
   ],
   "metadata": {
    "colab": {
     "base_uri": "https://localhost:8080/"
    },
    "id": "4MT_it-A5Nc7",
    "executionInfo": {
     "status": "ok",
     "timestamp": 1649333030387,
     "user_tz": -180,
     "elapsed": 13,
     "user": {
      "displayName": "Андрей Рожин",
      "userId": "10247013387273590151"
     }
    },
    "outputId": "a442bdfd-0d15-4d75-b9eb-6da7a9b7be17",
    "pycharm": {
     "name": "#%%\n"
    }
   },
   "execution_count": null,
   "outputs": [
    {
     "output_type": "execute_result",
     "data": {
      "text/plain": [
       "tensor([[0.0553],\n",
       "        [0.0598],\n",
       "        [0.0525],\n",
       "        [0.1301]], grad_fn=<AddmmBackward0>)"
      ]
     },
     "metadata": {},
     "execution_count": 67
    }
   ]
  },
  {
   "cell_type": "markdown",
   "source": [
    "# 5. Как написать цикл обучения и отслеживать метрики\n",
    "\n",
    "Давайте теперь соберем теперь загрузку данных, создание модели и обучим на уже созданном для нас датасете MNIST"
   ],
   "metadata": {
    "id": "QHFNUkK1JhFh",
    "pycharm": {
     "name": "#%% md\n"
    }
   }
  },
  {
   "cell_type": "code",
   "source": [
    "# используем готовый класс от торча для загрузки данных для тренировки\n",
    "mnist_train = torchvision.datasets.MNIST(\n",
    "    \"./mnist/\", \n",
    "    train=True, \n",
    "    download=True, \n",
    "    transform=torchvision.transforms.ToTensor()\n",
    ") \n",
    "mnist_val = torchvision.datasets.MNIST(\n",
    "    \"./mnist/\",\n",
    "    train=False, \n",
    "    download=True,\n",
    "    transform=torchvision.transforms.ToTensor()\n",
    ")\n",
    "\n",
    "# так как это уже унаследованный от Dataset класс, его можно сразу обернуть в даталоадер\n",
    "train_dataloader = torch.utils.data.DataLoader(\n",
    "    mnist_train, \n",
    "    batch_size=4, \n",
    "    shuffle=True, \n",
    "    num_workers=1\n",
    ") \n",
    "\n",
    "val_dataloader = torch.utils.data.DataLoader(\n",
    "    mnist_val, \n",
    "    batch_size=4, \n",
    "    shuffle=True, \n",
    "    num_workers=1\n",
    ")"
   ],
   "metadata": {
    "colab": {
     "base_uri": "https://localhost:8080/",
     "height": 423,
     "referenced_widgets": [
      "9f74183f2faa4348a659d0360f6ff318",
      "5a57dddebd874cfe8414a0cd1d600b38",
      "c16626e4a788456c94f6065822ec59d5",
      "3058f23a17c649f9bbf90e4ff4b6a653",
      "bae7168e87fb427ea73a20b2b8ef3c82",
      "de7356bb8fa347f6bb0035b54b0afa9f",
      "05def7e2b3684c3f819f08c01f0a1628",
      "5d3dd5b80db246bb8b65c07bcea8dc71",
      "dfabc79967d44f95a0ffabca382180f9",
      "f46d19859148469e8bb64ac62aefb309",
      "a1b0264fe0434da3908b2b4cc307440c",
      "564ab79761614c0483dc6ae3a7ee7bee",
      "2055ec13639d4818907b02d947932f6c",
      "2967bd26916b4a078755600aa8e5df9a",
      "06609a199a9c44348415183a3a3a8027",
      "c3ef65efe49e4c62860949db0df766f2",
      "3344435cefd84e1b81133f9e79e64feb",
      "a2dab6cf78cb40abaa8095f70efd11a4",
      "227fa346e12c47968e86c47e20fef82d",
      "78fc02e8b76d488da8e5a35b7fb1d91c",
      "3cc2c5bb50a746bfb22db54370e7f04f",
      "f9b1f40ff4f74b9287ef58381c010c89",
      "3defc80619d5440eb9f2cd24498575c2",
      "1e57973deed54958b4f9c1deead4fb12",
      "7c12fb1985e94de5b9db7855124af766",
      "0473e7f65e2c4f089f6e6c81a36157e9",
      "a69aff2a0ec048a69164e27d0688f434",
      "dd78161b57564b9a9904186a21e5ad6e",
      "4cb8c348ef8b40249f701489b2decfad",
      "e69163d77b6b4f698bffc73a673b0913",
      "d8a94e66e58e41a1b894aaf9ca274365",
      "e6edb636d111440397003e9be31a0be7",
      "c7a3565742b741ab8817b35e104a67cf",
      "a0ed167fba3040e5af9de0edb7f023d2",
      "7142905ef5864bfe9e5e9465b5c770dd",
      "79b16c8590cc4754abc7d6cf2e9b3f16",
      "bc2ee586dd004114bcd02e672ff818df",
      "64ea5b483c1c4ce4ad3810277ff676ed",
      "a6d0f6f0f00f41859e473064759aa3fc",
      "806b519706de4b26a151b5681f143f7e",
      "56e5711dec014b648de614652fec5017",
      "d06596ca59e8401dafd1a1cf48d46635",
      "45e8718a2cad464eb7f6a388e08b946a",
      "f17cad363e5c448ea2ff911110525c54"
     ]
    },
    "id": "o9T8T6d16G3U",
    "executionInfo": {
     "status": "ok",
     "timestamp": 1649337153781,
     "user_tz": -180,
     "elapsed": 3133,
     "user": {
      "displayName": "Андрей Рожин",
      "userId": "10247013387273590151"
     }
    },
    "outputId": "688ab845-08eb-43cb-d05c-a4c3b2d43c84",
    "pycharm": {
     "name": "#%%\n"
    }
   },
   "execution_count": null,
   "outputs": [
    {
     "output_type": "stream",
     "name": "stdout",
     "text": [
      "Downloading http://yann.lecun.com/exdb/mnist/train-images-idx3-ubyte.gz\n",
      "Downloading http://yann.lecun.com/exdb/mnist/train-images-idx3-ubyte.gz to ./mnist/MNIST/raw/train-images-idx3-ubyte.gz\n"
     ]
    },
    {
     "output_type": "display_data",
     "data": {
      "text/plain": [
       "  0%|          | 0/9912422 [00:00<?, ?it/s]"
      ],
      "application/vnd.jupyter.widget-view+json": {
       "version_major": 2,
       "version_minor": 0,
       "model_id": "9f74183f2faa4348a659d0360f6ff318"
      }
     },
     "metadata": {}
    },
    {
     "output_type": "stream",
     "name": "stdout",
     "text": [
      "Extracting ./mnist/MNIST/raw/train-images-idx3-ubyte.gz to ./mnist/MNIST/raw\n",
      "\n",
      "Downloading http://yann.lecun.com/exdb/mnist/train-labels-idx1-ubyte.gz\n",
      "Downloading http://yann.lecun.com/exdb/mnist/train-labels-idx1-ubyte.gz to ./mnist/MNIST/raw/train-labels-idx1-ubyte.gz\n"
     ]
    },
    {
     "output_type": "display_data",
     "data": {
      "text/plain": [
       "  0%|          | 0/28881 [00:00<?, ?it/s]"
      ],
      "application/vnd.jupyter.widget-view+json": {
       "version_major": 2,
       "version_minor": 0,
       "model_id": "564ab79761614c0483dc6ae3a7ee7bee"
      }
     },
     "metadata": {}
    },
    {
     "output_type": "stream",
     "name": "stdout",
     "text": [
      "Extracting ./mnist/MNIST/raw/train-labels-idx1-ubyte.gz to ./mnist/MNIST/raw\n",
      "\n",
      "Downloading http://yann.lecun.com/exdb/mnist/t10k-images-idx3-ubyte.gz\n",
      "Downloading http://yann.lecun.com/exdb/mnist/t10k-images-idx3-ubyte.gz to ./mnist/MNIST/raw/t10k-images-idx3-ubyte.gz\n"
     ]
    },
    {
     "output_type": "display_data",
     "data": {
      "text/plain": [
       "  0%|          | 0/1648877 [00:00<?, ?it/s]"
      ],
      "application/vnd.jupyter.widget-view+json": {
       "version_major": 2,
       "version_minor": 0,
       "model_id": "3defc80619d5440eb9f2cd24498575c2"
      }
     },
     "metadata": {}
    },
    {
     "output_type": "stream",
     "name": "stdout",
     "text": [
      "Extracting ./mnist/MNIST/raw/t10k-images-idx3-ubyte.gz to ./mnist/MNIST/raw\n",
      "\n",
      "Downloading http://yann.lecun.com/exdb/mnist/t10k-labels-idx1-ubyte.gz\n",
      "Downloading http://yann.lecun.com/exdb/mnist/t10k-labels-idx1-ubyte.gz to ./mnist/MNIST/raw/t10k-labels-idx1-ubyte.gz\n"
     ]
    },
    {
     "output_type": "display_data",
     "data": {
      "text/plain": [
       "  0%|          | 0/4542 [00:00<?, ?it/s]"
      ],
      "application/vnd.jupyter.widget-view+json": {
       "version_major": 2,
       "version_minor": 0,
       "model_id": "a0ed167fba3040e5af9de0edb7f023d2"
      }
     },
     "metadata": {}
    },
    {
     "output_type": "stream",
     "name": "stdout",
     "text": [
      "Extracting ./mnist/MNIST/raw/t10k-labels-idx1-ubyte.gz to ./mnist/MNIST/raw\n",
      "\n"
     ]
    }
   ]
  },
  {
   "cell_type": "code",
   "source": [
    "# посмотрим на то, с чем мы работаем\n",
    "for i in [0, 1]:\n",
    "    plt.subplot(1, 2, i + 1)\n",
    "    plt.imshow(mnist_train[i][0].squeeze(0).numpy().reshape([28, 28]))\n",
    "    plt.title(str(mnist_train[i][1]))\n",
    "plt.show()"
   ],
   "metadata": {
    "colab": {
     "base_uri": "https://localhost:8080/",
     "height": 216
    },
    "id": "an04tY61J6s8",
    "executionInfo": {
     "status": "ok",
     "timestamp": 1649337175642,
     "user_tz": -180,
     "elapsed": 737,
     "user": {
      "displayName": "Андрей Рожин",
      "userId": "10247013387273590151"
     }
    },
    "outputId": "3340870d-3484-4cae-9293-5c0fae892c2f",
    "pycharm": {
     "name": "#%%\n"
    }
   },
   "execution_count": null,
   "outputs": [
    {
     "output_type": "display_data",
     "data": {
      "text/plain": [
       "<Figure size 432x288 with 2 Axes>"
      ],
      "image/png": "[encoded data removed]"
     },
     "metadata": {
      "needs_background": "light"
     }
    }
   ]
  },
  {
   "cell_type": "code",
   "source": [
    "model = nn.Sequential(\n",
    "    nn.Flatten(),             # превращаем картинку 28х28 в вектор размером 784\n",
    "    nn.Linear(28 * 28, 128),  # линейный слой, преобразующий вектор размера 784 в вектор размера 128\n",
    "    nn.ReLU(),                # нелинейность\n",
    "    nn.Linear(128, 10),       # линейный слой, преобразующий вектор размера 128 в вектор размера 10\n",
    "    nn.Softmax(dim = -1)      # софтмакс для получения вероястностного распределения над метками класса\n",
    ")\n",
    "\n",
    "# создаем оптимизатор, который будет обновлять веса модели\n",
    "optimizer = torch.optim.SGD(model.parameters(), lr=0.05) "
   ],
   "metadata": {
    "id": "vv7TGMUvKAoX",
    "pycharm": {
     "name": "#%%\n"
    }
   },
   "execution_count": null,
   "outputs": []
  },
  {
   "cell_type": "code",
   "source": [
    "!pip install wandb --upgrade --quiet\n",
    "import wandb\n",
    "\n",
    "# логинимся в своего пользователя (предварительно нужно ввести ключ из настроек с wandb.ai через консоль)\n",
    "wandb.login()\n",
    "# инициализируем проект\n",
    "wandb.init(project=\"pytorch-demo\")\n",
    "# сохраняем параметры сетки в wandb + просим следить за градиентами сетки\n",
    "wandb.watch(model);"
   ],
   "metadata": {
    "colab": {
     "base_uri": "https://localhost:8080/",
     "height": 208
    },
    "id": "H0nJ_3owKDKj",
    "executionInfo": {
     "status": "ok",
     "timestamp": 1649337227333,
     "user_tz": -180,
     "elapsed": 23929,
     "user": {
      "displayName": "Андрей Рожин",
      "userId": "10247013387273590151"
     }
    },
    "outputId": "45077115-4082-486a-86c1-57e4d423bd7c",
    "pycharm": {
     "name": "#%%\n"
    }
   },
   "execution_count": null,
   "outputs": [
    {
     "output_type": "stream",
     "name": "stdout",
     "text": [
      "\u001B[K     |████████████████████████████████| 1.8 MB 26.3 MB/s \n",
      "\u001B[K     |████████████████████████████████| 181 kB 50.0 MB/s \n",
      "\u001B[K     |████████████████████████████████| 144 kB 57.2 MB/s \n",
      "\u001B[K     |████████████████████████████████| 63 kB 1.5 MB/s \n",
      "\u001B[?25h  Building wheel for pathtools (setup.py) ... \u001B[?25l\u001B[?25hdone\n"
     ]
    },
    {
     "output_type": "display_data",
     "data": {
      "text/plain": [
       "<IPython.core.display.Javascript object>"
      ],
      "application/javascript": [
       "\n",
       "        window._wandbApiKey = new Promise((resolve, reject) => {\n",
       "            function loadScript(url) {\n",
       "            return new Promise(function(resolve, reject) {\n",
       "                let newScript = document.createElement(\"script\");\n",
       "                newScript.onerror = reject;\n",
       "                newScript.onload = resolve;\n",
       "                document.body.appendChild(newScript);\n",
       "                newScript.src = url;\n",
       "            });\n",
       "            }\n",
       "            loadScript(\"https://cdn.jsdelivr.net/npm/postmate/build/postmate.min.js\").then(() => {\n",
       "            const iframe = document.createElement('iframe')\n",
       "            iframe.style.cssText = \"width:0;height:0;border:none\"\n",
       "            document.body.appendChild(iframe)\n",
       "            const handshake = new Postmate({\n",
       "                container: iframe,\n",
       "                url: 'https://wandb.ai/authorize'\n",
       "            });\n",
       "            const timeout = setTimeout(() => reject(\"Couldn't auto authenticate\"), 5000)\n",
       "            handshake.then(function(child) {\n",
       "                child.on('authorize', data => {\n",
       "                    clearTimeout(timeout)\n",
       "                    resolve(data)\n",
       "                });\n",
       "            });\n",
       "            })\n",
       "        });\n",
       "    "
      ]
     },
     "metadata": {}
    },
    {
     "output_type": "stream",
     "name": "stderr",
     "text": [
      "\u001B[34m\u001B[1mwandb\u001B[0m: Appending key for api.wandb.ai to your netrc file: /root/.netrc\n",
      "\u001B[34m\u001B[1mwandb\u001B[0m: Currently logged in as: \u001B[33mlilpomidorlil\u001B[0m (use `wandb login --relogin` to force relogin)\n"
     ]
    },
    {
     "output_type": "display_data",
     "data": {
      "text/plain": [
       "<IPython.core.display.HTML object>"
      ],
      "text/html": [
       "Tracking run with wandb version 0.12.13"
      ]
     },
     "metadata": {}
    },
    {
     "output_type": "display_data",
     "data": {
      "text/plain": [
       "<IPython.core.display.HTML object>"
      ],
      "text/html": [
       "Run data is saved locally in <code>/content/wandb/run-20220407_131338-1o13glig</code>"
      ]
     },
     "metadata": {}
    },
    {
     "output_type": "display_data",
     "data": {
      "text/plain": [
       "<IPython.core.display.HTML object>"
      ],
      "text/html": [
       "Syncing run <strong><a href=\"https://wandb.ai/lilpomidorlil/pytorch-demo/runs/1o13glig\" target=\"_blank\">dazzling-aardvark-1</a></strong> to <a href=\"https://wandb.ai/lilpomidorlil/pytorch-demo\" target=\"_blank\">Weights & Biases</a> (<a href=\"https://wandb.me/run\" target=\"_blank\">docs</a>)<br/>"
      ]
     },
     "metadata": {}
    }
   ]
  },
  {
   "cell_type": "code",
   "source": [
    "# всего у нас будет 10 эпох (10 раз подряд пройдемся по всем батчам из трейна)\n",
    "for epoch in range(10):\n",
    "  for x_train, y_train in tqdm(train_dataloader):      # делаем батч\n",
    "    y_pred = model(x_train)                            # делаем предсказания\n",
    "    loss = F.cross_entropy(y_pred, y_train)            # считаем лосс\n",
    "    loss.backward()                                    # считаем грады обратным проход\n",
    "    optimizer.step()                                   # обновляем веса модели\n",
    "    optimizer.zero_grad()                              # обнуляем посчитанные грады\n",
    "\n",
    "    if epoch % 2 == 0:\n",
    "      val_loss = []                                  # сюда будем складывать **средний по бачу** лосс\n",
    "      val_accuracy = []\n",
    "      with torch.no_grad():                          # на валидации запрещаем фреймворку считать градиенты по параметрам\n",
    "          for x_val, y_val in tqdm(val_dataloader):  # берем батч из вал лоадера\n",
    "              y_pred = model(x_val)                  # делаем предсказания\n",
    "              loss = F.cross_entropy(y_pred, y_val)  # считаем лосс\n",
    "              val_loss.append(loss.numpy())          # добавляем в массив \n",
    "              val_accuracy.extend((torch.argmax(y_pred, dim=-1) == y_val).numpy().tolist())\n",
    "        \n",
    "      # скидываем метрики на wandb и автоматом смотрим на графики\n",
    "      wandb.log({\"mean val loss\": np.mean(val_loss),\n",
    "                  \"mean val accuracy\": np.mean(val_accuracy)})\n",
    "      \n",
    "      # печатаем метрики\n",
    "      print(f\"Epoch: {epoch}, loss: {np.mean(val_loss)}, accuracy: {np.mean(val_accuracy)}\")"
   ],
   "metadata": {
    "colab": {
     "base_uri": "https://localhost:8080/",
     "height": 1000,
     "output_embedded_package_id": "18RGRJ014yVXnOkp03vQdZW4sfc7P2rVi"
    },
    "id": "U6VEeEKUKHlb",
    "outputId": "54309936-0412-4727-abed-4f039921c266",
    "executionInfo": {
     "status": "error",
     "timestamp": 1649342618144,
     "user_tz": -180,
     "elapsed": 544677,
     "user": {
      "displayName": "Андрей Рожин",
      "userId": "10247013387273590151"
     }
    },
    "pycharm": {
     "name": "#%%\n"
    }
   },
   "execution_count": 72,
   "outputs": [
    {
     "output_type": "display_data",
     "data": {
      "text/plain": "Output hidden; open in https://colab.research.google.com to view."
     },
     "metadata": {}
    }
   ]
  },
  {
   "cell_type": "code",
   "source": [],
   "metadata": {
    "id": "Q1Yhx-1hL4DU",
    "pycharm": {
     "name": "#%%\n"
    }
   },
   "execution_count": null,
   "outputs": []
  }
 ]
}