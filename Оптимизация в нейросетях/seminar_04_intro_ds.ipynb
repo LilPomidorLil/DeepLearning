{
  "cells": [
    {
      "cell_type": "markdown",
      "metadata": {
        "id": "lSzYgFmHfdYL"
      },
      "source": [
        "Заполненный ноутбук в колабе: https://colab.research.google.com/drive/1dqq5e-c_yMrpiKpXGn4NzFQ0_3OOSCwO?usp=sharing"
      ]
    },
    {
      "cell_type": "code",
      "execution_count": 1,
      "metadata": {
        "id": "lUJcEdalKlZn"
      },
      "outputs": [],
      "source": [
        "import math\n",
        "import os\n",
        "import random\n",
        "import sys\n",
        "import warnings\n",
        "\n",
        "import matplotlib.pyplot as plt\n",
        "import numpy as np\n",
        "import torch\n",
        "import torch.nn.functional as F\n",
        "from tqdm.auto import tqdm\n",
        "\n",
        "\n",
        "%matplotlib inline\n",
        "warnings.filterwarnings(\"ignore\")"
      ]
    },
    {
      "cell_type": "markdown",
      "metadata": {
        "id": "kD68Ub9hKlZy"
      },
      "source": [
        "## Методы оптимизации\n",
        "Как вам показали на лекции, большинство методов машинного обучения сводятся к простому поиску параметров, который бы минимизировал ошибку на тренировочной выборке:\n",
        "$$\n",
        "\\min_{\\theta} \\sum_{x \\in X_{test}} L(p_{\\theta}(x), y)\n",
        "$$\n",
        "Здесь:\n",
        "* $L$ - некоторый лосс,\n",
        "* $p_{\\theta}$ - нейронная сеть с параметрами $\\theta$,\n",
        "* $X$ - данные для обучения,\n",
        "* $y$ - ответы\n",
        "\n",
        "Напишем алгоритм для поиска минимума некоторой функции\n",
        "$$\n",
        "f(x) = x^{3} + 2x^{2} + 2\n",
        "$$"
      ]
    },
    {
      "cell_type": "code",
      "execution_count": 2,
      "metadata": {
        "id": "6RDPRKKHKlZ0",
        "colab": {
          "base_uri": "https://localhost:8080/",
          "height": 269
        },
        "outputId": "54c1bc6f-b077-483d-dfbe-bc73cfad117c"
      },
      "outputs": [
        {
          "output_type": "display_data",
          "data": {
            "text/plain": [
              "<Figure size 432x288 with 1 Axes>"
            ],
            "image/png": "[encoded data removed]"
          },
          "metadata": {
            "needs_background": "light"
          }
        }
      ],
      "source": [
        "# Наша функция f(x)\n",
        "func = lambda x: x ** 3 - 2 * x ** 2 + 2\n",
        "\n",
        "# Производная функции f(x)\n",
        "d_func = lambda x: 3 * x ** 2 - 4 * x\n",
        "\n",
        "# Сделаем массив из 1000 элементов от -3 до 3\n",
        "x = np.linspace(-3, 3, 1000)\n",
        "\n",
        "# Определим границы по y для графика\n",
        "plt.ylim([-1, 3])\n",
        "plt.plot(x, func(x))\n",
        "plt.show()"
      ]
    },
    {
      "cell_type": "markdown",
      "metadata": {
        "id": "NYQ4OyiUKlZ4"
      },
      "source": [
        "Определим функцию для оптимизации $f(x)$, которая должна принимать на вход learning rate, максимальное количество итераций"
      ]
    },
    {
      "cell_type": "code",
      "execution_count": 18,
      "metadata": {
        "id": "dQ_QI8CiKlZ5"
      },
      "outputs": [],
      "source": [
        "def find_minimum_first_order(\n",
        "    learning_rate=0.01,\n",
        "    eps=1e-4,\n",
        "    max_iterations=1000,\n",
        "    anneal_learning_rate=None\n",
        "):\n",
        "    i = 0\n",
        "    x_old, x_new = 2, 2\n",
        "    # Будем сохранятся обновлённые значения x и y\n",
        "    x_list, y_list = [x_old], [func(x_old)]\n",
        "    if not anneal_learning_rate:\n",
        "        anneal_learning_rate = lambda lr, step: lr\n",
        "    # TODO:\n",
        "    # Your code here\n",
        "    # --------------\n",
        "    # With these commands append new values to lists\n",
        "    # x_list.append(x_new)\n",
        "    # y_list.append(func(x_new))\n",
        "    # --------------\n",
        "\n",
        "    for it in range(max_iterations):\n",
        "      x_old = x_new\n",
        "      x_new = x_old - anneal_learning_rate(learning_rate, it) * d_func(x_old)\n",
        "\n",
        "      if abs(x_old - x_new) <= eps:\n",
        "        break\n",
        "      \n",
        "      x_list.append(x_old)\n",
        "      y_list.append(func(x_old))\n",
        "\n",
        "    print(\"Найденный локальный минимум:\", x_new)\n",
        "    print(\"Количество шагов:\", len(x_list))\n",
        "    # Визуализируем сходимость\n",
        "    plt.figure(figsize=[6, 4])\n",
        "    plt.ylim([-3, 8])\n",
        "    plt.scatter(x_list, y_list, c=\"r\", edgecolors='k')\n",
        "    plt.plot(x_list, y_list, c=\"r\")\n",
        "    plt.plot(x, func(x), c=\"b\")\n",
        "    plt.title(\"Descent trajectory\")\n",
        "    plt.show()"
      ]
    },
    {
      "cell_type": "markdown",
      "metadata": {
        "id": "iBakKAc4KlZ8"
      },
      "source": [
        "Попробуем различные learning rate и посмотрим на поведение оптимизации"
      ]
    },
    {
      "cell_type": "code",
      "execution_count": 19,
      "metadata": {
        "id": "kBe4cH6vKlZ9",
        "colab": {
          "base_uri": "https://localhost:8080/",
          "height": 316
        },
        "outputId": "9562ca16-c468-4c72-fc1e-1c2e553190c6"
      },
      "outputs": [
        {
          "output_type": "stream",
          "name": "stdout",
          "text": [
            "Найденный локальный минимум: 1.3577577123861129\n",
            "Количество шагов: 728\n"
          ]
        },
        {
          "output_type": "display_data",
          "data": {
            "text/plain": [
              "<Figure size 432x288 with 1 Axes>"
            ],
            "image/png": "[encoded data removed]"
          },
          "metadata": {
            "needs_background": "light"
          }
        }
      ],
      "source": [
        "find_minimum_first_order(0.001)"
      ]
    },
    {
      "cell_type": "markdown",
      "metadata": {
        "id": "U6qHwvrQKlaA"
      },
      "source": [
        "Слишком мало, будем очень долго идти к локальному минимуму"
      ]
    },
    {
      "cell_type": "code",
      "execution_count": 20,
      "metadata": {
        "id": "4fJFR4SlKlaB",
        "colab": {
          "base_uri": "https://localhost:8080/",
          "height": 316
        },
        "outputId": "88c71768-daa6-4398-f34e-eeae46ad3a3c"
      },
      "outputs": [
        {
          "output_type": "stream",
          "name": "stdout",
          "text": [
            "Найденный локальный минимум: 1.3356881625009205\n",
            "Количество шагов: 128\n"
          ]
        },
        {
          "output_type": "display_data",
          "data": {
            "text/plain": [
              "<Figure size 432x288 with 1 Axes>"
            ],
            "image/png": "[encoded data removed]"
          },
          "metadata": {
            "needs_background": "light"
          }
        }
      ],
      "source": [
        "find_minimum_first_order(0.01)"
      ]
    },
    {
      "cell_type": "markdown",
      "metadata": {
        "id": "tyeqRTitKlaF"
      },
      "source": [
        "Уже лучше"
      ]
    },
    {
      "cell_type": "code",
      "execution_count": 21,
      "metadata": {
        "id": "AEX-iPPJKlaF",
        "colab": {
          "base_uri": "https://localhost:8080/",
          "height": 316
        },
        "outputId": "9e452b56-f8d6-4bd1-d32e-37831152f9c0"
      },
      "outputs": [
        {
          "output_type": "stream",
          "name": "stdout",
          "text": [
            "Найденный локальный минимум: 1.3333495713163788\n",
            "Количество шагов: 7\n"
          ]
        },
        {
          "output_type": "display_data",
          "data": {
            "text/plain": [
              "<Figure size 432x288 with 1 Axes>"
            ],
            "image/png": "[encoded data removed]"
          },
          "metadata": {
            "needs_background": "light"
          }
        }
      ],
      "source": [
        "find_minimum_first_order(0.3)"
      ]
    },
    {
      "cell_type": "code",
      "execution_count": null,
      "metadata": {
        "id": "6Xz1B6hyKlaI"
      },
      "outputs": [],
      "source": [
        "find_minimum_first_order(0.6)"
      ]
    },
    {
      "cell_type": "markdown",
      "metadata": {
        "id": "gTTbzvS0KlaM"
      },
      "source": [
        "Ууупс, получили Overflow. Значит learning rate слишком большой. Хотя большой learning rate опасен возможностью overflow у него есть ряд преимуществ. Чем больше темп обучения, тем большие расстояния мы преодолеваем за один шаг и тем выше вероятность быстрее найти хорошее пространство локальных минимумов.\n",
        "\n",
        "Хорошая стратегия — начинать с достаточно большого шага (чтобы хорошо попутешествовать по функции), а потом постепенно его уменьшать, чтобы стабилизировать процесс обучения в каком-то локальном минимуме."
      ]
    },
    {
      "cell_type": "code",
      "execution_count": 34,
      "metadata": {
        "id": "itCkyBdaKlaN",
        "colab": {
          "base_uri": "https://localhost:8080/",
          "height": 316
        },
        "outputId": "a0644773-32e0-4c89-8ca1-d38f60f6cdad"
      },
      "outputs": [
        {
          "output_type": "stream",
          "name": "stdout",
          "text": [
            "Найденный локальный минимум: 1.3285721693485395\n",
            "Количество шагов: 79\n"
          ]
        },
        {
          "output_type": "display_data",
          "data": {
            "text/plain": [
              "<Figure size 432x288 with 1 Axes>"
            ],
            "image/png": "[encoded data removed]"
          },
          "metadata": {
            "needs_background": "light"
          }
        }
      ],
      "source": [
        "find_minimum_first_order(0.4, anneal_learning_rate=lambda lr, step:  (1 / (step + 1)) * lr)"
      ]
    },
    {
      "cell_type": "markdown",
      "metadata": {
        "id": "pSMWbov7ZrSQ"
      },
      "source": [
        "# Описание алгоритмов градиентного спуска\n",
        "\n",
        "### SGD\n",
        "SGD - этот же самый gradient descent, что мы рассматривали ранее, вот только подсчёт градиентов производится не по всему множеству данных, а по отдельно взятому сэмплу. Очевидно, такая оптимизация будет очень шумной, что усложнит обучение модели. Поэтому обычно используют MiniBatch-SGD, где вместо одного сэмпла мы берём $k$ семплов. У такого подхода есть несколько плюсов:\n",
        "\n",
        "* ниже variance в сравнении с обычным SGD, что приводит к более стабильному процессу оптимизации\n",
        "* хорошо работает с DL библиотеками, так как теперь мы работаем с матрицами\n",
        "\n",
        "$$\n",
        "\\begin{eqnarray}\n",
        "g &=& \\frac{1}{m}\\nabla_w \\sum_i L(f(x_{i};w), y_{i}) \\\\\n",
        "w &=& w - \\eta \\times g\n",
        "\\end{eqnarray}\n",
        "$$\n",
        "\n",
        "### SGD with Momentum\n",
        "\n",
        "![Momentum.png](https://github.com/hse-ds/iad-deep-learning/blob/master/2021/seminars/sem04/Momentum.png?raw=1)\n",
        "\n",
        "Попытаемся добавить SGD эффект инерции. Теперь, вместо того чтобы двигаться строго в направлении градиента в каждой точке, мы стараемся продолжить движение в том же направлении, в котором двигались ранее. То есть у нашей точки, которая спускается по многомерной поверхности, появляется импульс (momentum), который контролируется при помощи параметра $\\alpha$. Он определяет какую часть прошлого градиента мы хотим использовать на текущем шаге.\n",
        "$$\n",
        "\\begin{eqnarray}\n",
        "g_{t} &=& \\alpha g_{t-1} + \\eta \\frac{1}{m}\\nabla_w \\sum_i L(f(x_{i};w), y_{i}) \\\\\n",
        "w &=& w - \\eta \\times g\n",
        "\\end{eqnarray}\n",
        "$$\n",
        "\n",
        "## Адаптивные варианты градиентного спуска\n",
        "Во всех предыдущих алгоритмах у нас был фиксированный learning rate. Начиная с Adagrad у нас будет идти алгоритмы, которые подстраивают learning rate в зависимости от обучения. Они называются адаптивными вариантами градиентного спуска.\n",
        "\n",
        "Адаптивные варианты градиентного спуска подстраивает темп обучения таким образом, чтобы делать большие или маленькие обновления отдельных параметров. Например, может так сложиться, что некоторые веса близки к своим локальным минимумам, тогда по этим координатам нужно двигаться медленнее, а другие веса ещё только в середине, значит их можно менять гораздо быстрее. Подобные методы часты приводят к более обоснованной модели и сходятся гораздо быстрее.\n",
        "\n",
        "### Adagrad\n",
        "$$\n",
        "\\begin{eqnarray}\n",
        "g &=& \\frac{1}{m}\\nabla_w \\sum_i L(f(x_{i};w), y_{i}) \\\\\n",
        "s &=& s + diag(gg^{T}) \\\\\n",
        "w &=& w - \\frac{\\eta}{\\sqrt{s+eps}} \\odot g\n",
        "\\end{eqnarray}\n",
        "$$\n",
        "Теперь нам не нужно сильно волноваться о правильном подборе $\\eta$, так как $s$ контролирует скорость обучения для каждого параметра.\n",
        "\n",
        "### RMSprop\n",
        "У Adagrad есть сильный минус. $s$ - всегда положительна и постоянно растёт во время обучения, что приводит к ситуации, когда у нас learning rate становится слишком маленький, и мы перестаём учиться. RMSprop исправляет эту проблему при помощи экспоненциального сглаживания\n",
        "$$\n",
        "\\begin{eqnarray}\n",
        "g &=& \\frac{1}{m}\\nabla_w \\sum_i L(f(x_{i};w), y_{i}) \\\\\n",
        "s &=& \\rho s + (1 - \\rho) diag(gg^{T}) \\\\\n",
        "w &=& w - \\frac{\\eta}{\\sqrt{s+eps}} \\odot g\n",
        "\\end{eqnarray}\n",
        "$$\n",
        "\n",
        "### Adam\n",
        "Добавим не только моменты второго порядка, но и первого при обновлении параметров\n",
        "$$\n",
        "\\begin{eqnarray}\n",
        "g &=& \\frac{1}{m}\\nabla_w \\sum_i L(f(x_{i};w), y_{i}) \\\\\n",
        "m &=& \\beta_1 m + (1 - \\beta_1) g \\\\\n",
        "v &=& \\beta_2 v + (1 - \\beta_2) diag(gg^{T}) \\\\\n",
        "\\hat{m} &=& \\frac{m}{1 - \\beta_1^{t}} \\\\\n",
        "\\hat{v} &=& \\frac{v}{1 - \\beta_2^{t}} \\\\\n",
        "w &=& w - \\frac{\\eta}{\\sqrt{\\hat{v} + \\epsilon}} \\odot \\hat{m}\n",
        "\\end{eqnarray}\n",
        "$$\n",
        "\n",
        "### Схема\n",
        "<div>\n",
        "<img src=\"https://github.com/hse-ds/iad-deep-learning/blob/master/2021/seminars/sem04/Modifications.png?raw=1\" width=\"300\"/>\n",
        "</div>"
      ]
    },
    {
      "cell_type": "markdown",
      "metadata": {
        "id": "ZeCXawXsKlaX"
      },
      "source": [
        "# PyTorch Optimizer\n",
        "Очевидно, что для своих нейронных сетей не нужно каждый раз писать свой алгоритм и за вас уже сделаны все самые популярные методы. Их можно найти в **torch.optim**."
      ]
    },
    {
      "cell_type": "code",
      "execution_count": 35,
      "metadata": {
        "id": "8oraXo9DKlaX",
        "colab": {
          "base_uri": "https://localhost:8080/"
        },
        "outputId": "dbad7fd1-e903-487d-a0c5-4cfea971921e"
      },
      "outputs": [
        {
          "output_type": "execute_result",
          "data": {
            "text/plain": [
              "['ASGD',\n",
              " 'Adadelta',\n",
              " 'Adagrad',\n",
              " 'Adam',\n",
              " 'AdamW',\n",
              " 'Adamax',\n",
              " 'LBFGS',\n",
              " 'NAdam',\n",
              " 'Optimizer',\n",
              " 'RAdam',\n",
              " 'RMSprop',\n",
              " 'Rprop',\n",
              " 'SGD',\n",
              " 'SparseAdam',\n",
              " 'lr_scheduler',\n",
              " 'swa_utils']"
            ]
          },
          "metadata": {},
          "execution_count": 35
        }
      ],
      "source": [
        "[elem for elem in dir(torch.optim) if not elem.startswith(\"_\")]"
      ]
    },
    {
      "cell_type": "markdown",
      "metadata": {
        "id": "-Xsq3M5VKlaa"
      },
      "source": [
        "Основные функции PyTorch Optimizer:\n",
        "* __step__ - обновление весов модели\n",
        "* __zero_grad__ - занулить веса модели (по умолчанию градиенты в PyTorch аккумулируются) ~ `for each param in params: param.grad = None`\n",
        "* __state_dict__ - получить текущее состояние Optimizer. Для адаптивных методов тут будут храниться аккумулированные квадраты градиентов"
      ]
    },
    {
      "cell_type": "markdown",
      "metadata": {
        "id": "bWG6WICUKlaa"
      },
      "source": [
        "## Как сделать instance PyTorch Optimizer?\n",
        "Достаточно передать параметры модели (их можно получить при помощи функции `parameters()`) и гипер-параметоры для метода оптимизации.\n",
        "\n",
        "Пример:"
      ]
    },
    {
      "cell_type": "code",
      "execution_count": 40,
      "metadata": {
        "id": "KLLI3GbM89kb"
      },
      "outputs": [],
      "source": [
        "?torch.optim.SGD"
      ]
    },
    {
      "cell_type": "code",
      "execution_count": 37,
      "metadata": {
        "id": "BDgqvgVJKlaa",
        "colab": {
          "base_uri": "https://localhost:8080/"
        },
        "outputId": "1b67402a-da08-4936-febe-f7cb18ca42f7"
      },
      "outputs": [
        {
          "output_type": "execute_result",
          "data": {
            "text/plain": [
              "([Parameter containing:\n",
              "  tensor([[0.9278]], requires_grad=True), Parameter containing:\n",
              "  tensor([0.8248], requires_grad=True)], SGD (\n",
              " Parameter Group 0\n",
              "     dampening: 0\n",
              "     lr: 0.01\n",
              "     maximize: False\n",
              "     momentum: 0\n",
              "     nesterov: False\n",
              "     weight_decay: 0\n",
              " ))"
            ]
          },
          "metadata": {},
          "execution_count": 37
        }
      ],
      "source": [
        "model = torch.nn.Linear(1, 1)\n",
        "list(model.parameters()), torch.optim.SGD(model.parameters(), lr=0.01)"
      ]
    },
    {
      "cell_type": "markdown",
      "metadata": {
        "id": "7rpMKRptKlac"
      },
      "source": [
        "Или же вот так"
      ]
    },
    {
      "cell_type": "code",
      "execution_count": 38,
      "metadata": {
        "id": "N6mSL4-CKlad",
        "colab": {
          "base_uri": "https://localhost:8080/"
        },
        "outputId": "ea5a6c87-2e2a-4fb8-86ff-531d0e0f78be"
      },
      "outputs": [
        {
          "output_type": "execute_result",
          "data": {
            "text/plain": [
              "SGD (\n",
              "Parameter Group 0\n",
              "    dampening: 0\n",
              "    lr: 0.3\n",
              "    maximize: False\n",
              "    momentum: 0\n",
              "    nesterov: False\n",
              "    weight_decay: 0\n",
              "\n",
              "Parameter Group 1\n",
              "    dampening: 0\n",
              "    lr: 0.5\n",
              "    maximize: False\n",
              "    momentum: 0\n",
              "    nesterov: False\n",
              "    weight_decay: 0\n",
              ")"
            ]
          },
          "metadata": {},
          "execution_count": 38
        }
      ],
      "source": [
        "# Зададим PyTorch модули в качестве словаря\n",
        "model = torch.nn.ModuleDict({\n",
        "    \"linear_1\": torch.nn.Linear(1, 1),\n",
        "    \"linear_2\": torch.nn.Linear(2, 2)\n",
        "})\n",
        "torch.optim.SGD([\n",
        "    {\"params\": model[\"linear_1\"].parameters(), \"lr\": 0.3},\n",
        "    {\"params\": model[\"linear_2\"].parameters()}\n",
        "], lr=0.5)"
      ]
    },
    {
      "cell_type": "markdown",
      "metadata": {
        "id": "WQDxdh1GKlae"
      },
      "source": [
        "Последнее очень полезно для Transfer Learning, когда мы хотим, чтобы предобученная модель тренировалась с другим learning rate"
      ]
    },
    {
      "cell_type": "markdown",
      "metadata": {
        "id": "VZdZPXYHKlaf"
      },
      "source": [
        "## Делаем свой Optimizer\n",
        "Для того чтобы сделать свой Optimizer, не нужно писать свою имплементацию каждой из основных функций. Достаточно переопределить только одну из них - **step**.\n",
        "\n",
        "Попробуем реализовать несколько своих Optimizer. В качестве данных для модели воспользуемся `make_regression` из `sklearn`."
      ]
    },
    {
      "cell_type": "code",
      "execution_count": 41,
      "metadata": {
        "id": "1b8flzKaKlaf"
      },
      "outputs": [],
      "source": [
        "from sklearn.datasets import make_regression\n",
        "\n",
        "\n",
        "def seed_everything(seed):\n",
        "    # Зафиксировать seed.\n",
        "    # Это понадобится, чтобы убедиться\n",
        "    # в правильности работы нашего Optimizer\n",
        "    random.seed(seed)\n",
        "    os.environ[\"PYTHONHASHSEED\"] = str(seed)\n",
        "    np.random.seed(seed)\n",
        "    torch.manual_seed(seed)\n",
        "    torch.cuda.manual_seed(seed)\n",
        "    torch.backends.cudnn.deterministic = True\n",
        "\n",
        "\n",
        "# make_regression возвращает 2 переменные: данные и таргет для них\n",
        "# так как они возвращаётся как np.array,\n",
        "# вызовем для каждого из них команду torch.from_numpy\n",
        "X, y = map(\n",
        "    lambda x: torch.from_numpy(x).float(),\n",
        "    make_regression(n_samples=200, n_features=2)\n",
        ")\n",
        "\n",
        "\n",
        "def get_model():\n",
        "    # Таким образом, мы при каждом вызове будем получить\n",
        "    # модель с одной и той же инициализацией весов\n",
        "    seed_everything(13)\n",
        "    return torch.nn.Sequential(\n",
        "        torch.nn.Linear(2, 10),\n",
        "        torch.nn.Linear(10, 1)\n",
        "    )"
      ]
    },
    {
      "cell_type": "markdown",
      "metadata": {
        "id": "NpeSZshxKlah"
      },
      "source": [
        "Как мы заметили ранее Optimizer работает с группами параметров. Поэтому нам необходимо делать отдельно update для каждой группы параметров (-> ещё один for loop)"
      ]
    },
    {
      "cell_type": "code",
      "execution_count": 42,
      "metadata": {
        "id": "bYqWlLS7Klah"
      },
      "outputs": [],
      "source": [
        "from torch.optim import Optimizer\n",
        "\n",
        "\n",
        "class InClassOptimizer(Optimizer):\n",
        "    def step(self):\n",
        "        \"\"\"Perform a single optimization step.\"\"\"\n",
        "        with torch.no_grad(): # выключим градиенты\n",
        "            for group in self.param_groups:\n",
        "                self._group_step(group)\n",
        "\n",
        "    def _group_step(self, group):\n",
        "        # group ~ dict[str, ...]\n",
        "        \"\"\"\n",
        "        Private helper function to perform\n",
        "        single optimization step on model parameters.\n",
        "        \"\"\"\n",
        "        raise NotImplementedError()"
      ]
    },
    {
      "cell_type": "code",
      "execution_count": null,
      "metadata": {
        "id": "TngP1dBKKlaq"
      },
      "outputs": [],
      "source": [
        "class Adagrad(InClassOptimizer):\n",
        "    def __init__(self, params, lr=0.001, eps=1e-13):\n",
        "        defaults = dict(lr=lr, eps=eps)\n",
        "        super().__init__(params, defaults)\n",
        "\n",
        "    def _group_step(self, group):\n",
        "        # One group contains information about values passed in init\n",
        "        # and model parameters to update\n",
        "        lr = group[\"lr\"]\n",
        "        eps = group[\"eps\"]\n",
        "        for param in filter(lambda x: x.grad is not None, group[\"params\"]):\n",
        "            # TODO:\n",
        "            # Your code here\n",
        "            # --------------\n",
        "            # --------------\n",
        "\n",
        "    def _get_adagrad_buffer(self, param):\n",
        "        \"\"\"\n",
        "        Get accumulated gradients for Adagrad.\n",
        "\n",
        "        Parameters\n",
        "        ----------\n",
        "        param : `torch.Tensor`, required\n",
        "            Model parameter to get accumulated gradeints for Adagrad.\n",
        "\n",
        "        Returns\n",
        "        -------\n",
        "        Accumulated Adagrad gradients for parameter.\n",
        "        \"\"\"\n",
        "        param_state = self.state[param]\n",
        "        \n",
        "        return param_state[\"adagrad_buffer\"]\n",
        "\n",
        "    def _init_adagrad_buffer(self, param):\n",
        "        \"\"\"\n",
        "        Initialize accumulated gradeints for SGD momentum.\n",
        "\n",
        "        Parameters\n",
        "        ----------\n",
        "        param : `torch.Tensor`, required\n",
        "            Model parameter to get accumulated gradeints for Adagrad.\n",
        "        \"\"\"\n",
        "        param_state = self.state[param]\n",
        "        if \"adagrad_buffer\" not in param_state:\n",
        "            param_state[\"adagrad_buffer\"] = torch.zeros_like(param)"
      ]
    },
    {
      "cell_type": "code",
      "execution_count": null,
      "metadata": {
        "id": "XhojHQMbraUQ"
      },
      "outputs": [],
      "source": [
        "def check_optimizer(model, optim, num_iter):\n",
        "    loss = torch.nn.MSELoss()\n",
        "    for i in range(num_iter):\n",
        "        output = loss(model(X), y.unsqueeze(-1))\n",
        "        output.backward()\n",
        "        optim.step()\n",
        "        optim.zero_grad()\n",
        "        if i % 100 == 0:\n",
        "            print(f\"Iteration {i} loss: {output.item()}\")"
      ]
    },
    {
      "cell_type": "markdown",
      "metadata": {
        "id": "cl7VOxBeo8qs"
      },
      "source": [
        "Проверим, что написанный Optimizer работает корректно"
      ]
    },
    {
      "cell_type": "code",
      "execution_count": null,
      "metadata": {
        "id": "wC70Q3ldKlar"
      },
      "outputs": [],
      "source": [
        "model = get_model()\n",
        "optim = Adagrad(model.parameters(), lr=0.001)\n",
        "check_optimizer(model, optim, num_iter=1000)"
      ]
    },
    {
      "cell_type": "code",
      "execution_count": null,
      "metadata": {
        "id": "UjOocoLXKlat"
      },
      "outputs": [],
      "source": [
        "model = get_model()\n",
        "optim = torch.optim.Adagrad(model.parameters(), lr=0.001)\n",
        "check_optimizer(model, optim, num_iter=1000)"
      ]
    },
    {
      "cell_type": "markdown",
      "metadata": {
        "id": "BtbewdZwKlat"
      },
      "source": [
        "Почему такой большой лосс?\n",
        "\n",
        "Если посмотреть на optim.state, то сразу становится ясно, что квадраты градиентов очень большие, следовательно, апдейт будет совсем небольшой.\n",
        "\n",
        "Повысим learning rate и посмотрим на поведение модели."
      ]
    },
    {
      "cell_type": "code",
      "execution_count": null,
      "metadata": {
        "id": "7iPosGPrpY-3"
      },
      "outputs": [],
      "source": [
        "model = get_model()\n",
        "optim = Adagrad(model.parameters(), lr=0.1)\n",
        "check_optimizer(model, optim, num_iter=1000)"
      ]
    },
    {
      "cell_type": "markdown",
      "metadata": {
        "id": "Jyw8oX6vpaO9"
      },
      "source": [
        "`Какая мораль?`\n",
        "\n",
        "Даже если у вас есть методы с адаптивным градиентом спуском, полностью забывать о настройке learning rate не стоит."
      ]
    },
    {
      "cell_type": "markdown",
      "metadata": {
        "id": "zj75tkPRKlau"
      },
      "source": [
        "## Сравнение методов оптимизации"
      ]
    },
    {
      "cell_type": "code",
      "execution_count": 39,
      "metadata": {
        "id": "hHAHgGdeKlau",
        "colab": {
          "base_uri": "https://localhost:8080/",
          "height": 423,
          "referenced_widgets": [
            "576b6bbab5ff425ca8a5fc523d75f507",
            "4dcad22f97df4f429d9898fe6b93dd48",
            "2c522b969a9944b5ba220f06698a44eb",
            "5ef81e33117d4f2dbe2a7a1bad072b27",
            "449da6ee6c304ec69738e931ac3029d9",
            "b2d32d3180ea46ab91303460bd6620f5",
            "f02d035dba8d4959b3cc00bf22b2f3d1",
            "be1b5299accc473ab8d636c5b97f627e",
            "6a5b5b82b155477ba3b543196613fcee",
            "5b334d796a0d4887b75f557f91dd3db8",
            "309b435a62ae4717b001645ec208afbd",
            "ca23631fe9024c6384772ea4cb0a1f5f",
            "886ad414b4c94bebb0f129aa8d996bff",
            "0ae37048b7094d5c9d270b35e0c14a96",
            "6f400baf2db84b9084d72cb9a38d60d7",
            "c86205ebc82340c6adc9a81d9dcf0f79",
            "0819f07fbf4241a8b53050641e86db33",
            "0a1f3f4affef4615bd8f2e327f90d8c8",
            "0b165677f30247dcb144b8adc15e436d",
            "e91742cf775b4625938572a0782971c4",
            "b28d4dab706d4cf4a6f5abe154e9c57c",
            "6a8b3a94eeeb4def92d2559f65b1bf29",
            "aa404341be994132814007fb23d9de3d",
            "7923eafe4b214baeaac09ecf58b0a08c",
            "e0409b7f60f14dfe87c1d7c7a2d00de6",
            "a3bf9a0b521448128c813e1b36c24b64",
            "48ef8672bb5243b0b8e1b3b184845437",
            "4fc023c5780842c4aec10d37a26f39ed",
            "797ac0145d984f7db9761af72140b4fc",
            "e3338fbcd3d5457693fe451bbdcd1244",
            "1635a4553c48442ea4dfbf2bc416f410",
            "b2683a04ac2b499789f0fe39ad85ad7f",
            "b2da1ce3e91243239315756ced042f7c",
            "82454ef6a5164095aefae3e62953c3bf",
            "52409787a94e4109a07314154b520795",
            "b7e41ee074034b829d64c8387c8b24d2",
            "55dc0cad10854519960e0da0406cb491",
            "edcd0042a04341e988b7b744800c1f6c",
            "243e6b22dee3497188f975a199b1684e",
            "591bf513c2e145a995b01bac0f48e8ef",
            "a5fced15013e4d089366f4b4ef894c70",
            "48beca66daa74b638926be9d78dc088e",
            "6af66745c0bd4f06be6d28f4b5996ffb",
            "3caab2ed846f4134b1e6c44559971830"
          ]
        },
        "outputId": "8747cf3c-91d3-4dae-ef92-d28d07b96a24"
      },
      "outputs": [
        {
          "output_type": "stream",
          "name": "stdout",
          "text": [
            "Downloading http://fashion-mnist.s3-website.eu-central-1.amazonaws.com/train-images-idx3-ubyte.gz\n",
            "Downloading http://fashion-mnist.s3-website.eu-central-1.amazonaws.com/train-images-idx3-ubyte.gz to ./data/FashionMNIST/raw/train-images-idx3-ubyte.gz\n"
          ]
        },
        {
          "output_type": "display_data",
          "data": {
            "text/plain": [
              "  0%|          | 0/26421880 [00:00<?, ?it/s]"
            ],
            "application/vnd.jupyter.widget-view+json": {
              "version_major": 2,
              "version_minor": 0,
              "model_id": "576b6bbab5ff425ca8a5fc523d75f507"
            }
          },
          "metadata": {}
        },
        {
          "output_type": "stream",
          "name": "stdout",
          "text": [
            "Extracting ./data/FashionMNIST/raw/train-images-idx3-ubyte.gz to ./data/FashionMNIST/raw\n",
            "\n",
            "Downloading http://fashion-mnist.s3-website.eu-central-1.amazonaws.com/train-labels-idx1-ubyte.gz\n",
            "Downloading http://fashion-mnist.s3-website.eu-central-1.amazonaws.com/train-labels-idx1-ubyte.gz to ./data/FashionMNIST/raw/train-labels-idx1-ubyte.gz\n"
          ]
        },
        {
          "output_type": "display_data",
          "data": {
            "text/plain": [
              "  0%|          | 0/29515 [00:00<?, ?it/s]"
            ],
            "application/vnd.jupyter.widget-view+json": {
              "version_major": 2,
              "version_minor": 0,
              "model_id": "ca23631fe9024c6384772ea4cb0a1f5f"
            }
          },
          "metadata": {}
        },
        {
          "output_type": "stream",
          "name": "stdout",
          "text": [
            "Extracting ./data/FashionMNIST/raw/train-labels-idx1-ubyte.gz to ./data/FashionMNIST/raw\n",
            "\n",
            "Downloading http://fashion-mnist.s3-website.eu-central-1.amazonaws.com/t10k-images-idx3-ubyte.gz\n",
            "Downloading http://fashion-mnist.s3-website.eu-central-1.amazonaws.com/t10k-images-idx3-ubyte.gz to ./data/FashionMNIST/raw/t10k-images-idx3-ubyte.gz\n"
          ]
        },
        {
          "output_type": "display_data",
          "data": {
            "text/plain": [
              "  0%|          | 0/4422102 [00:00<?, ?it/s]"
            ],
            "application/vnd.jupyter.widget-view+json": {
              "version_major": 2,
              "version_minor": 0,
              "model_id": "aa404341be994132814007fb23d9de3d"
            }
          },
          "metadata": {}
        },
        {
          "output_type": "stream",
          "name": "stdout",
          "text": [
            "Extracting ./data/FashionMNIST/raw/t10k-images-idx3-ubyte.gz to ./data/FashionMNIST/raw\n",
            "\n",
            "Downloading http://fashion-mnist.s3-website.eu-central-1.amazonaws.com/t10k-labels-idx1-ubyte.gz\n",
            "Downloading http://fashion-mnist.s3-website.eu-central-1.amazonaws.com/t10k-labels-idx1-ubyte.gz to ./data/FashionMNIST/raw/t10k-labels-idx1-ubyte.gz\n"
          ]
        },
        {
          "output_type": "display_data",
          "data": {
            "text/plain": [
              "  0%|          | 0/5148 [00:00<?, ?it/s]"
            ],
            "application/vnd.jupyter.widget-view+json": {
              "version_major": 2,
              "version_minor": 0,
              "model_id": "82454ef6a5164095aefae3e62953c3bf"
            }
          },
          "metadata": {}
        },
        {
          "output_type": "stream",
          "name": "stdout",
          "text": [
            "Extracting ./data/FashionMNIST/raw/t10k-labels-idx1-ubyte.gz to ./data/FashionMNIST/raw\n",
            "\n"
          ]
        }
      ],
      "source": [
        "import torchvision\n",
        "import torchvision.transforms as transforms\n",
        "from torch.utils.data import DataLoader\n",
        "\n",
        "\n",
        "# Train data\n",
        "fashion_mnist_train = torchvision.datasets.FashionMNIST(\n",
        "    \"./data\",\n",
        "    download=True,\n",
        "    transform=transforms.Compose([transforms.ToTensor()])\n",
        ")\n",
        "train_dataloader = DataLoader(\n",
        "    fashion_mnist_train, \n",
        "    batch_size=128, \n",
        "    shuffle=True, \n",
        "    num_workers=2\n",
        ")\n",
        "\n",
        "# Validation data\n",
        "fashion_mnist_eval = torchvision.datasets.FashionMNIST(\n",
        "    \"./data\",\n",
        "    train=False,\n",
        "    download=True,\n",
        "    transform=transforms.Compose([transforms.ToTensor()])\n",
        ")\n",
        "eval_dataloader = DataLoader(\n",
        "    fashion_mnist_eval, \n",
        "    batch_size=128, \n",
        "    num_workers=2\n",
        ")"
      ]
    },
    {
      "cell_type": "code",
      "execution_count": null,
      "metadata": {
        "id": "Sr1MKTjBKlaw"
      },
      "outputs": [],
      "source": [
        "from collections import defaultdict\n",
        "\n",
        "\n",
        "idx_to_label = defaultdict(lambda: None, {\n",
        "    0: \"T-shirt/Top\",\n",
        "    1: \"Trouser\",\n",
        "    2: \"Pullover\",\n",
        "    3: \"Dress\",\n",
        "    4: \"Coat\",\n",
        "    5: \"Sandal\",\n",
        "    6: \"Shirt\",\n",
        "    7: \"Sneaker\",\n",
        "    8: \"Bag\",\n",
        "    9: \"Ankle Boot\"\n",
        "})"
      ]
    },
    {
      "cell_type": "code",
      "execution_count": null,
      "metadata": {
        "id": "_Qe43gMTDRz7"
      },
      "outputs": [],
      "source": [
        "class Accuracy:\n",
        "    def __init__(self):\n",
        "        self._all_predictions = torch.LongTensor()\n",
        "        self._all_labels = torch.LongTensor()\n",
        "\n",
        "    def __call__(self, predictions, labels):\n",
        "        # predictions ~ (batch size)\n",
        "        # labels ~ (batch size)\n",
        "        self._all_predictions = torch.cat([\n",
        "            self._all_predictions,\n",
        "            predictions\n",
        "        ], dim=0)\n",
        "        self._all_labels = torch.cat([\n",
        "            self._all_labels,\n",
        "            labels\n",
        "        ], dim=0)\n",
        "\n",
        "    def get_metric(self, reset=False):\n",
        "        correct = (self._all_predictions == self._all_labels).long()\n",
        "        accuracy = correct.sum().float() / self._all_labels.size(0)\n",
        "        if reset:\n",
        "            self.reset()\n",
        "        return accuracy\n",
        "\n",
        "    def reset(self):\n",
        "        self._all_predictions = torch.LongTensor()\n",
        "        self._all_labels = torch.LongTensor()"
      ]
    },
    {
      "cell_type": "markdown",
      "metadata": {
        "id": "Q6Mf1W49f2Fv"
      },
      "source": [
        "# Модель\n",
        "\n",
        "1. BatchNorm\n",
        "2. Conv(out=32, kernel=3) -> ReLu -> MaxPool(kernel=2)\n",
        "3. Conv(out=64, kernel=3) -> ReLu -> MaxPool(kernel=2)\n",
        "4. Flatten\n",
        "5. Linear(out=128)\n",
        "6. ReLu\n",
        "7. Dropout\n",
        "8. Linear(out=64)\n",
        "9. ReLu\n",
        "10. Linear(out=10)\n",
        "\n"
      ]
    },
    {
      "cell_type": "code",
      "execution_count": null,
      "metadata": {
        "id": "QkHmFRSkKlay"
      },
      "outputs": [],
      "source": [
        "class SimpleNetEncoder(torch.nn.Module):\n",
        "    def __init__(self, dropout=0.4):\n",
        "        super().__init__()\n",
        "        # TODO:\n",
        "        # Your code here:\n",
        "        # --------------\n",
        "        # --------------\n",
        "\n",
        "    def forward(self, x):\n",
        "        # TODO:\n",
        "        # Your code here:\n",
        "        # --------------\n",
        "        # --------------\n",
        "\n",
        "\n",
        "class SimpleNet(torch.nn.Module):\n",
        "    def __init__(self, encoder):\n",
        "        super().__init__()\n",
        "        self._encoder = encoder\n",
        "        self._accuracy = Accuracy()\n",
        "\n",
        "    def forward(self, images, target=None):\n",
        "        # images ~ (batch size, num channels, height, width)\n",
        "        # target ~ (batch size)\n",
        "        # output ~ (batch size, num classes)\n",
        "        output = self._encoder(images)\n",
        "        output_dict = {\"logits\": output, \"probs\": torch.softmax(output, dim=-1)}\n",
        "        output_dict[\"preds\"] = torch.argmax(output_dict[\"probs\"], dim=-1)\n",
        "        if target is not None:\n",
        "            # CrossEntropy Loss\n",
        "            log_softmax = torch.log_softmax(output, dim=-1)\n",
        "            output_dict[\"loss\"] = F.nll_loss(log_softmax, target)\n",
        "            self._accuracy(\n",
        "                output_dict[\"preds\"].cpu(),\n",
        "                target.cpu()\n",
        "            )\n",
        "        return output_dict\n",
        "\n",
        "    def decode(self, output_dict):\n",
        "        # output_dict ~ dict with torch.Tensors (output_dict from forward)\n",
        "        return [idx_to_label[int(x)] for x in output_dict[\"preds\"]]\n",
        "\n",
        "    def get_metrics(self, reset=False):\n",
        "        return {\"accuracy\": self._accuracy.get_metric(reset)}"
      ]
    },
    {
      "cell_type": "code",
      "execution_count": null,
      "metadata": {
        "id": "EKZRgiLPKlaz"
      },
      "outputs": [],
      "source": [
        "def train_epoch(\n",
        "    model,\n",
        "    data_loader,\n",
        "    optimizer,\n",
        "    return_losses=False,\n",
        "    device=\"cuda:0\",\n",
        "):\n",
        "    model = model.train()\n",
        "    total_loss = 0\n",
        "    num_batches = 0\n",
        "    all_losses = []\n",
        "    with tqdm(total=len(data_loader), file=sys.stdout) as prbar:\n",
        "        for batch in data_loader:\n",
        "            # Move Batch to GPU\n",
        "            batch = [x.to(device=device) for x in batch]\n",
        "            output_dict = model(*batch)\n",
        "            loss = output_dict[\"loss\"]\n",
        "            # Update weights\n",
        "            loss.backward()\n",
        "            optimizer.step()\n",
        "            optimizer.zero_grad()\n",
        "            # Update descirption for tqdm\n",
        "            metrics = model.get_metrics()\n",
        "            prbar.set_description(\n",
        "                f\"Loss: {round(loss.item(), 4)} \"\n",
        "                f\"Accuracy: {round(metrics['accuracy'].item() * 100, 4)}\"\n",
        "            )\n",
        "            prbar.update(1)\n",
        "            total_loss += loss.item()\n",
        "            num_batches += 1\n",
        "            all_losses.append(loss.detach().item())\n",
        "    metrics = {\"loss\": total_loss / num_batches}\n",
        "    metrics.update(model.get_metrics(reset=True))\n",
        "    if return_losses:\n",
        "        return metrics, all_losses\n",
        "    else:\n",
        "        return metrics\n",
        "\n",
        "\n",
        "def validate(model, data_loader, device=\"cuda:0\"):\n",
        "    model = model.eval()\n",
        "    total_loss = 0\n",
        "    num_batches = 0\n",
        "    with tqdm(total=len(data_loader), file=sys.stdout) as prbar:\n",
        "        for batch in data_loader:\n",
        "            batch = [x.to(device=device, non_blocking=True) for x in batch]\n",
        "            output_dict = model(*batch)\n",
        "            loss = output_dict['loss']\n",
        "            metrics = model.get_metrics()\n",
        "            prbar.set_description(\n",
        "                f\"Loss: {round(loss.item(), 4)} \"\n",
        "                f\"Accuracy: {round(metrics['accuracy'].item() * 100, 4)}\"\n",
        "            )\n",
        "            prbar.update(1)\n",
        "            total_loss += loss.item()\n",
        "            num_batches += 1\n",
        "    metrics = {\"loss\": total_loss / num_batches}\n",
        "    metrics.update(model.get_metrics(reset=True))\n",
        "    return metrics"
      ]
    },
    {
      "cell_type": "code",
      "execution_count": null,
      "metadata": {
        "id": "JYsKPPGYiySX"
      },
      "outputs": [],
      "source": [
        "from collections import namedtuple\n",
        "\n",
        "\n",
        "LossInfo = namedtuple(\n",
        "    \"LossInfo\", \n",
        "    [\"full_train_losses\", \"train_epoch_losses\", \"eval_epoch_losses\"]\n",
        ")\n",
        "\n",
        "\n",
        "EPOCHS = 7\n",
        "LR = 0.001"
      ]
    },
    {
      "cell_type": "code",
      "execution_count": null,
      "metadata": {
        "id": "KmOlOzBnKla2"
      },
      "outputs": [],
      "source": [
        "def fit(\n",
        "    model,\n",
        "    epochs,\n",
        "    train_data_loader,\n",
        "    validation_data_loader,\n",
        "    optimizer,\n",
        "    device\n",
        "):\n",
        "    all_train_losses = []\n",
        "    epoch_train_losses = []\n",
        "    epoch_eval_losses = []\n",
        "    for epoch in range(epochs):\n",
        "        # Construct iterators\n",
        "        train_iterator = iter(train_data_loader)\n",
        "        validation_iterator = iter(validation_data_loader)\n",
        "        # Train step\n",
        "        print(f\"Train Epoch: {epoch}\")\n",
        "        train_metrics, one_epoch_train_losses = train_epoch(\n",
        "            model=model,\n",
        "            data_loader=train_iterator,\n",
        "            optimizer=optimizer,\n",
        "            return_losses=True,\n",
        "            device=device\n",
        "        )\n",
        "        # Save Train losses\n",
        "        all_train_losses.extend(one_epoch_train_losses)\n",
        "        epoch_train_losses.append(train_metrics[\"loss\"])\n",
        "        # Eval step\n",
        "        print(f\"Validation Epoch: {epoch}\")\n",
        "        with torch.no_grad():\n",
        "            validation_metrics = validate(\n",
        "                model=model,\n",
        "                data_loader=validation_iterator,\n",
        "                device=device\n",
        "            )\n",
        "        # Save eval losses\n",
        "        epoch_eval_losses.append(validation_metrics[\"loss\"])\n",
        "    return LossInfo(all_train_losses, epoch_train_losses, epoch_eval_losses)"
      ]
    },
    {
      "cell_type": "markdown",
      "metadata": {
        "id": "zFpxAPKzX58L"
      },
      "source": [
        "SGD"
      ]
    },
    {
      "cell_type": "code",
      "execution_count": null,
      "metadata": {
        "id": "Xe-wjJqEXzOY",
        "scrolled": false
      },
      "outputs": [],
      "source": [
        "device = \"cuda:0\" if torch.cuda.is_available() else \"cpu\"\n",
        "\n",
        "model = SimpleNet(encoder=SimpleNetEncoder()).to(device=device)\n",
        "sgd_loss_info = fit(\n",
        "    model=model,\n",
        "    epochs=EPOCHS,\n",
        "    train_data_loader=train_dataloader,\n",
        "    validation_data_loader=eval_dataloader,\n",
        "    optimizer=torch.optim.SGD(model.parameters(), lr=LR),\n",
        "    device=device\n",
        ")"
      ]
    },
    {
      "cell_type": "markdown",
      "metadata": {
        "id": "XNsHDEOuX_I8"
      },
      "source": [
        "\n",
        "SGD with Momentum"
      ]
    },
    {
      "cell_type": "code",
      "execution_count": null,
      "metadata": {
        "id": "WETr80TZXo1Z",
        "scrolled": false
      },
      "outputs": [],
      "source": [
        "model = SimpleNet(encoder=SimpleNetEncoder()).to(device=device)\n",
        "sgd_momentum_loss_info = fit(\n",
        "    model=model,\n",
        "    epochs=EPOCHS,\n",
        "    train_data_loader=train_dataloader,\n",
        "    validation_data_loader=eval_dataloader,\n",
        "    optimizer=torch.optim.SGD(model.parameters(), momentum=0.9, lr=LR),\n",
        "    device=device\n",
        ")"
      ]
    },
    {
      "cell_type": "markdown",
      "metadata": {
        "id": "ra4g-7ztvBC3"
      },
      "source": [
        "RMSprop"
      ]
    },
    {
      "cell_type": "code",
      "execution_count": null,
      "metadata": {
        "id": "pP7tS4gsu_7o",
        "scrolled": false
      },
      "outputs": [],
      "source": [
        "model = SimpleNet(encoder=SimpleNetEncoder()).to(device=device)\n",
        "rmsprop_loss_info = fit(\n",
        "    model=model,\n",
        "    epochs=EPOCHS,\n",
        "    train_data_loader=train_dataloader,\n",
        "    validation_data_loader=eval_dataloader,\n",
        "    optimizer=torch.optim.RMSprop(model.parameters(), lr=LR),\n",
        "    device=device\n",
        ")"
      ]
    },
    {
      "cell_type": "markdown",
      "metadata": {
        "id": "Y1-4TFPaYNFP"
      },
      "source": [
        "Adam"
      ]
    },
    {
      "cell_type": "code",
      "execution_count": null,
      "metadata": {
        "id": "AgDi8etcYKxL"
      },
      "outputs": [],
      "source": [
        "model = SimpleNet(encoder=SimpleNetEncoder()).to(device=device)\n",
        "adam_loss_info = fit(\n",
        "    model=model,\n",
        "    epochs=EPOCHS,\n",
        "    train_data_loader=train_dataloader,\n",
        "    validation_data_loader=eval_dataloader,\n",
        "    optimizer=torch.optim.Adam(model.parameters(), lr=LR),\n",
        "    device=device\n",
        ")"
      ]
    },
    {
      "cell_type": "code",
      "execution_count": null,
      "metadata": {
        "id": "OODJyp5udUmk"
      },
      "outputs": [],
      "source": [
        "plt.plot(\n",
        "    np.arange(len(train_dataloader) * EPOCHS),\n",
        "    sgd_loss_info.full_train_losses,\n",
        "    label=\"SGD\", c=\"grey\"\n",
        ")\n",
        "plt.plot(\n",
        "    np.arange(len(train_dataloader) * EPOCHS),\n",
        "    sgd_momentum_loss_info.full_train_losses,\n",
        "    label=\"SGD Momentum\", c=\"blue\"\n",
        ")\n",
        "plt.plot(\n",
        "    np.arange(len(train_dataloader) * EPOCHS),\n",
        "    rmsprop_loss_info.full_train_losses,\n",
        "    label=\"RMSProp\", c=\"green\"\n",
        ")\n",
        "plt.plot(\n",
        "    np.arange(len(train_dataloader) * EPOCHS),\n",
        "    adam_loss_info.full_train_losses,\n",
        "    label=\"Adam\", c=\"red\"\n",
        ")\n",
        "plt.legend()\n",
        "plt.show()"
      ]
    },
    {
      "cell_type": "code",
      "execution_count": null,
      "metadata": {
        "id": "IjrXHabteGSK"
      },
      "outputs": [],
      "source": [
        "plt.plot(\n",
        "    np.arange(EPOCHS), sgd_loss_info.eval_epoch_losses,\n",
        "    label=\"SGD\", c=\"grey\"\n",
        ")\n",
        "plt.plot(\n",
        "    np.arange(EPOCHS), sgd_momentum_loss_info.eval_epoch_losses,\n",
        "    label=\"SGD Momentum\", c=\"blue\"\n",
        ")\n",
        "plt.plot(\n",
        "    np.arange(EPOCHS), rmsprop_loss_info.eval_epoch_losses,\n",
        "    label=\"RMSprop\", c=\"green\"\n",
        ")\n",
        "plt.plot(\n",
        "    np.arange(EPOCHS), adam_loss_info.eval_epoch_losses,\n",
        "    label=\"Adam\", c=\"red\"\n",
        ")\n",
        "plt.legend()\n",
        "plt.show()"
      ]
    },
    {
      "cell_type": "markdown",
      "metadata": {
        "id": "9ixonnU2Kla3"
      },
      "source": [
        "## Оптимизация второго порядка\n",
        "Теперь вернёмся немного назад к функции $f(x)$ и рассмотрим оптимизацию второго порядка [методом Ньютона](https://streletzcoder.ru/nahozhdenit-lokalnyih-ekstremumov-funktsiy-s-pomoshhyu-metoda-nyutona/). Вместо того чтобы приближать функцию в текущей точке линейно можно это делать при помощи квадратов."
      ]
    },
    {
      "cell_type": "code",
      "execution_count": null,
      "metadata": {
        "id": "38Klo8Bp1w33"
      },
      "outputs": [],
      "source": [
        "d_2_func = lambda x: 6 * x - 4"
      ]
    },
    {
      "cell_type": "code",
      "execution_count": null,
      "metadata": {
        "id": "PlCaMEIgKla3"
      },
      "outputs": [],
      "source": [
        "def find_minimum_second_order(eps=1e-4, max_iterations=1000):\n",
        "    i = 0\n",
        "    x_old, x_new = 0, 2\n",
        "    x_list, y_list = [x_old], [func(x_old)]\n",
        "    while abs(x_new - x_old) > eps and i < max_iterations:\n",
        "        # Обновим x_old\n",
        "        x_old = x_new\n",
        "        # Сделаем один шаг gradient descent со 2 порядком градиентов\n",
        "        x_new = x_old - d_func(x_old) / d_2_func(x_old)\n",
        "        # Сохраним значения для визуализации\n",
        "        x_list.append(x_new)\n",
        "        y_list.append(func(x_new))\n",
        "        i += 1\n",
        "    print(\"Найденный локальный минимум:\", x_new)\n",
        "    print(\"Количество шагов:\", len(x_list))\n",
        "    # Визуализируем сходимость\n",
        "    plt.figure(figsize=[6, 4])\n",
        "    plt.ylim([-3, 8])\n",
        "    plt.scatter(x_list, y_list, c=\"r\", edgecolors=\"k\")\n",
        "    plt.plot(x_list, y_list, c=\"r\")\n",
        "    plt.plot(x, func(x), c=\"b\")\n",
        "    plt.title(\"Descent trajectory\")\n",
        "    plt.show()"
      ]
    },
    {
      "cell_type": "code",
      "execution_count": null,
      "metadata": {
        "id": "OJChBOk3Kla5"
      },
      "outputs": [],
      "source": [
        "find_minimum_second_order()"
      ]
    },
    {
      "cell_type": "markdown",
      "metadata": {
        "id": "idTHdfv7Kla6"
      },
      "source": [
        "В итоге мы пришли к минимуму гораздо быстрее. И если же методы второго порядка такие крутые и быстрые, то почему их не используют в нейронных сетях? Для ответа на этот вопрос сначала рассмотрим плюсы и минусы данного подхода.\n",
        "\n",
        "Плюсы методов второго порядка:\n",
        "* Быстрее, чем методы оптимизации первого порядка\n",
        "* Нет необходимости настраивать learning_rate\n",
        "\n",
        "Можете ли вы предположить минусы методов оптимизации второго порядка или же просто методов Ньютона?\n",
        "\n",
        "Ответ:\n",
        "* Сложность вычисления градиента второго порядка\n",
        "* В многомерном случае необходимо хранить матрицу размерности N x N\n",
        "\n",
        "Проблема с памятью наиболее острая, так как современные нейронные сети имеют миллионы параметров и хранить матрицу миллион на миллион очень сложно."
      ]
    },
    {
      "cell_type": "markdown",
      "metadata": {
        "id": "xEcFfzhaKla6"
      },
      "source": [
        "## Зачем мы вообще начали разговор о 2 порядке?\n",
        "Ответ в том, что методы с адаптивными градиентным являются аппроксимацией методов 2 порядка. Отсюда становится понятно, почему мы делим на матрицу квадратов в Adagrad и других его модификациях\n",
        "$$\n",
        "\\mathbb{E}[gg^{T}] \\sim \\mathbb{E}[H(x)]\n",
        "$$\n",
        "Здесь:\n",
        "* $gg^{T}$ - квадратная матрица квадратов градиентов\n",
        "* $\\mathbb{E}[H(x)]$ - ожидаемое значение Гессиана (матрица градиентов 2 порядка). В адаптивном градиенте разница лишь в том, что мы берём $\\sqrt{diag(gg^{T})}$, так как $gg^{T}$ занимает слишком много места."
      ]
    }
  ],
  "metadata": {
    "colab": {
      "collapsed_sections": [],
      "name": "seminar-04.intro-ds.ipynb",
      "provenance": []
    },
    "kernelspec": {
      "display_name": "Python 3",
      "language": "python",
      "name": "python3"
    },
    "language_info": {
      "codemirror_mode": {
        "name": "ipython",
        "version": 3
      },
      "file_extension": ".py",
      "mimetype": "text/x-python",
      "name": "python",
      "nbconvert_exporter": "python",
      "pygments_lexer": "ipython3",
      "version": "3.8.5"
    },
    "gpuClass": "standard",
    "widgets": {
      "application/vnd.jupyter.widget-state+json": {
        "576b6bbab5ff425ca8a5fc523d75f507": {
          "model_module": "@jupyter-widgets/controls",
          "model_name": "HBoxModel",
          "model_module_version": "1.5.0",
          "state": {
            "_dom_classes": [],
            "_model_module": "@jupyter-widgets/controls",
            "_model_module_version": "1.5.0",
            "_model_name": "HBoxModel",
            "_view_count": null,
            "_view_module": "@jupyter-widgets/controls",
            "_view_module_version": "1.5.0",
            "_view_name": "HBoxView",
            "box_style": "",
            "children": [
              "IPY_MODEL_4dcad22f97df4f429d9898fe6b93dd48",
              "IPY_MODEL_2c522b969a9944b5ba220f06698a44eb",
              "IPY_MODEL_5ef81e33117d4f2dbe2a7a1bad072b27"
            ],
            "layout": "IPY_MODEL_449da6ee6c304ec69738e931ac3029d9"
          }
        },
        "4dcad22f97df4f429d9898fe6b93dd48": {
          "model_module": "@jupyter-widgets/controls",
          "model_name": "HTMLModel",
          "model_module_version": "1.5.0",
          "state": {
            "_dom_classes": [],
            "_model_module": "@jupyter-widgets/controls",
            "_model_module_version": "1.5.0",
            "_model_name": "HTMLModel",
            "_view_count": null,
            "_view_module": "@jupyter-widgets/controls",
            "_view_module_version": "1.5.0",
            "_view_name": "HTMLView",
            "description": "",
            "description_tooltip": null,
            "layout": "IPY_MODEL_b2d32d3180ea46ab91303460bd6620f5",
            "placeholder": "​",
            "style": "IPY_MODEL_f02d035dba8d4959b3cc00bf22b2f3d1",
            "value": ""
          }
        },
        "2c522b969a9944b5ba220f06698a44eb": {
          "model_module": "@jupyter-widgets/controls",
          "model_name": "FloatProgressModel",
          "model_module_version": "1.5.0",
          "state": {
            "_dom_classes": [],
            "_model_module": "@jupyter-widgets/controls",
            "_model_module_version": "1.5.0",
            "_model_name": "FloatProgressModel",
            "_view_count": null,
            "_view_module": "@jupyter-widgets/controls",
            "_view_module_version": "1.5.0",
            "_view_name": "ProgressView",
            "bar_style": "success",
            "description": "",
            "description_tooltip": null,
            "layout": "IPY_MODEL_be1b5299accc473ab8d636c5b97f627e",
            "max": 26421880,
            "min": 0,
            "orientation": "horizontal",
            "style": "IPY_MODEL_6a5b5b82b155477ba3b543196613fcee",
            "value": 26421880
          }
        },
        "5ef81e33117d4f2dbe2a7a1bad072b27": {
          "model_module": "@jupyter-widgets/controls",
          "model_name": "HTMLModel",
          "model_module_version": "1.5.0",
          "state": {
            "_dom_classes": [],
            "_model_module": "@jupyter-widgets/controls",
            "_model_module_version": "1.5.0",
            "_model_name": "HTMLModel",
            "_view_count": null,
            "_view_module": "@jupyter-widgets/controls",
            "_view_module_version": "1.5.0",
            "_view_name": "HTMLView",
            "description": "",
            "description_tooltip": null,
            "layout": "IPY_MODEL_5b334d796a0d4887b75f557f91dd3db8",
            "placeholder": "​",
            "style": "IPY_MODEL_309b435a62ae4717b001645ec208afbd",
            "value": " 26422272/? [00:01&lt;00:00, 27137400.52it/s]"
          }
        },
        "449da6ee6c304ec69738e931ac3029d9": {
          "model_module": "@jupyter-widgets/base",
          "model_name": "LayoutModel",
          "model_module_version": "1.2.0",
          "state": {
            "_model_module": "@jupyter-widgets/base",
            "_model_module_version": "1.2.0",
            "_model_name": "LayoutModel",
            "_view_count": null,
            "_view_module": "@jupyter-widgets/base",
            "_view_module_version": "1.2.0",
            "_view_name": "LayoutView",
            "align_content": null,
            "align_items": null,
            "align_self": null,
            "border": null,
            "bottom": null,
            "display": null,
            "flex": null,
            "flex_flow": null,
            "grid_area": null,
            "grid_auto_columns": null,
            "grid_auto_flow": null,
            "grid_auto_rows": null,
            "grid_column": null,
            "grid_gap": null,
            "grid_row": null,
            "grid_template_areas": null,
            "grid_template_columns": null,
            "grid_template_rows": null,
            "height": null,
            "justify_content": null,
            "justify_items": null,
            "left": null,
            "margin": null,
            "max_height": null,
            "max_width": null,
            "min_height": null,
            "min_width": null,
            "object_fit": null,
            "object_position": null,
            "order": null,
            "overflow": null,
            "overflow_x": null,
            "overflow_y": null,
            "padding": null,
            "right": null,
            "top": null,
            "visibility": null,
            "width": null
          }
        },
        "b2d32d3180ea46ab91303460bd6620f5": {
          "model_module": "@jupyter-widgets/base",
          "model_name": "LayoutModel",
          "model_module_version": "1.2.0",
          "state": {
            "_model_module": "@jupyter-widgets/base",
            "_model_module_version": "1.2.0",
            "_model_name": "LayoutModel",
            "_view_count": null,
            "_view_module": "@jupyter-widgets/base",
            "_view_module_version": "1.2.0",
            "_view_name": "LayoutView",
            "align_content": null,
            "align_items": null,
            "align_self": null,
            "border": null,
            "bottom": null,
            "display": null,
            "flex": null,
            "flex_flow": null,
            "grid_area": null,
            "grid_auto_columns": null,
            "grid_auto_flow": null,
            "grid_auto_rows": null,
            "grid_column": null,
            "grid_gap": null,
            "grid_row": null,
            "grid_template_areas": null,
            "grid_template_columns": null,
            "grid_template_rows": null,
            "height": null,
            "justify_content": null,
            "justify_items": null,
            "left": null,
            "margin": null,
            "max_height": null,
            "max_width": null,
            "min_height": null,
            "min_width": null,
            "object_fit": null,
            "object_position": null,
            "order": null,
            "overflow": null,
            "overflow_x": null,
            "overflow_y": null,
            "padding": null,
            "right": null,
            "top": null,
            "visibility": null,
            "width": null
          }
        },
        "f02d035dba8d4959b3cc00bf22b2f3d1": {
          "model_module": "@jupyter-widgets/controls",
          "model_name": "DescriptionStyleModel",
          "model_module_version": "1.5.0",
          "state": {
            "_model_module": "@jupyter-widgets/controls",
            "_model_module_version": "1.5.0",
            "_model_name": "DescriptionStyleModel",
            "_view_count": null,
            "_view_module": "@jupyter-widgets/base",
            "_view_module_version": "1.2.0",
            "_view_name": "StyleView",
            "description_width": ""
          }
        },
        "be1b5299accc473ab8d636c5b97f627e": {
          "model_module": "@jupyter-widgets/base",
          "model_name": "LayoutModel",
          "model_module_version": "1.2.0",
          "state": {
            "_model_module": "@jupyter-widgets/base",
            "_model_module_version": "1.2.0",
            "_model_name": "LayoutModel",
            "_view_count": null,
            "_view_module": "@jupyter-widgets/base",
            "_view_module_version": "1.2.0",
            "_view_name": "LayoutView",
            "align_content": null,
            "align_items": null,
            "align_self": null,
            "border": null,
            "bottom": null,
            "display": null,
            "flex": null,
            "flex_flow": null,
            "grid_area": null,
            "grid_auto_columns": null,
            "grid_auto_flow": null,
            "grid_auto_rows": null,
            "grid_column": null,
            "grid_gap": null,
            "grid_row": null,
            "grid_template_areas": null,
            "grid_template_columns": null,
            "grid_template_rows": null,
            "height": null,
            "justify_content": null,
            "justify_items": null,
            "left": null,
            "margin": null,
            "max_height": null,
            "max_width": null,
            "min_height": null,
            "min_width": null,
            "object_fit": null,
            "object_position": null,
            "order": null,
            "overflow": null,
            "overflow_x": null,
            "overflow_y": null,
            "padding": null,
            "right": null,
            "top": null,
            "visibility": null,
            "width": null
          }
        },
        "6a5b5b82b155477ba3b543196613fcee": {
          "model_module": "@jupyter-widgets/controls",
          "model_name": "ProgressStyleModel",
          "model_module_version": "1.5.0",
          "state": {
            "_model_module": "@jupyter-widgets/controls",
            "_model_module_version": "1.5.0",
            "_model_name": "ProgressStyleModel",
            "_view_count": null,
            "_view_module": "@jupyter-widgets/base",
            "_view_module_version": "1.2.0",
            "_view_name": "StyleView",
            "bar_color": null,
            "description_width": ""
          }
        },
        "5b334d796a0d4887b75f557f91dd3db8": {
          "model_module": "@jupyter-widgets/base",
          "model_name": "LayoutModel",
          "model_module_version": "1.2.0",
          "state": {
            "_model_module": "@jupyter-widgets/base",
            "_model_module_version": "1.2.0",
            "_model_name": "LayoutModel",
            "_view_count": null,
            "_view_module": "@jupyter-widgets/base",
            "_view_module_version": "1.2.0",
            "_view_name": "LayoutView",
            "align_content": null,
            "align_items": null,
            "align_self": null,
            "border": null,
            "bottom": null,
            "display": null,
            "flex": null,
            "flex_flow": null,
            "grid_area": null,
            "grid_auto_columns": null,
            "grid_auto_flow": null,
            "grid_auto_rows": null,
            "grid_column": null,
            "grid_gap": null,
            "grid_row": null,
            "grid_template_areas": null,
            "grid_template_columns": null,
            "grid_template_rows": null,
            "height": null,
            "justify_content": null,
            "justify_items": null,
            "left": null,
            "margin": null,
            "max_height": null,
            "max_width": null,
            "min_height": null,
            "min_width": null,
            "object_fit": null,
            "object_position": null,
            "order": null,
            "overflow": null,
            "overflow_x": null,
            "overflow_y": null,
            "padding": null,
            "right": null,
            "top": null,
            "visibility": null,
            "width": null
          }
        },
        "309b435a62ae4717b001645ec208afbd": {
          "model_module": "@jupyter-widgets/controls",
          "model_name": "DescriptionStyleModel",
          "model_module_version": "1.5.0",
          "state": {
            "_model_module": "@jupyter-widgets/controls",
            "_model_module_version": "1.5.0",
            "_model_name": "DescriptionStyleModel",
            "_view_count": null,
            "_view_module": "@jupyter-widgets/base",
            "_view_module_version": "1.2.0",
            "_view_name": "StyleView",
            "description_width": ""
          }
        },
        "ca23631fe9024c6384772ea4cb0a1f5f": {
          "model_module": "@jupyter-widgets/controls",
          "model_name": "HBoxModel",
          "model_module_version": "1.5.0",
          "state": {
            "_dom_classes": [],
            "_model_module": "@jupyter-widgets/controls",
            "_model_module_version": "1.5.0",
            "_model_name": "HBoxModel",
            "_view_count": null,
            "_view_module": "@jupyter-widgets/controls",
            "_view_module_version": "1.5.0",
            "_view_name": "HBoxView",
            "box_style": "",
            "children": [
              "IPY_MODEL_886ad414b4c94bebb0f129aa8d996bff",
              "IPY_MODEL_0ae37048b7094d5c9d270b35e0c14a96",
              "IPY_MODEL_6f400baf2db84b9084d72cb9a38d60d7"
            ],
            "layout": "IPY_MODEL_c86205ebc82340c6adc9a81d9dcf0f79"
          }
        },
        "886ad414b4c94bebb0f129aa8d996bff": {
          "model_module": "@jupyter-widgets/controls",
          "model_name": "HTMLModel",
          "model_module_version": "1.5.0",
          "state": {
            "_dom_classes": [],
            "_model_module": "@jupyter-widgets/controls",
            "_model_module_version": "1.5.0",
            "_model_name": "HTMLModel",
            "_view_count": null,
            "_view_module": "@jupyter-widgets/controls",
            "_view_module_version": "1.5.0",
            "_view_name": "HTMLView",
            "description": "",
            "description_tooltip": null,
            "layout": "IPY_MODEL_0819f07fbf4241a8b53050641e86db33",
            "placeholder": "​",
            "style": "IPY_MODEL_0a1f3f4affef4615bd8f2e327f90d8c8",
            "value": ""
          }
        },
        "0ae37048b7094d5c9d270b35e0c14a96": {
          "model_module": "@jupyter-widgets/controls",
          "model_name": "FloatProgressModel",
          "model_module_version": "1.5.0",
          "state": {
            "_dom_classes": [],
            "_model_module": "@jupyter-widgets/controls",
            "_model_module_version": "1.5.0",
            "_model_name": "FloatProgressModel",
            "_view_count": null,
            "_view_module": "@jupyter-widgets/controls",
            "_view_module_version": "1.5.0",
            "_view_name": "ProgressView",
            "bar_style": "success",
            "description": "",
            "description_tooltip": null,
            "layout": "IPY_MODEL_0b165677f30247dcb144b8adc15e436d",
            "max": 29515,
            "min": 0,
            "orientation": "horizontal",
            "style": "IPY_MODEL_e91742cf775b4625938572a0782971c4",
            "value": 29515
          }
        },
        "6f400baf2db84b9084d72cb9a38d60d7": {
          "model_module": "@jupyter-widgets/controls",
          "model_name": "HTMLModel",
          "model_module_version": "1.5.0",
          "state": {
            "_dom_classes": [],
            "_model_module": "@jupyter-widgets/controls",
            "_model_module_version": "1.5.0",
            "_model_name": "HTMLModel",
            "_view_count": null,
            "_view_module": "@jupyter-widgets/controls",
            "_view_module_version": "1.5.0",
            "_view_name": "HTMLView",
            "description": "",
            "description_tooltip": null,
            "layout": "IPY_MODEL_b28d4dab706d4cf4a6f5abe154e9c57c",
            "placeholder": "​",
            "style": "IPY_MODEL_6a8b3a94eeeb4def92d2559f65b1bf29",
            "value": " 29696/? [00:00&lt;00:00, 326165.31it/s]"
          }
        },
        "c86205ebc82340c6adc9a81d9dcf0f79": {
          "model_module": "@jupyter-widgets/base",
          "model_name": "LayoutModel",
          "model_module_version": "1.2.0",
          "state": {
            "_model_module": "@jupyter-widgets/base",
            "_model_module_version": "1.2.0",
            "_model_name": "LayoutModel",
            "_view_count": null,
            "_view_module": "@jupyter-widgets/base",
            "_view_module_version": "1.2.0",
            "_view_name": "LayoutView",
            "align_content": null,
            "align_items": null,
            "align_self": null,
            "border": null,
            "bottom": null,
            "display": null,
            "flex": null,
            "flex_flow": null,
            "grid_area": null,
            "grid_auto_columns": null,
            "grid_auto_flow": null,
            "grid_auto_rows": null,
            "grid_column": null,
            "grid_gap": null,
            "grid_row": null,
            "grid_template_areas": null,
            "grid_template_columns": null,
            "grid_template_rows": null,
            "height": null,
            "justify_content": null,
            "justify_items": null,
            "left": null,
            "margin": null,
            "max_height": null,
            "max_width": null,
            "min_height": null,
            "min_width": null,
            "object_fit": null,
            "object_position": null,
            "order": null,
            "overflow": null,
            "overflow_x": null,
            "overflow_y": null,
            "padding": null,
            "right": null,
            "top": null,
            "visibility": null,
            "width": null
          }
        },
        "0819f07fbf4241a8b53050641e86db33": {
          "model_module": "@jupyter-widgets/base",
          "model_name": "LayoutModel",
          "model_module_version": "1.2.0",
          "state": {
            "_model_module": "@jupyter-widgets/base",
            "_model_module_version": "1.2.0",
            "_model_name": "LayoutModel",
            "_view_count": null,
            "_view_module": "@jupyter-widgets/base",
            "_view_module_version": "1.2.0",
            "_view_name": "LayoutView",
            "align_content": null,
            "align_items": null,
            "align_self": null,
            "border": null,
            "bottom": null,
            "display": null,
            "flex": null,
            "flex_flow": null,
            "grid_area": null,
            "grid_auto_columns": null,
            "grid_auto_flow": null,
            "grid_auto_rows": null,
            "grid_column": null,
            "grid_gap": null,
            "grid_row": null,
            "grid_template_areas": null,
            "grid_template_columns": null,
            "grid_template_rows": null,
            "height": null,
            "justify_content": null,
            "justify_items": null,
            "left": null,
            "margin": null,
            "max_height": null,
            "max_width": null,
            "min_height": null,
            "min_width": null,
            "object_fit": null,
            "object_position": null,
            "order": null,
            "overflow": null,
            "overflow_x": null,
            "overflow_y": null,
            "padding": null,
            "right": null,
            "top": null,
            "visibility": null,
            "width": null
          }
        },
        "0a1f3f4affef4615bd8f2e327f90d8c8": {
          "model_module": "@jupyter-widgets/controls",
          "model_name": "DescriptionStyleModel",
          "model_module_version": "1.5.0",
          "state": {
            "_model_module": "@jupyter-widgets/controls",
            "_model_module_version": "1.5.0",
            "_model_name": "DescriptionStyleModel",
            "_view_count": null,
            "_view_module": "@jupyter-widgets/base",
            "_view_module_version": "1.2.0",
            "_view_name": "StyleView",
            "description_width": ""
          }
        },
        "0b165677f30247dcb144b8adc15e436d": {
          "model_module": "@jupyter-widgets/base",
          "model_name": "LayoutModel",
          "model_module_version": "1.2.0",
          "state": {
            "_model_module": "@jupyter-widgets/base",
            "_model_module_version": "1.2.0",
            "_model_name": "LayoutModel",
            "_view_count": null,
            "_view_module": "@jupyter-widgets/base",
            "_view_module_version": "1.2.0",
            "_view_name": "LayoutView",
            "align_content": null,
            "align_items": null,
            "align_self": null,
            "border": null,
            "bottom": null,
            "display": null,
            "flex": null,
            "flex_flow": null,
            "grid_area": null,
            "grid_auto_columns": null,
            "grid_auto_flow": null,
            "grid_auto_rows": null,
            "grid_column": null,
            "grid_gap": null,
            "grid_row": null,
            "grid_template_areas": null,
            "grid_template_columns": null,
            "grid_template_rows": null,
            "height": null,
            "justify_content": null,
            "justify_items": null,
            "left": null,
            "margin": null,
            "max_height": null,
            "max_width": null,
            "min_height": null,
            "min_width": null,
            "object_fit": null,
            "object_position": null,
            "order": null,
            "overflow": null,
            "overflow_x": null,
            "overflow_y": null,
            "padding": null,
            "right": null,
            "top": null,
            "visibility": null,
            "width": null
          }
        },
        "e91742cf775b4625938572a0782971c4": {
          "model_module": "@jupyter-widgets/controls",
          "model_name": "ProgressStyleModel",
          "model_module_version": "1.5.0",
          "state": {
            "_model_module": "@jupyter-widgets/controls",
            "_model_module_version": "1.5.0",
            "_model_name": "ProgressStyleModel",
            "_view_count": null,
            "_view_module": "@jupyter-widgets/base",
            "_view_module_version": "1.2.0",
            "_view_name": "StyleView",
            "bar_color": null,
            "description_width": ""
          }
        },
        "b28d4dab706d4cf4a6f5abe154e9c57c": {
          "model_module": "@jupyter-widgets/base",
          "model_name": "LayoutModel",
          "model_module_version": "1.2.0",
          "state": {
            "_model_module": "@jupyter-widgets/base",
            "_model_module_version": "1.2.0",
            "_model_name": "LayoutModel",
            "_view_count": null,
            "_view_module": "@jupyter-widgets/base",
            "_view_module_version": "1.2.0",
            "_view_name": "LayoutView",
            "align_content": null,
            "align_items": null,
            "align_self": null,
            "border": null,
            "bottom": null,
            "display": null,
            "flex": null,
            "flex_flow": null,
            "grid_area": null,
            "grid_auto_columns": null,
            "grid_auto_flow": null,
            "grid_auto_rows": null,
            "grid_column": null,
            "grid_gap": null,
            "grid_row": null,
            "grid_template_areas": null,
            "grid_template_columns": null,
            "grid_template_rows": null,
            "height": null,
            "justify_content": null,
            "justify_items": null,
            "left": null,
            "margin": null,
            "max_height": null,
            "max_width": null,
            "min_height": null,
            "min_width": null,
            "object_fit": null,
            "object_position": null,
            "order": null,
            "overflow": null,
            "overflow_x": null,
            "overflow_y": null,
            "padding": null,
            "right": null,
            "top": null,
            "visibility": null,
            "width": null
          }
        },
        "6a8b3a94eeeb4def92d2559f65b1bf29": {
          "model_module": "@jupyter-widgets/controls",
          "model_name": "DescriptionStyleModel",
          "model_module_version": "1.5.0",
          "state": {
            "_model_module": "@jupyter-widgets/controls",
            "_model_module_version": "1.5.0",
            "_model_name": "DescriptionStyleModel",
            "_view_count": null,
            "_view_module": "@jupyter-widgets/base",
            "_view_module_version": "1.2.0",
            "_view_name": "StyleView",
            "description_width": ""
          }
        },
        "aa404341be994132814007fb23d9de3d": {
          "model_module": "@jupyter-widgets/controls",
          "model_name": "HBoxModel",
          "model_module_version": "1.5.0",
          "state": {
            "_dom_classes": [],
            "_model_module": "@jupyter-widgets/controls",
            "_model_module_version": "1.5.0",
            "_model_name": "HBoxModel",
            "_view_count": null,
            "_view_module": "@jupyter-widgets/controls",
            "_view_module_version": "1.5.0",
            "_view_name": "HBoxView",
            "box_style": "",
            "children": [
              "IPY_MODEL_7923eafe4b214baeaac09ecf58b0a08c",
              "IPY_MODEL_e0409b7f60f14dfe87c1d7c7a2d00de6",
              "IPY_MODEL_a3bf9a0b521448128c813e1b36c24b64"
            ],
            "layout": "IPY_MODEL_48ef8672bb5243b0b8e1b3b184845437"
          }
        },
        "7923eafe4b214baeaac09ecf58b0a08c": {
          "model_module": "@jupyter-widgets/controls",
          "model_name": "HTMLModel",
          "model_module_version": "1.5.0",
          "state": {
            "_dom_classes": [],
            "_model_module": "@jupyter-widgets/controls",
            "_model_module_version": "1.5.0",
            "_model_name": "HTMLModel",
            "_view_count": null,
            "_view_module": "@jupyter-widgets/controls",
            "_view_module_version": "1.5.0",
            "_view_name": "HTMLView",
            "description": "",
            "description_tooltip": null,
            "layout": "IPY_MODEL_4fc023c5780842c4aec10d37a26f39ed",
            "placeholder": "​",
            "style": "IPY_MODEL_797ac0145d984f7db9761af72140b4fc",
            "value": ""
          }
        },
        "e0409b7f60f14dfe87c1d7c7a2d00de6": {
          "model_module": "@jupyter-widgets/controls",
          "model_name": "FloatProgressModel",
          "model_module_version": "1.5.0",
          "state": {
            "_dom_classes": [],
            "_model_module": "@jupyter-widgets/controls",
            "_model_module_version": "1.5.0",
            "_model_name": "FloatProgressModel",
            "_view_count": null,
            "_view_module": "@jupyter-widgets/controls",
            "_view_module_version": "1.5.0",
            "_view_name": "ProgressView",
            "bar_style": "success",
            "description": "",
            "description_tooltip": null,
            "layout": "IPY_MODEL_e3338fbcd3d5457693fe451bbdcd1244",
            "max": 4422102,
            "min": 0,
            "orientation": "horizontal",
            "style": "IPY_MODEL_1635a4553c48442ea4dfbf2bc416f410",
            "value": 4422102
          }
        },
        "a3bf9a0b521448128c813e1b36c24b64": {
          "model_module": "@jupyter-widgets/controls",
          "model_name": "HTMLModel",
          "model_module_version": "1.5.0",
          "state": {
            "_dom_classes": [],
            "_model_module": "@jupyter-widgets/controls",
            "_model_module_version": "1.5.0",
            "_model_name": "HTMLModel",
            "_view_count": null,
            "_view_module": "@jupyter-widgets/controls",
            "_view_module_version": "1.5.0",
            "_view_name": "HTMLView",
            "description": "",
            "description_tooltip": null,
            "layout": "IPY_MODEL_b2683a04ac2b499789f0fe39ad85ad7f",
            "placeholder": "​",
            "style": "IPY_MODEL_b2da1ce3e91243239315756ced042f7c",
            "value": " 4422656/? [00:00&lt;00:00, 6952846.14it/s]"
          }
        },
        "48ef8672bb5243b0b8e1b3b184845437": {
          "model_module": "@jupyter-widgets/base",
          "model_name": "LayoutModel",
          "model_module_version": "1.2.0",
          "state": {
            "_model_module": "@jupyter-widgets/base",
            "_model_module_version": "1.2.0",
            "_model_name": "LayoutModel",
            "_view_count": null,
            "_view_module": "@jupyter-widgets/base",
            "_view_module_version": "1.2.0",
            "_view_name": "LayoutView",
            "align_content": null,
            "align_items": null,
            "align_self": null,
            "border": null,
            "bottom": null,
            "display": null,
            "flex": null,
            "flex_flow": null,
            "grid_area": null,
            "grid_auto_columns": null,
            "grid_auto_flow": null,
            "grid_auto_rows": null,
            "grid_column": null,
            "grid_gap": null,
            "grid_row": null,
            "grid_template_areas": null,
            "grid_template_columns": null,
            "grid_template_rows": null,
            "height": null,
            "justify_content": null,
            "justify_items": null,
            "left": null,
            "margin": null,
            "max_height": null,
            "max_width": null,
            "min_height": null,
            "min_width": null,
            "object_fit": null,
            "object_position": null,
            "order": null,
            "overflow": null,
            "overflow_x": null,
            "overflow_y": null,
            "padding": null,
            "right": null,
            "top": null,
            "visibility": null,
            "width": null
          }
        },
        "4fc023c5780842c4aec10d37a26f39ed": {
          "model_module": "@jupyter-widgets/base",
          "model_name": "LayoutModel",
          "model_module_version": "1.2.0",
          "state": {
            "_model_module": "@jupyter-widgets/base",
            "_model_module_version": "1.2.0",
            "_model_name": "LayoutModel",
            "_view_count": null,
            "_view_module": "@jupyter-widgets/base",
            "_view_module_version": "1.2.0",
            "_view_name": "LayoutView",
            "align_content": null,
            "align_items": null,
            "align_self": null,
            "border": null,
            "bottom": null,
            "display": null,
            "flex": null,
            "flex_flow": null,
            "grid_area": null,
            "grid_auto_columns": null,
            "grid_auto_flow": null,
            "grid_auto_rows": null,
            "grid_column": null,
            "grid_gap": null,
            "grid_row": null,
            "grid_template_areas": null,
            "grid_template_columns": null,
            "grid_template_rows": null,
            "height": null,
            "justify_content": null,
            "justify_items": null,
            "left": null,
            "margin": null,
            "max_height": null,
            "max_width": null,
            "min_height": null,
            "min_width": null,
            "object_fit": null,
            "object_position": null,
            "order": null,
            "overflow": null,
            "overflow_x": null,
            "overflow_y": null,
            "padding": null,
            "right": null,
            "top": null,
            "visibility": null,
            "width": null
          }
        },
        "797ac0145d984f7db9761af72140b4fc": {
          "model_module": "@jupyter-widgets/controls",
          "model_name": "DescriptionStyleModel",
          "model_module_version": "1.5.0",
          "state": {
            "_model_module": "@jupyter-widgets/controls",
            "_model_module_version": "1.5.0",
            "_model_name": "DescriptionStyleModel",
            "_view_count": null,
            "_view_module": "@jupyter-widgets/base",
            "_view_module_version": "1.2.0",
            "_view_name": "StyleView",
            "description_width": ""
          }
        },
        "e3338fbcd3d5457693fe451bbdcd1244": {
          "model_module": "@jupyter-widgets/base",
          "model_name": "LayoutModel",
          "model_module_version": "1.2.0",
          "state": {
            "_model_module": "@jupyter-widgets/base",
            "_model_module_version": "1.2.0",
            "_model_name": "LayoutModel",
            "_view_count": null,
            "_view_module": "@jupyter-widgets/base",
            "_view_module_version": "1.2.0",
            "_view_name": "LayoutView",
            "align_content": null,
            "align_items": null,
            "align_self": null,
            "border": null,
            "bottom": null,
            "display": null,
            "flex": null,
            "flex_flow": null,
            "grid_area": null,
            "grid_auto_columns": null,
            "grid_auto_flow": null,
            "grid_auto_rows": null,
            "grid_column": null,
            "grid_gap": null,
            "grid_row": null,
            "grid_template_areas": null,
            "grid_template_columns": null,
            "grid_template_rows": null,
            "height": null,
            "justify_content": null,
            "justify_items": null,
            "left": null,
            "margin": null,
            "max_height": null,
            "max_width": null,
            "min_height": null,
            "min_width": null,
            "object_fit": null,
            "object_position": null,
            "order": null,
            "overflow": null,
            "overflow_x": null,
            "overflow_y": null,
            "padding": null,
            "right": null,
            "top": null,
            "visibility": null,
            "width": null
          }
        },
        "1635a4553c48442ea4dfbf2bc416f410": {
          "model_module": "@jupyter-widgets/controls",
          "model_name": "ProgressStyleModel",
          "model_module_version": "1.5.0",
          "state": {
            "_model_module": "@jupyter-widgets/controls",
            "_model_module_version": "1.5.0",
            "_model_name": "ProgressStyleModel",
            "_view_count": null,
            "_view_module": "@jupyter-widgets/base",
            "_view_module_version": "1.2.0",
            "_view_name": "StyleView",
            "bar_color": null,
            "description_width": ""
          }
        },
        "b2683a04ac2b499789f0fe39ad85ad7f": {
          "model_module": "@jupyter-widgets/base",
          "model_name": "LayoutModel",
          "model_module_version": "1.2.0",
          "state": {
            "_model_module": "@jupyter-widgets/base",
            "_model_module_version": "1.2.0",
            "_model_name": "LayoutModel",
            "_view_count": null,
            "_view_module": "@jupyter-widgets/base",
            "_view_module_version": "1.2.0",
            "_view_name": "LayoutView",
            "align_content": null,
            "align_items": null,
            "align_self": null,
            "border": null,
            "bottom": null,
            "display": null,
            "flex": null,
            "flex_flow": null,
            "grid_area": null,
            "grid_auto_columns": null,
            "grid_auto_flow": null,
            "grid_auto_rows": null,
            "grid_column": null,
            "grid_gap": null,
            "grid_row": null,
            "grid_template_areas": null,
            "grid_template_columns": null,
            "grid_template_rows": null,
            "height": null,
            "justify_content": null,
            "justify_items": null,
            "left": null,
            "margin": null,
            "max_height": null,
            "max_width": null,
            "min_height": null,
            "min_width": null,
            "object_fit": null,
            "object_position": null,
            "order": null,
            "overflow": null,
            "overflow_x": null,
            "overflow_y": null,
            "padding": null,
            "right": null,
            "top": null,
            "visibility": null,
            "width": null
          }
        },
        "b2da1ce3e91243239315756ced042f7c": {
          "model_module": "@jupyter-widgets/controls",
          "model_name": "DescriptionStyleModel",
          "model_module_version": "1.5.0",
          "state": {
            "_model_module": "@jupyter-widgets/controls",
            "_model_module_version": "1.5.0",
            "_model_name": "DescriptionStyleModel",
            "_view_count": null,
            "_view_module": "@jupyter-widgets/base",
            "_view_module_version": "1.2.0",
            "_view_name": "StyleView",
            "description_width": ""
          }
        },
        "82454ef6a5164095aefae3e62953c3bf": {
          "model_module": "@jupyter-widgets/controls",
          "model_name": "HBoxModel",
          "model_module_version": "1.5.0",
          "state": {
            "_dom_classes": [],
            "_model_module": "@jupyter-widgets/controls",
            "_model_module_version": "1.5.0",
            "_model_name": "HBoxModel",
            "_view_count": null,
            "_view_module": "@jupyter-widgets/controls",
            "_view_module_version": "1.5.0",
            "_view_name": "HBoxView",
            "box_style": "",
            "children": [
              "IPY_MODEL_52409787a94e4109a07314154b520795",
              "IPY_MODEL_b7e41ee074034b829d64c8387c8b24d2",
              "IPY_MODEL_55dc0cad10854519960e0da0406cb491"
            ],
            "layout": "IPY_MODEL_edcd0042a04341e988b7b744800c1f6c"
          }
        },
        "52409787a94e4109a07314154b520795": {
          "model_module": "@jupyter-widgets/controls",
          "model_name": "HTMLModel",
          "model_module_version": "1.5.0",
          "state": {
            "_dom_classes": [],
            "_model_module": "@jupyter-widgets/controls",
            "_model_module_version": "1.5.0",
            "_model_name": "HTMLModel",
            "_view_count": null,
            "_view_module": "@jupyter-widgets/controls",
            "_view_module_version": "1.5.0",
            "_view_name": "HTMLView",
            "description": "",
            "description_tooltip": null,
            "layout": "IPY_MODEL_243e6b22dee3497188f975a199b1684e",
            "placeholder": "​",
            "style": "IPY_MODEL_591bf513c2e145a995b01bac0f48e8ef",
            "value": ""
          }
        },
        "b7e41ee074034b829d64c8387c8b24d2": {
          "model_module": "@jupyter-widgets/controls",
          "model_name": "FloatProgressModel",
          "model_module_version": "1.5.0",
          "state": {
            "_dom_classes": [],
            "_model_module": "@jupyter-widgets/controls",
            "_model_module_version": "1.5.0",
            "_model_name": "FloatProgressModel",
            "_view_count": null,
            "_view_module": "@jupyter-widgets/controls",
            "_view_module_version": "1.5.0",
            "_view_name": "ProgressView",
            "bar_style": "success",
            "description": "",
            "description_tooltip": null,
            "layout": "IPY_MODEL_a5fced15013e4d089366f4b4ef894c70",
            "max": 5148,
            "min": 0,
            "orientation": "horizontal",
            "style": "IPY_MODEL_48beca66daa74b638926be9d78dc088e",
            "value": 5148
          }
        },
        "55dc0cad10854519960e0da0406cb491": {
          "model_module": "@jupyter-widgets/controls",
          "model_name": "HTMLModel",
          "model_module_version": "1.5.0",
          "state": {
            "_dom_classes": [],
            "_model_module": "@jupyter-widgets/controls",
            "_model_module_version": "1.5.0",
            "_model_name": "HTMLModel",
            "_view_count": null,
            "_view_module": "@jupyter-widgets/controls",
            "_view_module_version": "1.5.0",
            "_view_name": "HTMLView",
            "description": "",
            "description_tooltip": null,
            "layout": "IPY_MODEL_6af66745c0bd4f06be6d28f4b5996ffb",
            "placeholder": "​",
            "style": "IPY_MODEL_3caab2ed846f4134b1e6c44559971830",
            "value": " 6144/? [00:00&lt;00:00, 116198.49it/s]"
          }
        },
        "edcd0042a04341e988b7b744800c1f6c": {
          "model_module": "@jupyter-widgets/base",
          "model_name": "LayoutModel",
          "model_module_version": "1.2.0",
          "state": {
            "_model_module": "@jupyter-widgets/base",
            "_model_module_version": "1.2.0",
            "_model_name": "LayoutModel",
            "_view_count": null,
            "_view_module": "@jupyter-widgets/base",
            "_view_module_version": "1.2.0",
            "_view_name": "LayoutView",
            "align_content": null,
            "align_items": null,
            "align_self": null,
            "border": null,
            "bottom": null,
            "display": null,
            "flex": null,
            "flex_flow": null,
            "grid_area": null,
            "grid_auto_columns": null,
            "grid_auto_flow": null,
            "grid_auto_rows": null,
            "grid_column": null,
            "grid_gap": null,
            "grid_row": null,
            "grid_template_areas": null,
            "grid_template_columns": null,
            "grid_template_rows": null,
            "height": null,
            "justify_content": null,
            "justify_items": null,
            "left": null,
            "margin": null,
            "max_height": null,
            "max_width": null,
            "min_height": null,
            "min_width": null,
            "object_fit": null,
            "object_position": null,
            "order": null,
            "overflow": null,
            "overflow_x": null,
            "overflow_y": null,
            "padding": null,
            "right": null,
            "top": null,
            "visibility": null,
            "width": null
          }
        },
        "243e6b22dee3497188f975a199b1684e": {
          "model_module": "@jupyter-widgets/base",
          "model_name": "LayoutModel",
          "model_module_version": "1.2.0",
          "state": {
            "_model_module": "@jupyter-widgets/base",
            "_model_module_version": "1.2.0",
            "_model_name": "LayoutModel",
            "_view_count": null,
            "_view_module": "@jupyter-widgets/base",
            "_view_module_version": "1.2.0",
            "_view_name": "LayoutView",
            "align_content": null,
            "align_items": null,
            "align_self": null,
            "border": null,
            "bottom": null,
            "display": null,
            "flex": null,
            "flex_flow": null,
            "grid_area": null,
            "grid_auto_columns": null,
            "grid_auto_flow": null,
            "grid_auto_rows": null,
            "grid_column": null,
            "grid_gap": null,
            "grid_row": null,
            "grid_template_areas": null,
            "grid_template_columns": null,
            "grid_template_rows": null,
            "height": null,
            "justify_content": null,
            "justify_items": null,
            "left": null,
            "margin": null,
            "max_height": null,
            "max_width": null,
            "min_height": null,
            "min_width": null,
            "object_fit": null,
            "object_position": null,
            "order": null,
            "overflow": null,
            "overflow_x": null,
            "overflow_y": null,
            "padding": null,
            "right": null,
            "top": null,
            "visibility": null,
            "width": null
          }
        },
        "591bf513c2e145a995b01bac0f48e8ef": {
          "model_module": "@jupyter-widgets/controls",
          "model_name": "DescriptionStyleModel",
          "model_module_version": "1.5.0",
          "state": {
            "_model_module": "@jupyter-widgets/controls",
            "_model_module_version": "1.5.0",
            "_model_name": "DescriptionStyleModel",
            "_view_count": null,
            "_view_module": "@jupyter-widgets/base",
            "_view_module_version": "1.2.0",
            "_view_name": "StyleView",
            "description_width": ""
          }
        },
        "a5fced15013e4d089366f4b4ef894c70": {
          "model_module": "@jupyter-widgets/base",
          "model_name": "LayoutModel",
          "model_module_version": "1.2.0",
          "state": {
            "_model_module": "@jupyter-widgets/base",
            "_model_module_version": "1.2.0",
            "_model_name": "LayoutModel",
            "_view_count": null,
            "_view_module": "@jupyter-widgets/base",
            "_view_module_version": "1.2.0",
            "_view_name": "LayoutView",
            "align_content": null,
            "align_items": null,
            "align_self": null,
            "border": null,
            "bottom": null,
            "display": null,
            "flex": null,
            "flex_flow": null,
            "grid_area": null,
            "grid_auto_columns": null,
            "grid_auto_flow": null,
            "grid_auto_rows": null,
            "grid_column": null,
            "grid_gap": null,
            "grid_row": null,
            "grid_template_areas": null,
            "grid_template_columns": null,
            "grid_template_rows": null,
            "height": null,
            "justify_content": null,
            "justify_items": null,
            "left": null,
            "margin": null,
            "max_height": null,
            "max_width": null,
            "min_height": null,
            "min_width": null,
            "object_fit": null,
            "object_position": null,
            "order": null,
            "overflow": null,
            "overflow_x": null,
            "overflow_y": null,
            "padding": null,
            "right": null,
            "top": null,
            "visibility": null,
            "width": null
          }
        },
        "48beca66daa74b638926be9d78dc088e": {
          "model_module": "@jupyter-widgets/controls",
          "model_name": "ProgressStyleModel",
          "model_module_version": "1.5.0",
          "state": {
            "_model_module": "@jupyter-widgets/controls",
            "_model_module_version": "1.5.0",
            "_model_name": "ProgressStyleModel",
            "_view_count": null,
            "_view_module": "@jupyter-widgets/base",
            "_view_module_version": "1.2.0",
            "_view_name": "StyleView",
            "bar_color": null,
            "description_width": ""
          }
        },
        "6af66745c0bd4f06be6d28f4b5996ffb": {
          "model_module": "@jupyter-widgets/base",
          "model_name": "LayoutModel",
          "model_module_version": "1.2.0",
          "state": {
            "_model_module": "@jupyter-widgets/base",
            "_model_module_version": "1.2.0",
            "_model_name": "LayoutModel",
            "_view_count": null,
            "_view_module": "@jupyter-widgets/base",
            "_view_module_version": "1.2.0",
            "_view_name": "LayoutView",
            "align_content": null,
            "align_items": null,
            "align_self": null,
            "border": null,
            "bottom": null,
            "display": null,
            "flex": null,
            "flex_flow": null,
            "grid_area": null,
            "grid_auto_columns": null,
            "grid_auto_flow": null,
            "grid_auto_rows": null,
            "grid_column": null,
            "grid_gap": null,
            "grid_row": null,
            "grid_template_areas": null,
            "grid_template_columns": null,
            "grid_template_rows": null,
            "height": null,
            "justify_content": null,
            "justify_items": null,
            "left": null,
            "margin": null,
            "max_height": null,
            "max_width": null,
            "min_height": null,
            "min_width": null,
            "object_fit": null,
            "object_position": null,
            "order": null,
            "overflow": null,
            "overflow_x": null,
            "overflow_y": null,
            "padding": null,
            "right": null,
            "top": null,
            "visibility": null,
            "width": null
          }
        },
        "3caab2ed846f4134b1e6c44559971830": {
          "model_module": "@jupyter-widgets/controls",
          "model_name": "DescriptionStyleModel",
          "model_module_version": "1.5.0",
          "state": {
            "_model_module": "@jupyter-widgets/controls",
            "_model_module_version": "1.5.0",
            "_model_name": "DescriptionStyleModel",
            "_view_count": null,
            "_view_module": "@jupyter-widgets/base",
            "_view_module_version": "1.2.0",
            "_view_name": "StyleView",
            "description_width": ""
          }
        }
      }
    }
  },
  "nbformat": 4,
  "nbformat_minor": 0
}